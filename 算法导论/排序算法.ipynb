{
 "cells": [
  {
   "cell_type": "markdown",
   "metadata": {
    "slideshow": {
     "slide_type": "slide"
    }
   },
   "source": [
    "# 排序算法对比\n",
    "\n",
    "排序算法分为**基于比较的算法**和**非基于比较的算法**两大类，其中基于比较的算法时间复杂度下限为$O(n^2)$，算法的实现版本较多（如：插入排序、冒泡排序、归并排序、快速排序和堆排序）。而非基于比较的算法时间复杂度下限为$O(n)$，但是需要一些额外的先验条件和内存开销（这里只介绍：桶排序）。  \n",
    "下表列出了常用的排序算法的复杂度和应用场景：\n",
    "\n",
    "|算法|时间复杂度|空间复杂度|稳定性|\n",
    "|:----:|:------|:---------|:-------|\n",
    "| **插入排序** (Insert sort) | $O(n^2)$ | $O(1)$ | 稳定 |\n",
    "| **冒泡排序** (Bubble sort) | $O(n^2)$ | $O(1)$ |  稳定 |\n",
    "| **归并排序** (Merge sort) | $O(n \\cdot log_2^n)$| $O(n)$ | 稳定 |\n",
    "| **快速排序** (Quick sort) | 平均：$O(n \\cdot log_2^n)$ <br> 最坏：$O(n^2)$  | $O(n \\cdot log_2^n)$ | 不稳定 |\n",
    "| **堆排序** (Heap sort) | $O(n \\cdot log_2^n)$ | $O(1)$ | 不稳定 |\n",
    "| **桶排序** (Bucket sort) | $O(n)$ | $O(n+k)$ | 稳定 |"
   ]
  },
  {
   "cell_type": "markdown",
   "metadata": {
    "slideshow": {
     "slide_type": "slide"
    }
   },
   "source": [
    "# 插入排序\n",
    "\n",
    "插入排序是一种较为简单和朴素的排序方法，它每次将一个**未排序的元素插入到已排序元素中正确的位置**，逐个的对序列中的元素进行排序。该方法属于基于比较的算法，且排序结果具有稳定性（即：逻辑上相等的元素在原始输入序列中的相对位置不会改变）。在插入排序的实现过程中需要两层循环，一层用于对每个元素执行插入操作，另一层用于为执行操作的元素寻找合适的插入位置，因此时间复杂度为 $O(n^2)$。插入排序算法可以直接对输入序列进行操作，不需要额外的储存空间，因此时间复杂度为 $O(1)$。  \n",
    "*在目前储存空间较为廉价，而 CPU 的运行速度遇到瓶颈的背景下，该算法不适用于大规模序列的排序，但由于算法实现简单，其时间复杂度前的常数项较小，因此在一些小规模问题上可能会更快速。*"
   ]
  },
  {
   "cell_type": "code",
   "execution_count": null,
   "metadata": {},
   "outputs": [],
   "source": [
    "# 插入排序实现算法。\n",
    "import algviz\n",
    "\n",
    "def InsertSort(nums_):\n",
    "    viz = algviz.Visualizer(delay=2)\n",
    "    nums = viz.createVector(data=nums_, bar=200, show_index=False)\n",
    "    # 直接从第二个元素开始。\n",
    "    for i in range(1, len(nums_)):\n",
    "        ii = i\n",
    "        for j in range(i+1):   # 该循环用于标记已排序的元素。\n",
    "            nums.mark(j, algviz.colors[0])\n",
    "        for j in range(i-1, -1, -1):\n",
    "            if nums[ii] < nums[j]:\n",
    "                nums.swap(ii, j)\n",
    "                ii = j\n",
    "                viz.display()\n",
    "            else:\n",
    "                viz.display(1)\n",
    "                break\n",
    "    viz.display(1)\n",
    "\n",
    "case1 = [3, -4, 6, 2, -5, 8, 7]\n",
    "InsertSort(case1)"
   ]
  },
  {
   "cell_type": "markdown",
   "metadata": {
    "slideshow": {
     "slide_type": "slide"
    }
   },
   "source": [
    "# 冒泡排序"
   ]
  },
  {
   "cell_type": "markdown",
   "metadata": {
    "slideshow": {
     "slide_type": "slide"
    }
   },
   "source": [
    "# 归并排序"
   ]
  },
  {
   "cell_type": "markdown",
   "metadata": {
    "slideshow": {
     "slide_type": "slide"
    }
   },
   "source": [
    "# 快速排序"
   ]
  },
  {
   "cell_type": "markdown",
   "metadata": {
    "slideshow": {
     "slide_type": "slide"
    }
   },
   "source": [
    "# 堆排序"
   ]
  },
  {
   "cell_type": "markdown",
   "metadata": {
    "slideshow": {
     "slide_type": "slide"
    }
   },
   "source": [
    "# 桶排序"
   ]
  },
  {
   "cell_type": "markdown",
   "metadata": {
    "slideshow": {
     "slide_type": "slide"
    }
   },
   "source": [
    "# 参考链接\n",
    "\n",
    "+ [十大经典排序算法+动图演示](https://www.cnblogs.com/onepixel/articles/7674659.html)\n",
    "+ [VisuAlgo算法可视化网站](https://visualgo.net/en)"
   ]
  }
 ],
 "metadata": {
  "kernelspec": {
   "display_name": "Python 3",
   "language": "python",
   "name": "python3"
  },
  "language_info": {
   "codemirror_mode": {
    "name": "ipython",
    "version": 3
   },
   "file_extension": ".py",
   "mimetype": "text/x-python",
   "name": "python",
   "nbconvert_exporter": "python",
   "pygments_lexer": "ipython3",
   "version": "3.7.6"
  },
  "toc-autonumbering": false
 },
 "nbformat": 4,
 "nbformat_minor": 4
}
