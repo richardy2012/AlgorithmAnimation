{
 "cells": [
  {
   "cell_type": "markdown",
   "metadata": {},
   "source": [
    "# 问题介绍\n",
    "\n",
    "二维网格寻路算法在游戏中较为常见，它给定一个网格状拓扑图（包含可以移动的位置和障碍物）和图中的起点和终点坐标，寻找从起点到终点的最短路径。网络状拓扑图中的格点的邻居定义：可以是该格点上下左右四个方向的格点作为邻居，也可以加上左上右上左下右下四个相邻的格点作为邻居。本文中只考虑上下左右四个邻居的情况。  "
   ]
  },
  {
   "cell_type": "code",
   "execution_count": null,
   "metadata": {},
   "outputs": [],
   "source": [
    "# 定义和查看输出的二维网格点。\n",
    "import algviz\n",
    "\n",
    "row, col = 10, 10\n",
    "blocks = [\n",
    "    (1, 2), (2, 3), (3, 3),\n",
    "    (5, 4), (5, 5), (6, 5)\n",
    "]\n",
    "block_color = (80, 80, 80)    # 用于在可视化中标记障碍物的颜色。\n",
    "start = (3, 1)\n",
    "end = (8, 8)\n",
    "\n",
    "viz_example = algviz.Visualizer()\n",
    "grid_example = viz_example.createTable(row, col, cell_size=20, name='Example')\n",
    "for block in blocks:\n",
    "    grid_example.mark(block, block_color)\n",
    "grid_example[start] = 'S'\n",
    "grid_example[end] = 'E'\n",
    "viz_example.display()"
   ]
  },
  {
   "cell_type": "markdown",
   "metadata": {},
   "source": [
    "# 广度优先搜索\n",
    "\n",
    "和拓扑图的广度优先搜索类似，从起点开始每次向外缘扩展一个节点，直到遇到终点。在向外扩展时，为了避免重复访问相同的节点，需要辅助数组 `visit` 来记录节点是否被访问过，在扩展节点时，需要一个队列来记录当前待扩展节点。\n",
    "为了记录路径，我们需要在搜索的过程中记录访问的每个点的前驱节点，体现在可视化效果上就是各个方向的箭头（PS:是时候支持一波emoji了），从起点指向终点。  \n",
    "> 这里解释一下：因为深度优先搜索中同一层次的节点离起点的深度是相同的，所以在扩展中第一次遇到终点时就可以直接终止算法了（当然，如果要寻找所以的最短路径还需要继续扩展）。\n",
    "\n",
    "**时间复杂度：** 最坏情况下需要探索图中的每个节点，所以时间复杂度为 $O(R \\cdot C)$，其中 $R$ 网格节点行数， $C$ 为网格节点列数。  \n",
    "**空间复杂度：** 需要辅助数组记录是否访问过节点，还需要队列记录待扩展节点，因此空间复杂度为 $O(R \\cdot C)$。"
   ]
  },
  {
   "cell_type": "code",
   "execution_count": null,
   "metadata": {},
   "outputs": [],
   "source": [
    "# 广度优先搜索算法实现。\n",
    "\n",
    "def bFSFindPath(row, col, blocks):\n",
    "    pass"
   ]
  },
  {
   "cell_type": "markdown",
   "metadata": {},
   "source": [
    "# 贪心算法\n",
    "\n",
    "贪心搜索算法每次向离终点最近的邻居点移动一个位置，直到到达终点，由于算法没有回溯的过程，因此跑起来非常快。但是有一个致命的缺陷，那就是对于某些障碍物的情况，贪心算法找到的**并不是最短路径**，局部最优不代表全局最优。\n",
    "\n",
    "**时间复杂度：** 平均时间复杂度为 $O(R+C)$，但如果网格图像迷宫一样绕来绕去，时间复杂度可能上升至 $O(R \\cdot C)$。  \n",
    "**空间复杂度：** 不需要额外的储存空间来记录节点等，因此空间复杂度为 $O(1)$。"
   ]
  },
  {
   "cell_type": "code",
   "execution_count": null,
   "metadata": {},
   "outputs": [],
   "source": [
    "# 贪心算法实现代码。\n",
    "\n",
    "def greedyFindPath(row, col, blocks):\n",
    "    pass"
   ]
  },
  {
   "cell_type": "markdown",
   "metadata": {},
   "source": [
    "# A\\*算法\n",
    "\n",
    "A\\*算法结合了广度优先搜索算法和贪心算法的优点，它以广度优先搜索算法为基础框架，但是在扩展节点时不再按照固定的顺序（如上下左右）来进行，而是考虑到了邻居节点与终点之间的距离。这样既可以使算法能够优先向终点方向探索，又不至于因为障碍物的阻挡而得到错误的路径。为了记录每个待扩展节点及其到终点的距离，需要使用**优先队列**的数据结构来保存待扩展节点，而每次拓展时，都从优先队列中取出离终点最近的节点。  \n",
    "> 注：在算法实现中，为了更加直观的可视化效果，我们使用 `Vector` 来代替优先队列，通过将新的节点插入到合适的位置来实现相同的效果。\n",
    "\n",
    "**时间复杂度：** 和广度搜索算法类似，最快情况下的时间复杂度为 $O(R \\cdot C)$，但平均情况下的时间复杂度要比广度优先搜索好。   \n",
    "**空间复杂度：** 需要记录节点是否已被访问过，还有优先队列也占用空间，因此空间复杂度为 $O(R \\cdot C)$。"
   ]
  },
  {
   "cell_type": "code",
   "execution_count": null,
   "metadata": {},
   "outputs": [],
   "source": [
    "# A*算法实现代码。\n",
    "\n",
    "def aStarFindPath(row, col, blocks):\n",
    "    pass"
   ]
  },
  {
   "cell_type": "markdown",
   "metadata": {},
   "source": [
    "# 参考链接\n",
    "\n",
    "+ https://www.redblobgames.com/pathfinding/a-star/introduction.html"
   ]
  }
 ],
 "metadata": {
  "kernelspec": {
   "display_name": "Python 3",
   "language": "python",
   "name": "python3"
  },
  "language_info": {
   "codemirror_mode": {
    "name": "ipython",
    "version": 3
   },
   "file_extension": ".py",
   "mimetype": "text/x-python",
   "name": "python",
   "nbconvert_exporter": "python",
   "pygments_lexer": "ipython3",
   "version": "3.7.6"
  }
 },
 "nbformat": 4,
 "nbformat_minor": 4
}
