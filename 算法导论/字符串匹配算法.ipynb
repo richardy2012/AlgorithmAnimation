{
 "cells": [
  {
   "cell_type": "markdown",
   "metadata": {},
   "source": [
    "# 字符串匹配问题\n",
    "\n",
    "字符串匹配问题是**在一个给定字符串中搜索特定模式出现的所有位置**，这里的给定字符串使用也称作**文本(Text, T)** ，特定模式被称为**模式(Pattern, P)**。传统的字符串匹配问题中的模式是一个比文本短的字符串，不包含特殊的字符，但1974年Fischer和Paterson将通配符 `*` 引入匹配模式中后，字符串匹配问题变得更加通用也更加复杂。\n",
    "\n",
    "常见的字符串匹配算法包括：暴力匹配、KMP算法、前缀搜索、后缀搜索、有限状态机等，这些算法有着不同的时间/空间复杂度，以及不同的实现难度，在实际应用中我们需要根据场景选择合适的字符串匹配算法。"
   ]
  },
  {
   "cell_type": "markdown",
   "metadata": {},
   "source": [
    "# 暴力匹配\n",
    "\n",
    "暴力匹配也叫朴素字符串匹配算法，它的原理很愣头青，就是从文本中不同的位置开始，沿着一定的方向（👉从前向后或从后向前👈）逐个比较文本和模式中对应位置的字符是否相等。如果发现不相等的字符，则继续下一位置重新匹配，如果匹配到模式尾部，则此次匹配成功。\n",
    "\n",
    "## 复杂度分析\n",
    "\n",
    "+ **时间复杂度：** 设本文长度为 $n$，模式长度为 $m$，我们需要对文本中 $n-m+1$ 长度的区域依次进行匹配，每次匹配最多进行 $m$ 次比较， 所以最坏情况下的时间复杂度为 $O((n-m+1) \\cdot m)$。\n",
    "+ **空间复杂度：** 该算法没有预处理过程，也不需要额外的储存空间来缓存字符串，因此空间复杂度为 $O(1)$。"
   ]
  },
  {
   "cell_type": "code",
   "execution_count": null,
   "metadata": {},
   "outputs": [],
   "source": [
    "# 暴力匹配算法实现。\n",
    "import algviz\n",
    "\n",
    "def bruteStringMatch(text, pattern):\n",
    "    if (len(text) < len(pattern)):\n",
    "        return\n",
    "    viz = algviz.Visualizer(1)\n",
    "    tex = viz.createVector(text, cell_size=20, name='Text')\n",
    "    pat = viz.createVector(pattern, cell_size=20, name='Pattern')\n",
    "    for i in range(len(text)-len(pattern)+1):\n",
    "        for j in range(len(pattern)):\n",
    "            if tex[i+j] == pat[j]:\n",
    "                tex.mark(i+j, algviz.colors[0])\n",
    "                viz.display()\n",
    "                if j == len(pattern) - 1:\n",
    "                    tex.mark(i, algviz.colors[1])\n",
    "            else:\n",
    "                viz.display()\n",
    "                break\n",
    "        tex.removeMark(algviz.colors[0])\n",
    "        viz.display()\n",
    "        \n",
    "text = 'aaacaaab'\n",
    "pattern = 'aaab'\n",
    "bruteStringMatch(text, pattern)"
   ]
  },
  {
   "cell_type": "markdown",
   "metadata": {},
   "source": [
    "# KMP算法\n",
    "\n",
    "KMP算法的全称为（ Knuth-Morris-Pratt 算法），是对暴力匹配算法的一种改进。通过观察上面的暴力匹配过程可以发现，每一次从一个新的位置开始进行匹配，我们都会不断的扩展文本和模式的公共子串（这个子串也是**模式字符串的前缀子串**），当出现失配字符时暴力匹配算法就会从模式字符串的头部重新开始匹配，那么能不能从模式字符串的中间部分开始重新匹配呢？这样文本字符串那边也就可以一下向右多移动几个位置😀，效率上将会有大大的提升。"
   ]
  },
  {
   "cell_type": "markdown",
   "metadata": {},
   "source": [
    "# 参考连接\n",
    "\n",
    "+ https://www.cnblogs.com/chentianwei/p/11665656.html\n",
    "+ https://www.cnblogs.com/zzuuoo666/p/9028287.html\n",
    "+ [KMP算法介绍-知乎专栏](https://zhuanlan.zhihu.com/p/83334559)"
   ]
  }
 ],
 "metadata": {
  "kernelspec": {
   "display_name": "Python 3",
   "language": "python",
   "name": "python3"
  },
  "language_info": {
   "codemirror_mode": {
    "name": "ipython",
    "version": 3
   },
   "file_extension": ".py",
   "mimetype": "text/x-python",
   "name": "python",
   "nbconvert_exporter": "python",
   "pygments_lexer": "ipython3",
   "version": "3.7.6"
  }
 },
 "nbformat": 4,
 "nbformat_minor": 4
}
