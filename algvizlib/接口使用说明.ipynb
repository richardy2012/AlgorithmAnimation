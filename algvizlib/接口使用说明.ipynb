{
 "cells": [
  {
   "cell_type": "markdown",
   "metadata": {},
   "source": [
    "# algvizlib接口介绍\n",
    "\n",
    "__algvizlib 实现了二维表格，一维向量，单向链表，二叉树，有向图，无向图数据结构的可视化，并能够根据数据结构的变化产生直观的动画效果。生成的动画效果使用XML格式数据表示，可以在目前大部分主流浏览器中显示。__"
   ]
  },
  {
   "cell_type": "markdown",
   "metadata": {},
   "source": [
    "## Table 类的使用\n",
    "\n",
    "**Table** 类是一种容器，用来储存二维的变量值，类似于表格。我们需要在初始化一个 Table 类的时候**指定其行和列的数目**，然后可以通过接口读取和修改其中的单元格。\n",
    "\n",
    "+ 如何创建一个Table？\n",
    "+ 如何访问或修改 Table 中的元素？\n",
    "+ 如何强调一个单元格的内容？\n",
    "+ 如何方便的使用迭代器？"
   ]
  },
  {
   "cell_type": "markdown",
   "metadata": {},
   "source": [
    "## Vector 类的使用\n",
    "\n",
    "+ TODO"
   ]
  },
  {
   "cell_type": "markdown",
   "metadata": {},
   "source": [
    "## 链表的使用\n",
    "\n",
    "+ TODO"
   ]
  },
  {
   "cell_type": "markdown",
   "metadata": {},
   "source": [
    "## 二叉树的使用\n",
    "\n",
    "+ TODO"
   ]
  },
  {
   "cell_type": "markdown",
   "metadata": {},
   "source": [
    "## 拓扑图的使用\n",
    "\n",
    "+ TODO"
   ]
  },
  {
   "cell_type": "markdown",
   "metadata": {},
   "source": [
    "## Visualizer 类的使用\n",
    "\n",
    "+ TODO"
   ]
  }
 ],
 "metadata": {
  "kernelspec": {
   "display_name": "Python 3",
   "language": "python",
   "name": "python3"
  },
  "language_info": {
   "codemirror_mode": {
    "name": "ipython",
    "version": 3
   },
   "file_extension": ".py",
   "mimetype": "text/x-python",
   "name": "python",
   "nbconvert_exporter": "python",
   "pygments_lexer": "ipython3",
   "version": "3.7.6"
  }
 },
 "nbformat": 4,
 "nbformat_minor": 4
}
