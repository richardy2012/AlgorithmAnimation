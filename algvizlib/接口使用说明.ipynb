{
 "cells": [
  {
   "cell_type": "markdown",
   "metadata": {},
   "source": [
    "# algvizlib接口介绍\n",
    "\n",
    "__algvizlib 实现了二维表格 `Table`，一维向量 `Vector` ，单向链表 `ListNode` ，二叉树 `TreeNode` ，拓扑图 `GraphNode` 等数据结构的可视化，并能够根据数据结构的变化产生直观的动画效果。生成的动画效果使用XML格式数据表示，可以在目前大部分主流浏览器中显示。__"
   ]
  },
  {
   "cell_type": "markdown",
   "metadata": {},
   "source": [
    "## [Visualizer](algviz/visual.py) 类的使用\n",
    "\n",
    "`Visualizer` 类一般是你在 import algvizlib 后第一个要使用的类，因为后续你要使用的 `Table`, `Vector`, `Tree`, `Graph` 都需要通过该类中的接口来创建。此外，动画效果的刷新时机与时长也和该类相关，下面介绍如何通过 `Visualizer` 类来创建数据结构并刷新动画。"
   ]
  },
  {
   "cell_type": "markdown",
   "metadata": {},
   "source": [
    "+ 初始化一个 Visualizer 对象会使用到 `__init__(delay=3.0, wait=False)` 接口，该接口中的 `delay` 代表每次播放的动画整体时长，`wait` 代表每次播放动画后是否等待输入操作。"
   ]
  },
  {
   "cell_type": "markdown",
   "metadata": {},
   "source": [
    "## Table 类的使用\n",
    "\n",
    "**Table** 类是一种容器，用来储存二维的变量值，类似于表格。我们需要在初始化一个 Table 类的时候**指定其行和列的数目**，然后可以通过接口读取和修改其中的单元格。"
   ]
  },
  {
   "cell_type": "markdown",
   "metadata": {},
   "source": [
    "+ 如何访问或修改 Table 中的元素？"
   ]
  },
  {
   "cell_type": "markdown",
   "metadata": {},
   "source": [
    "+ 如何强调一个单元格的内容？"
   ]
  },
  {
   "cell_type": "markdown",
   "metadata": {},
   "source": [
    "+ 如何方便的使用迭代器？"
   ]
  },
  {
   "cell_type": "markdown",
   "metadata": {},
   "source": [
    "## Vector 类的使用\n",
    "\n",
    "+ TODO"
   ]
  },
  {
   "cell_type": "markdown",
   "metadata": {},
   "source": [
    "## 链表的使用\n",
    "\n",
    "+ TODO"
   ]
  },
  {
   "cell_type": "markdown",
   "metadata": {},
   "source": [
    "## 二叉树的使用\n",
    "\n",
    "+ TODO"
   ]
  },
  {
   "cell_type": "markdown",
   "metadata": {},
   "source": [
    "## 拓扑图的使用\n",
    "\n",
    "+ TODO"
   ]
  }
 ],
 "metadata": {
  "kernelspec": {
   "display_name": "Python 3",
   "language": "python",
   "name": "python3"
  },
  "language_info": {
   "codemirror_mode": {
    "name": "ipython",
    "version": 3
   },
   "file_extension": ".py",
   "mimetype": "text/x-python",
   "name": "python",
   "nbconvert_exporter": "python",
   "pygments_lexer": "ipython3",
   "version": "3.7.6"
  }
 },
 "nbformat": 4,
 "nbformat_minor": 4
}
