{
 "cells": [
  {
   "cell_type": "markdown",
   "metadata": {},
   "source": [
    "# algvizlib接口介绍\n",
    "\n",
    "__algvizlib 实现了二维表格 `Table`，一维向量 `Vector` ，单向链表 `ListNode` ，二叉树 `TreeNode` ，拓扑图 `GraphNode` 等数据结构的可视化，并能够根据数据结构的变化产生直观的动画效果。生成的动画效果使用XML格式数据表示，可以在目前大部分主流浏览器中显示。__"
   ]
  },
  {
   "cell_type": "markdown",
   "metadata": {},
   "source": [
    "## 可视化对象的创建\n",
    "\n",
    "可视化对象在 **visual.py** 中的 `Visualizer` 类中定义，它一般是你在 import algvizlib 后第一个要使用的类，因为后续你要使用的 `Table`, `Vector`, `Tree`, `Graph` 都需要通过该类中的接口来创建。此外，动画效果的刷新时机与时长也和该类相关，下面介绍如何通过 `Visualizer` 类来创建数据结构并刷新动画。"
   ]
  },
  {
   "cell_type": "markdown",
   "metadata": {},
   "source": [
    "+ 初始化一个 `Visualizer` 对象会使用到 `__init__(delay=3.0, wait=False)` 接口，该接口中的 `delay` 为 `float` 类型，代表每次播放的动画整体时长（**时长必须为正数**），`wait` 代表每次播放动画后是否等待输入操作。\n",
    "\n",
    "    + 例子：创建一个名为 `viz` 的可视化类，每帧动画时长为1秒，不等待键盘输入操作。\n",
    "\n",
    "    ```python\n",
    "    viz = visual.Visualizer(1)\n",
    "    ```"
   ]
  },
  {
   "cell_type": "markdown",
   "metadata": {},
   "source": [
    "+ 你需要在程序的合适位置通过调用 `display(delay=None)` 接口用来刷新显示动画，具体的动画效果会根据可视化对象管理的数据结构的内容变化生成，接口的 `delay` 参数为 `float` 类型，表示该次生成动画的总时长，该值如果为 `None`，那么动画时长就会参考初始化 `Visuzlizer` 对象时设置的动画时长值。"
   ]
  },
  {
   "cell_type": "markdown",
   "metadata": {},
   "source": [
    "+ 可视化的数据结构的创建都需要通过 `Visualizer` 中的相应接口进行创建，创建的数据结构会被跟踪记录，当这些被跟踪的数据的内容发生变化后，可视化对象会在下一次刷新时生成对应动画效果，下面列出几种数据结构的创建接口：\n",
    "    \n",
    "    + `createTable(row, col, data=None, name=None, cell_size=40, show_index=True)` 接口会返回一个创建好的 `Table` 对象，接口中的形参含义如下：\n",
    "        + `row` 为 `int` 类型的值，代表表格的行数；\n",
    "        + `col` 为 `int` 类型的值，代表表格的列数；\n",
    "        + `data` 为 `list(list())` 类型的值，代表表格初始化的内容，默认为空；\n",
    "        + `name` 为 `str` 类型的值，代表该数据结构的显示名称，默认为空；\n",
    "        + `cell_size` 为 `int` 类型值，代表表格中每个单元格的显示边长（单元格为正方形），默认为40个像素单位值；\n",
    "        + `show_index` 为 `bool` 类型，表示是否显示表格的下标索引值，默认显示下标索引。\n",
    "        \n",
    "        > ```python\n",
    "        > # 例子：创建一个 4x4 的表格对象 t1，显示名称为 Table。\n",
    "        > t1 = viz.createTable(4, 4, name='Table')\n",
    "        > ```\n",
    "    \n",
    "    + `createVector(data=None, name=None, cell_size=40, bar=-1, show_index=True)` 接口会返回一个创建好的 `Vector` 对象，接口中的形参含义如下：\n",
    "        + `data` 为 `list` 类型的值，表示向量数据结构中的初始化数据值，默认为空；\n",
    "        + `name` 为 `str` 类型的值，代表该数据结构的显示名称，默认为空；\n",
    "        + `cell_size` 为 `int` 类型值，代表表格中每个单元格的宽度，默认为40个像素单位值；\n",
    "        + `bar` 为 `int` 类型的值，如果 `bar` 的值为负数，则向量中单元格的显示高度和宽度相等，但如果 `bar` 值为正数，那么向量中的单元格将会以条形图 📊 的形式显示，每个单元格的高度都不超过 `bar` 值，且具体的显示高度和单元格中数值大小成正比关系（这要求 `Vector` 中的内容必须为数值）。\n",
    "        + `show_index` 为 `bool` 类型，表示是否显示表格的下标索引值，默认显示下标索引。\n",
    "        \n",
    "        > ```python\n",
    "        > # 例子：创建一个向量 v1，显示名称为 Vector，向量中的初始内容为 [1,2]，以高度为 100 像素的条形图来显示。\n",
    "        > v1 = viz.createVector([1, 2], name='Vector', bar=100, show_index=False)\n",
    "        > ```\n",
    "        \n",
    "    + `createGraph(data=None, name=None, directed=True, horizontal=True)` 会返回一个初始化的 `SvgGraph` 对象，用于显示链表，树和拓扑图，接口中的形参含义如下：\n",
    "        + `data` 如果为 `list(LisNode)` 类型的对象，将会创建一个链表的可视化对象；如果为 `list(TreeNode)` 类型的对象，将会创建一个二叉树的可视化对象；如果为 `GraphNode` 类型的对象，将会创建一个拓扑图可视化对象。\n",
    "        + `name` 为 `str` 类型的值，代表该数据结构的显示名称，默认为空；\n",
    "        + `directed` 为 `bool` 类型的值，代表显示的链表/树/拓扑图是否为有向的，默认为有向。\n",
    "        + `horizontal` 为 `bool` 类型的值，代表显示的排版方式，一般链表使用横向排版方式，树和拓扑图使用纵向排版方式，该值默认为 `True`。\n",
    "        \n",
    "        > ```python\n",
    "        > # 例子：创建一个二叉树 btree，显示名称为 `BinaryTree`。\n",
    "        > root = tree.parseTree([1, 2, 3, None, 4, None, 5])\n",
    "        > btree = viz.createGraph(name='BinaryTree', data=root)\n",
    "        > ```\n",
    "    + `createLogger(buffer_lines=10, name=None)` 接口将会返回一个日志打印对象，用于在合适的位置显示想要打印的日志记录，其中的 `buffer_lines` 为 `int` 类型，代表显示缓冲的日志条数，默认为 10 条；`name` 为 `str` 类型的值，代表该日志记录的显示名称，默认为空。"
   ]
  },
  {
   "cell_type": "markdown",
   "metadata": {},
   "source": [
    "**下面是几种数据结构创建并显示的例子，选中单元格单击运行按钮可以看到创建的表格，向量，链表，二叉树和有向图，试试吧！**"
   ]
  },
  {
   "cell_type": "code",
   "execution_count": null,
   "metadata": {},
   "outputs": [],
   "source": [
    "import algviz\n",
    "\n",
    "viz = algviz.Visualizer(1)\n",
    "t1 = viz.createTable(4, 4, name='Table')\n",
    "v1 = viz.createVector([1, 2], name='Vector', bar=100, show_index=False)\n",
    "root = algviz.parseTree([1, 2, 3, None, 4, None, 5])\n",
    "btree1 = viz.createGraph(name='BinaryTree', data=root, horizontal=False)\n",
    "head = algviz.parseLinkList([1, 2, 3, 4, 5])\n",
    "llist = viz.createGraph(name='LinkList', data=head, horizontal=True)\n",
    "nodes = [[0,1], [1,2], [2,3], [3,4], [4,5], [5,6], [6,7], [7,8]]\n",
    "edges = [[0,3], [3,5], [5,4], [4,1], [1,0], [2,0], [5,2], [4,6]]\n",
    "graph_nodes = algviz.parseGraph(edges, nodes)\n",
    "gra = viz.createGraph(name='Graph', data=list(graph_nodes.values()), horizontal=True)\n",
    "viz.display()"
   ]
  },
  {
   "cell_type": "markdown",
   "metadata": {},
   "source": [
    "## 表格的使用\n",
    "\n",
    "表格是一种容器，在 **table.py** 中可以找到 `Table` 类的定义。和普通的表格类似，`Table` 由多行多列的单元格排列而成，因此我们需要在初始化一个 `Table` 类的时候**指定其行和列的数目**。此外。表格通常是静态的（即表格的行列数在初始化都就不能再改变了），用来显示二维数组之类的对象，但是单元格里面的内容是可以修改的，`Table` 中提供了方便的接口来访问或修改任意的单元格中的内容，具体接口介绍如下："
   ]
  },
  {
   "cell_type": "markdown",
   "metadata": {},
   "source": [
    "+ 如何访问或修改 Table 中的元素？\n",
    "    > 你可以像访问或修改 python 中的 `list(list())` 对象一样来操作 `Table` 中的元素（包括逐行逐列迭代表格中的元素），一个表格元素访问和修改的例子如下：\n",
    "    > ```python\n",
    "    > t1[0][0] = 3\n",
    "    > print(t1[0][0])\n",
    "    > ```"
   ]
  },
  {
   "cell_type": "markdown",
   "metadata": {},
   "source": [
    "+ 如何强调一个单元格的内容？\n",
    "有时你可能需要强调一下表格中某些单元格，`Table` 中提供了 `mark(color, r, c, hold=True)` 接口来为表格中特定位置的单元格添加背景颜色强调标记，和 `removeMark(color)` 接口来移除特定颜色的所有标记。\n",
    "    + 其中的 `color` 为三元组类型`(R, G, B)`，表示标记的颜色值；`r` 和 `c` 为 `int` 类型，分别表示要标记的单元格的行和列的索引；`hold` 为 `bool` 类型，当 `hold` 为 `True` 时，单元格中的标记将会持久保存，直到被手动 remove，而当 `hold` 为 `False` 时，单元格中的颜色标记将会在下一帧中被清除。"
   ]
  },
  {
   "cell_type": "markdown",
   "metadata": {},
   "source": [
    "**下面的例子展示了表格中元素的几种访问或修改方式，以及使用颜色来标记强调单元格的方法，单击运行即可看到动画效果！**"
   ]
  },
  {
   "cell_type": "code",
   "execution_count": null,
   "metadata": {},
   "outputs": [],
   "source": [
    "import algviz\n",
    "\n",
    "color_list = [\n",
    "    (245, 222, 179), # Wheat\n",
    "    (202, 255, 112), # DarkOliveGreen\n",
    "    (221, 160, 221), # Plum\n",
    "    (176, 226, 255), # LightSkyBlue\n",
    "]\n",
    "\n",
    "# 修改值并添加颜色标记。\n",
    "viz = algviz.Visualizer(1)\n",
    "table = viz.createTable(4, 4, name='Test table')\n",
    "for i in range(4):\n",
    "    for j in range(4):\n",
    "        table[i][j] = i*4+j\n",
    "        table.mark(color_list[i], i, j)\n",
    "        table.mark(color_list[j], i, j)\n",
    "        viz.display()\n",
    "        \n",
    "# 清除颜色标记。\n",
    "for i in range(4):\n",
    "    table.removeMark(color_list[i])\n",
    "    viz.display()"
   ]
  },
  {
   "cell_type": "markdown",
   "metadata": {},
   "source": [
    "## 向量的使用\n",
    "\n",
    "向量 `Vector` 是一种容器，在功能上类似于一维数组，在接口使用上类似于 `list`，对数组，队列，堆栈等线性的数据结构的可视化效果较好。如果你对 `Vector` 的实现感兴趣，可以阅读 **vector.py** 中的源码，下面介绍几个常用接口的实现："
   ]
  },
  {
   "cell_type": "markdown",
   "metadata": {},
   "source": [
    "+ 读取 `Vector` 中 `index` 位置的元素："
   ]
  },
  {
   "cell_type": "markdown",
   "metadata": {},
   "source": [
    "+ 修改 `Vector` 中 `index` 位置的元素："
   ]
  },
  {
   "cell_type": "markdown",
   "metadata": {},
   "source": [
    "+ 向 `Vector` 中插入元素："
   ]
  },
  {
   "cell_type": "markdown",
   "metadata": {},
   "source": [
    "+ 从 `Vector` 中删除元素："
   ]
  },
  {
   "cell_type": "markdown",
   "metadata": {},
   "source": [
    "+ 交换 `Vector` 中两个元素的位置："
   ]
  },
  {
   "cell_type": "markdown",
   "metadata": {},
   "source": [
    "+ 标记/强调 `Vector` 中的单元格："
   ]
  },
  {
   "cell_type": "markdown",
   "metadata": {},
   "source": [
    "## 链表的使用\n",
    "\n",
    "+ TODO"
   ]
  },
  {
   "cell_type": "markdown",
   "metadata": {},
   "source": [
    "## 二叉树的使用\n",
    "\n",
    "+ TODO"
   ]
  },
  {
   "cell_type": "markdown",
   "metadata": {},
   "source": [
    "## 拓扑图的使用\n",
    "\n",
    "+ TODO"
   ]
  }
 ],
 "metadata": {
  "kernelspec": {
   "display_name": "Python 3",
   "language": "python",
   "name": "python3"
  },
  "language_info": {
   "codemirror_mode": {
    "name": "ipython",
    "version": 3
   },
   "file_extension": ".py",
   "mimetype": "text/x-python",
   "name": "python",
   "nbconvert_exporter": "python",
   "pygments_lexer": "ipython3",
   "version": "3.7.6"
  }
 },
 "nbformat": 4,
 "nbformat_minor": 4
}
