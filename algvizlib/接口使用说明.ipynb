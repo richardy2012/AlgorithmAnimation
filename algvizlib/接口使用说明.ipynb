{
 "cells": [
  {
   "cell_type": "markdown",
   "metadata": {},
   "source": [
    "# algvizlib接口介绍\n",
    "\n",
    "__algvizlib 实现了二维表格 `Table`，一维向量 `Vector` ，单向链表 `ListNode` ，二叉树 `TreeNode` ，拓扑图 `GraphNode` 等数据结构的可视化，并能够根据数据结构的变化产生直观的动画效果。生成的动画效果使用XML格式数据表示，可以在目前大部分主流浏览器中显示。__"
   ]
  },
  {
   "cell_type": "markdown",
   "metadata": {},
   "source": [
    "## 可视化对象的创建\n",
    "\n",
    "可视化对象在 **visual.py** 中的 `Visualizer` 类中定义，它一般是你在 import algvizlib 后第一个要使用的类，因为后续你要使用的 `Table`, `Vector`, `Tree`, `Graph` 都需要通过该类中的接口来创建。此外，动画效果的刷新时机与时长也和该类相关，下面介绍如何通过 `Visualizer` 类来创建数据结构并刷新动画。"
   ]
  },
  {
   "cell_type": "markdown",
   "metadata": {},
   "source": [
    "+ 初始化一个 `Visualizer` 对象会使用到 `__init__(delay=3.0, wait=False)` 接口，该接口中的 `delay` 为 `float` 类型，代表每次播放的动画整体时长（**时长必须为正数**），`wait` 代表每次播放动画后是否等待输入操作。\n",
    "\n",
    "    + 例子：创建一个名为 `viz` 的可视化类，每帧动画时长为1秒，不等待键盘输入操作。\n",
    "\n",
    "    ```python\n",
    "    viz = visual.Visualizer(1)\n",
    "    ```"
   ]
  },
  {
   "cell_type": "markdown",
   "metadata": {},
   "source": [
    "+ 你需要在程序的合适位置通过调用 `display(delay=None)` 接口用来刷新显示动画，具体的动画效果会根据可视化对象管理的数据结构的内容变化生成，接口的 `delay` 参数为 `float` 类型，表示该次生成动画的总时长，该值如果为 `None`，那么动画时长就会参考初始化 `Visuzlizer` 对象时设置的动画时长值。"
   ]
  },
  {
   "cell_type": "markdown",
   "metadata": {},
   "source": [
    "+ 可视化的数据结构的创建都需要通过 `Visualizer` 中的相应接口进行创建，创建的数据结构会被跟踪记录，当这些被跟踪的数据的内容发生变化后，可视化对象会在下一次刷新时生成对应动画效果，下面列出几种数据结构的创建接口：\n",
    "    \n",
    "    + `createTable(row, col, data=None, name=None, cell_size=40, show_index=True)` 接口会返回一个创建好的 `Table` 对象，接口中的形参含义如下：\n",
    "        + `row` 为 `int` 类型的值，代表表格的行数；\n",
    "        + `col` 为 `int` 类型的值，代表表格的列数；\n",
    "        + `data` 为 `list(list())` 类型的值，代表表格初始化的内容，默认为空；\n",
    "        + `name` 为 `str` 类型的值，代表该数据结构的显示名称，默认为空；\n",
    "        + `cell_size` 为 `int` 类型值，代表表格中每个单元格的显示边长（单元格为正方形），默认为40个像素单位值；\n",
    "        + `show_index` 为 `bool` 类型，表示是否显示表格的下标索引值，默认显示下标索引。\n",
    "        \n",
    "        ```python\n",
    "        # 例子：创建一个 4x4 的表格对象 t1，显示名称为 Table。\n",
    "        t1 = viz.createTable(4, 4, name='Table')\n",
    "        ```\n",
    "    \n",
    "    + `createVector(data=None, name=None, cell_size=40, bar=-1, show_index=True)` 接口会返回一个创建好的 `Vector` 对象，接口中的形参含义如下：\n",
    "        + `data` 为 `list` 类型的值，表示向量数据结构中的初始化数据值，默认为空；\n",
    "        + `name` 为 `str` 类型的值，代表该数据结构的显示名称，默认为空；\n",
    "        + `cell_size` 为 `int` 类型值，代表表格中每个单元格的宽度，默认为40个像素单位值；\n",
    "        + `bar` 为 `int` 类型的值，如果 `bar` 的值为负数，则向量中单元格的显示高度和宽度相等，但如果 `bar` 值为正数，那么向量中的单元格将会以条形图 📊 的形式显示，每个单元格的高度都不超过 `bar` 值，且具体的显示高度和单元格中数值大小成正比关系（这要求 `Vector` 中的内容必须为数值）。\n",
    "        + `show_index` 为 `bool` 类型，表示是否显示表格的下标索引值，默认显示下标索引。\n",
    "        \n",
    "        ```python\n",
    "        # 例子：创建一个向量 v1，显示名称为 Vector，向量中的初始内容为 [1,2]，以高度为 100 像素的条形图来显示。\n",
    "        v1 = viz.createVector([1, 2], name='Vector', bar=100, show_index=False)\n",
    "        ```\n",
    "        \n",
    "    + `createGraph(data=None, name=None, directed=True, horizontal=True)` 会返回一个初始化的 `SvgGraph` 对象，用于显示链表，树和拓扑图，接口中的形参含义如下：\n",
    "        + `data` 如果为 `list(LisNode)` 类型的对象，将会创建一个链表的可视化对象；如果为 `list(TreeNode)` 类型的对象，将会创建一个二叉树的可视化对象；如果为 `GraphNode` 类型的对象，将会创建一个拓扑图可视化对象。\n",
    "        + `name` 为 `str` 类型的值，代表该数据结构的显示名称，默认为空；\n",
    "        + `directed` 为 `bool` 类型的值，代表显示的链表/树/拓扑图是否为有向的，默认为有向。\n",
    "        + `horizontal` 为 `bool` 类型的值，代表显示的排版方式，一般链表使用横向排版方式，树和拓扑图使用纵向排版方式，该值默认为 `True`。\n",
    "        \n",
    "        ```python\n",
    "        # 例子：创建一个二叉树 btree，显示名称为 `BinaryTree`。\n",
    "        root = tree.parseTree([1, 2, 3, None, 4, None, 5])\n",
    "        btree = viz.createGraph(name='BinaryTree', data=root)\n",
    "        ```\n",
    "    + `createLogger(buffer_lines=10, name=None)` 接口将会返回一个日志打印对象，用于在合适的位置显示想要打印的日志记录，其中的 `buffer_lines` 为 `int` 类型，代表显示缓冲的日志条数，默认为 10 条；`name` 为 `str` 类型的值，代表该日志记录的显示名称，默认为空。"
   ]
  },
  {
   "cell_type": "markdown",
   "metadata": {},
   "source": [
    "**下面是几种数据结构创建并显示的例子，选中单元格单击运行按钮可以看到创建的表格，向量，链表，二叉树和有向图，试试吧！**"
   ]
  },
  {
   "cell_type": "code",
   "execution_count": null,
   "metadata": {},
   "outputs": [],
   "source": [
    "import algviz\n",
    "\n",
    "viz = algviz.Visualizer(1)\n",
    "t1 = viz.createTable(4, 4, name='Table')\n",
    "v1 = viz.createVector([1, 2], name='Vector', bar=100, show_index=False)\n",
    "root = algviz.parseTree([1, 2, 3, None, 4, None, 5])\n",
    "btree1 = viz.createGraph(name='BinaryTree', data=root, horizontal=False)\n",
    "head = algviz.parseLinkList([1, 2, 3, 4, 5])\n",
    "llist = viz.createGraph(name='LinkList', data=head, horizontal=True)\n",
    "nodes = [[0,1], [1,2], [2,3], [3,4], [4,5], [5,6], [6,7], [7,8]]\n",
    "edges = [[0,3], [3,5], [5,4], [4,1], [1,0], [2,0], [5,2], [4,6]]\n",
    "graph_nodes = algviz.parseGraph(edges, nodes)\n",
    "gra = viz.createGraph(name='Graph', data=list(graph_nodes.values()), horizontal=True)\n",
    "viz.display()"
   ]
  },
  {
   "cell_type": "markdown",
   "metadata": {},
   "source": [
    "## 表格的使用\n",
    "\n",
    "表格是一种容器，在 **table.py** 中可以找到 `Table` 类的定义。和普通的表格类似，`Table` 由多行多列的单元格排列而成，因此我们需要在初始化一个 `Table` 类的时候**指定其行和列的数目**。此外。表格通常是静态的（即表格的行列数在初始化都就不能再改变了），用来显示二维数组之类的对象，但是单元格里面的内容是可以修改的，`Table` 中提供了方便的接口来访问或修改任意的单元格中的内容，具体接口介绍如下："
   ]
  },
  {
   "cell_type": "markdown",
   "metadata": {},
   "source": [
    "+ 如何访问或修改 Table 中的元素？\n",
    "    + 你可以像访问或修改 python 中的 `list(list())` 对象一样来操作 `Table` 中的元素（包括逐行逐列迭代表格中的元素），一个表格元素访问和修改的例子如下：\n",
    "    ```python\n",
    "    t1[0][0] = 3\n",
    "    print(t1[0][0])\n",
    "    ```"
   ]
  },
  {
   "cell_type": "markdown",
   "metadata": {},
   "source": [
    "+ 如何强调一个单元格的内容？\n",
    "有时你可能需要强调一下表格中某些单元格，`Table` 中提供了 `mark(color, r, c, hold=True)` 接口来为表格中特定位置的单元格添加背景颜色强调标记，和 `removeMark(color)` 接口来移除特定颜色的所有标记。\n",
    "    + 其中的 `color` 为三元组类型`(R, G, B)`，表示标记的颜色值；`r` 和 `c` 为 `int` 类型，分别表示要标记的单元格的行和列的索引；`hold` 为 `bool` 类型，当 `hold` 为 `True` 时，单元格中的标记将会持久保存，直到被手动 remove，而当 `hold` 为 `False` 时，单元格中的颜色标记将会在下一帧中被清除。"
   ]
  },
  {
   "cell_type": "markdown",
   "metadata": {},
   "source": [
    "**下面的例子展示了表格中元素的几种访问或修改方式，以及使用颜色来标记强调单元格的方法，单击运行即可看到动画效果！**"
   ]
  },
  {
   "cell_type": "code",
   "execution_count": null,
   "metadata": {},
   "outputs": [],
   "source": [
    "import algviz\n",
    "\n",
    "color_list = [\n",
    "    (245, 222, 179), # Wheat\n",
    "    (202, 255, 112), # DarkOliveGreen\n",
    "    (221, 160, 221), # Plum\n",
    "    (176, 226, 255), # LightSkyBlue\n",
    "]\n",
    "\n",
    "# 修改值并添加颜色标记。\n",
    "viz = algviz.Visualizer(1)\n",
    "table = viz.createTable(4, 4, name='Test table')\n",
    "for i in range(4):\n",
    "    for j in range(4):\n",
    "        table[i][j] = i*4+j\n",
    "        table.mark(color_list[i], i, j)\n",
    "        table.mark(color_list[j], i, j)\n",
    "        viz.display()\n",
    "        \n",
    "# 清除颜色标记。\n",
    "for i in range(4):\n",
    "    table.removeMark(color_list[i])\n",
    "    viz.display()"
   ]
  },
  {
   "cell_type": "markdown",
   "metadata": {},
   "source": [
    "## 向量的使用\n",
    "\n",
    "向量 `Vector` 是一种容器，在功能上类似于一维数组，在接口使用上类似于 `list`，对数组，队列，堆栈等线性的数据结构的可视化效果较好。如果你对 `Vector` 的实现感兴趣，可以阅读 **vector.py** 中的源码，下面介绍几个常用接口的实现："
   ]
  },
  {
   "cell_type": "markdown",
   "metadata": {},
   "source": [
    "+ 读取 `Vector` 中 `index` 位置的元素，通过 `[]` 接口实现，如果索引值超出了 `Vector` 的长度，将会循环移动索引至下一个位置。"
   ]
  },
  {
   "cell_type": "markdown",
   "metadata": {},
   "source": [
    "+ 修改 `Vector` 中 `index` 位置的元素，和访问元素一样，通过 `[]` 接口来实现，例子如下：\n",
    "```python\n",
    "v1[0] = 3\n",
    "```"
   ]
  },
  {
   "cell_type": "markdown",
   "metadata": {},
   "source": [
    "+ 向 `Vector` 中插入元素有两种方式：\n",
    "    + `insert(index, val)` 在 `Vector` 的 `index` 位置处插入 `val` 值，剩余值向后移动。\n",
    "    + `append(val)` 用于向向量尾部添加一个值 `Val`。"
   ]
  },
  {
   "cell_type": "markdown",
   "metadata": {},
   "source": [
    "+ 从 `Vector` 中删除元素：\n",
    "    + `pop(index=-1)` 接口用于删除 `Vector` 中 `index` 处的元素，其中的 `index` 为 `int` 类型。\n",
    "    + `clear()` 接口将会清除 `Vector` 中所有的元素。"
   ]
  },
  {
   "cell_type": "markdown",
   "metadata": {},
   "source": [
    "+ `swap(index1, index2)` 接口用于交换 `Vector` 中 `index1` 和 `index2` 处元素的位置，其中的 `index1`, `index2` 为 `int` 类型。通过 `swap` 接口交换元素后，`Vector` 会生成响应的单元格交换动画效果。"
   ]
  },
  {
   "cell_type": "markdown",
   "metadata": {},
   "source": [
    "+ 标记/强调 `Vector` 中的单元格：\n",
    "    + `mark(color, st, ed=None, hold=True)` 接口用于标记 `Vector` 中一个或一段范围内的单元格，其中的 `color` 代表标记的颜色，`st` 代表标记范围起始索引，`ed` 代表标记范围的结束索引，`hold` 代表是否长久保留标记。\n",
    "    + `removeMark(color)` 用于清除颜色为 `color` 的标记。"
   ]
  },
  {
   "cell_type": "markdown",
   "metadata": {},
   "source": [
    "**下面的例子展示了如何修改 `Vector` 中的值，如何添加和删除其中的元素，以及如何交换两个元素的位置，运行试一下动画效果！👇**"
   ]
  },
  {
   "cell_type": "code",
   "execution_count": null,
   "metadata": {},
   "outputs": [],
   "source": [
    "import algviz\n",
    "\n",
    "viz = algviz.Visualizer(1)\n",
    "vec = viz.createVector([1, 2, 3])\n",
    "for i in range(len(vec)):\n",
    "    vec[i] += 1\n",
    "    viz.display()\n",
    "vec.append(5)\n",
    "vec.insert(0, 0)\n",
    "viz.display(2)\n",
    "vec.pop(1)\n",
    "viz.display()\n",
    "vec.swap(1, 3)\n",
    "viz.display()"
   ]
  },
  {
   "cell_type": "markdown",
   "metadata": {},
   "source": [
    "## 拓扑图容器\n",
    "\n",
    "单向链表，二叉树都可以看成拓扑图的特殊形式，因此可以使用统一的拓扑图容器对这三种数据结构进行可视化。用于管理拓扑图节点的容器是 `SvgGraph`，该类的实现虽然比较复杂，但需要用到的接口比较少，下面介绍一下相关接口的功能："
   ]
  },
  {
   "cell_type": "markdown",
   "metadata": {},
   "source": [
    "+ `addNode(node)` 用于向 `SvgGraph` 中添加一个新的节点，`node` 的类型可以是 `ListNode`, `TreeNode` 或 `GraphNode`。该接口只需要在新增了一个孤立的节点后才需要调用，并且会将所有与 `node` 相关联的节点都添加到拓扑图中。"
   ]
  },
  {
   "cell_type": "markdown",
   "metadata": {},
   "source": [
    "+ `removeNode(node, recursive=False)` 用于从 `SvgGraph` 中删除一个或多个节点，`recursive` 为 `bool` 类型，代表是否递归的删除 `node` 的子节点。当只需要删除 `node` 节点自身时，可以将 `recursive` 的值设置为 `False`，而当 `node` 是一棵树的根节点，且我们需要删除整颗树时，可以将 `recursive` 的值设置为 `True`。"
   ]
  },
  {
   "cell_type": "markdown",
   "metadata": {},
   "source": [
    "+ `markNode(color, node, hold=True)` 用于标记拓扑图中一个节点，`color` 为标记的颜色值，`node` 可以是 `ListNode`, `TreeNode` 或 `GraphNode`，`hold` 代表是否保持标记直到对应颜色标记被清除。"
   ]
  },
  {
   "cell_type": "markdown",
   "metadata": {},
   "source": [
    "+ `markEdge(color, node1, node2, hold=True)` 用于标记拓扑图中的一条边，其中的 `node1` 表示边的起始节点，`node2` 表示边的终止节点。"
   ]
  },
  {
   "cell_type": "markdown",
   "metadata": {},
   "source": [
    "+ `removeMark(color)` 将会移除所有节点和边上对应颜色的标记。"
   ]
  },
  {
   "cell_type": "markdown",
   "metadata": {},
   "source": [
    "## 单向链表的使用\n",
    "\n",
    "和前面介绍的 `Table` 及 `Vector` 不同，链表是一种非线性的数据结构，我们通过 `ListNode` 来保存链表中的一个节点。并通过 `ListNode` 的 `val` 属性获取节点的值，通过 `next` 属性获取下一个 `ListNode` 的地址。\n",
    "\n",
    "+ 为了方便的构造一个单向链表，`algviz` 库中提供了 `parseLinkList(li_vals)` 接口用来创建一个链表，其中的 `li_vals` 为 `list` 类型，包含了链表从起点到终点的值的列表。"
   ]
  },
  {
   "cell_type": "markdown",
   "metadata": {},
   "source": [
    "**下面的例子介绍了如何创建并遍历一个单向链表，以及添加或删除其中的节点，来看看会有什么样的效果吧！**"
   ]
  },
  {
   "cell_type": "code",
   "execution_count": null,
   "metadata": {},
   "outputs": [],
   "source": [
    "import algviz\n",
    "\n",
    "viz = algviz.Visualizer(2)\n",
    "head = algviz.parseLinkList([1, 2, 3, 4, 5])\n",
    "llist = viz.createGraph(data=head, horizontal=True)\n",
    "mid = temp = head\n",
    "while temp is not None and temp.next is not None:\n",
    "    viz.display(1)\n",
    "    temp.val = mid.val\n",
    "    mid = mid.next\n",
    "    temp = temp.next.next\n",
    "viz.display(1)\n",
    "llist.removeNode(mid.next)\n",
    "mid.next = temp\n",
    "viz.display()\n",
    "new_node = algviz.ListNode(0)\n",
    "new_node.next = head.next\n",
    "head.next = new_node\n",
    "viz.display()"
   ]
  },
  {
   "cell_type": "markdown",
   "metadata": {},
   "source": [
    "## 二叉树的使用\n",
    "\n",
    "二叉树的节点使用 `TreeNode` 表示（位于 **tree.py** 中），和普通的二叉树节点类似，它有 `val`, `left` 和 `right` 属性，我们只需要把节点添加进 `SvgGraph`，然后就可以放心的使用了。\n",
    "\n",
    "`parseTree(node_vals)` 函数可以帮助我们构造一颗二叉树，但是传入的 `node_vals` 需要按照二叉树的广度优先遍历的方式传入，且树中空的分支需要用 `None` 来代替，可以参考一下下面的例子。"
   ]
  },
  {
   "cell_type": "code",
   "execution_count": null,
   "metadata": {},
   "outputs": [],
   "source": [
    "import algviz\n",
    "\n",
    "viz = algviz.Visualizer(1)\n",
    "root = algviz.parseTree([1, 2, 3, None, 4, None, 5])\n",
    "gra = viz.createGraph(data=root, horizontal=False)\n",
    "viz.display()\n",
    "\n",
    "# 测试树节点的遍历。\n",
    "def traverse_tree(root):\n",
    "    if root is not None:\n",
    "        root.val\n",
    "        viz.display()\n",
    "        traverse_tree(root.left)\n",
    "        traverse_tree(root.right)\n",
    "traverse_tree(root)"
   ]
  },
  {
   "cell_type": "markdown",
   "metadata": {},
   "source": [
    "## 拓扑图的使用\n",
    "\n",
    "拓扑图节点定义在 `GraphNode` 中（位于 **graph.py** 文件中），它提供了一些接口供我们方便的操作当前节点的子节点们，具体如下："
   ]
  },
  {
   "cell_type": "markdown",
   "metadata": {},
   "source": [
    "+ `neighbors()` 返回一个迭代器，用于遍历当前节点的所有邻居节点，这让我们可以很方便的使用 `for` 循环来遍历所以的邻居节点。"
   ]
  },
  {
   "cell_type": "markdown",
   "metadata": {},
   "source": [
    "+ `append(node, weight=None)` 添加一条从当前节点出发的边，新添加的边放在当前节点的 `neighbor_list` 的最后。`node` 表示新添加边的终点，`weight` 表示新添加边上的权重值，默认为 `None`。"
   ]
  },
  {
   "cell_type": "markdown",
   "metadata": {},
   "source": [
    "+ `insertBefore(node, ref_node, weight=None)` 功能和 `append` 类似，不过是在 `ref_node` 前面插入（`ref_node` 需要存在在当前节点的子节点中）。"
   ]
  },
  {
   "cell_type": "markdown",
   "metadata": {},
   "source": [
    "+ `replace(new_node, old_node, weight=None)` 用于替换一个邻居节点。"
   ]
  },
  {
   "cell_type": "markdown",
   "metadata": {},
   "source": [
    "+ `remove(node)` 用于移除一个邻居节点。"
   ]
  },
  {
   "cell_type": "markdown",
   "metadata": {},
   "source": [
    "+ `updateEdgeWeight(node1, node2, weight)` 接口用于更新边的权重值，`node1` 为边的起点，`node2` 为边的终点，`weight` 为权重值。"
   ]
  },
  {
   "cell_type": "markdown",
   "metadata": {},
   "source": [
    "+ `parseGraph(edges_, nodes_=None, directed=True)` 用于根据格式化输入来创建一个拓扑图。`edges` 为 `[[0, 1], [1, 2], [2, 0]]` 的形式，表示拓扑图中所有的边（使用拓扑图的顶点编号对来表示）；`nodes` 为 `[[0, 1], [1, 2], [2, 3]]` 的形式，表示拓扑图中的节点信息和节点上的 `val` 值。"
   ]
  },
  {
   "cell_type": "code",
   "execution_count": null,
   "metadata": {},
   "outputs": [],
   "source": [
    "import algviz\n",
    "\n",
    "viz = algviz.Visualizer(1)\n",
    "nodes_str = [[0, 0], [1,2], [2,3], [3,4], [4,5], [5,6], [6,7], [7,7]]\n",
    "edges_str = [[0,3], [3,5], [5,4], [4,1], [1,0], [2,0], [5,2], [4,6]]\n",
    "graph_nodes = algviz.parseGraph(edges_str, nodes_str)\n",
    "gra = viz.createGraph(data=list(graph_nodes.values()))\n",
    "viz.display()\n",
    "\n",
    "# 删除一个节点。\n",
    "graph_nodes[1].remove(graph_nodes[0])\n",
    "viz.display(2)\n",
    "\n",
    "# 添加一个节点。\n",
    "graph_nodes[5].append(graph_nodes[7])\n",
    "viz.display(2)"
   ]
  }
 ],
 "metadata": {
  "kernelspec": {
   "display_name": "Python 3",
   "language": "python",
   "name": "python3"
  },
  "language_info": {
   "codemirror_mode": {
    "name": "ipython",
    "version": 3
   },
   "file_extension": ".py",
   "mimetype": "text/x-python",
   "name": "python",
   "nbconvert_exporter": "python",
   "pygments_lexer": "ipython3",
   "version": "3.7.6"
  }
 },
 "nbformat": 4,
 "nbformat_minor": 4
}
