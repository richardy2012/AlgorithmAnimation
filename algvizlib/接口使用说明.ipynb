{
 "cells": [
  {
   "cell_type": "markdown",
   "metadata": {},
   "source": [
    "# algvizlib接口介绍\n",
    "\n",
    "__algvizlib 实现了二维表格，一维向量，单向链表，二叉树，有向图，无向图数据结构的可视化，并能够根据数据结构的变化产生直观的动画效果。生成的动画效果使用XML格式数据表示，可以在目前大部分主流浏览器中显示。__"
   ]
  },
  {
   "cell_type": "markdown",
   "metadata": {},
   "source": [
    "## Table 类的使用\n",
    "\n",
    "+ TODO"
   ]
  },
  {
   "cell_type": "markdown",
   "metadata": {},
   "source": [
    "## Vector 类的使用\n",
    "\n",
    "+ TODO"
   ]
  },
  {
   "cell_type": "markdown",
   "metadata": {},
   "source": [
    "## 链表的使用\n",
    "\n",
    "+ TODO"
   ]
  },
  {
   "cell_type": "markdown",
   "metadata": {},
   "source": [
    "## 二叉树的使用\n",
    "\n",
    "+ TODO"
   ]
  },
  {
   "cell_type": "markdown",
   "metadata": {},
   "source": [
    "## 拓扑图的使用\n",
    "\n",
    "+ TODO"
   ]
  },
  {
   "cell_type": "markdown",
   "metadata": {},
   "source": [
    "## Visualizer 类的使用\n",
    "\n",
    "+ TODO"
   ]
  }
 ],
 "metadata": {
  "kernelspec": {
   "display_name": "Python 3",
   "language": "python",
   "name": "python3"
  },
  "language_info": {
   "codemirror_mode": {
    "name": "ipython",
    "version": 3
   },
   "file_extension": ".py",
   "mimetype": "text/x-python",
   "name": "python",
   "nbconvert_exporter": "python",
   "pygments_lexer": "ipython3",
   "version": "3.7.6"
  }
 },
 "nbformat": 4,
 "nbformat_minor": 4
}
