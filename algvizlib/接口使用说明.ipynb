{
 "cells": [
  {
   "cell_type": "markdown",
   "metadata": {},
   "source": [
    "# algvizlib接口介绍\n",
    "\n",
    "__algvizlib 实现了二维表格 `Table`，一维向量 `Vector` ，单向链表 `ListNode` ，二叉树 `TreeNode` ，拓扑图 `GraphNode` 等数据结构的可视化，并能够根据数据结构的变化产生直观的动画效果。生成的动画效果使用XML格式数据表示，可以在目前大部分主流浏览器中显示。__"
   ]
  },
  {
   "cell_type": "markdown",
   "metadata": {},
   "source": [
    "## 可视化对象的创建与显示\n",
    "\n",
    "`Visualizer` 类一般是你在 import algvizlib 后第一个要使用的类，因为后续你要使用的 `Table`, `Vector`, `Tree`, `Graph` 都需要通过该类中的接口来创建。此外，动画效果的刷新时机与时长也和该类相关，下面介绍如何通过 `Visualizer` 类来创建数据结构并刷新动画。"
   ]
  },
  {
   "cell_type": "markdown",
   "metadata": {},
   "source": [
    "+ 初始化一个 `Visualizer` 对象会使用到 `__init__(delay=3.0, wait=False)` 接口，该接口中的 `delay` 为 `float` 类型，代表每次播放的动画整体时长（shi c），`wait` 代表每次播放动画后是否等待输入操作。\n",
    "\n",
    "    + 例子：创建一个名为 `viz` 的可视化类，每帧动画时长为1秒，不等待键盘输入操作。\n",
    "\n",
    "    ```python\n",
    "    viz = visual.Visualizer(1)\n",
    "    ```"
   ]
  },
  {
   "cell_type": "markdown",
   "metadata": {},
   "source": [
    "+ 你需要在程序的合适位置通过调用 `display(delay=None)` 接口用来刷新显示动画，具体的动画效果会根据可视化对象管理的数据结构的内容变化生成，接口的 `delay` 参数为 `float` 类型，表示该次生成动画的总时长，该值如果为 `None`，那么动画时长就会参考初始化 `Visuzlizer` "
   ]
  },
  {
   "cell_type": "markdown",
   "metadata": {},
   "source": [
    "+ 可视化的数据结构的创建都需要通过 `Visualizer` 中的相应接口进行创建，创建的数据结构会被跟踪记录，当这些被跟踪的数据的内容发生变化后，可视化对象会在下一次刷新时生成对应动画效果，下面列出几种数据结构的创建接口：\n",
    "    \n",
    "    + `createTable(row, col, data=None, name=None, cell_size=40, show_index=True)` 接口会返回一个创建好的 `Table` 对象，接口中的形参含义如下：\n",
    "        + `row` 为 `int` 类型的值，代表表格的行数；\n",
    "        + `col` 为 `int` 类型的值，代表表格的列数；\n",
    "        + `data` 为 `list(list()) 类型的值，代表表格初始化的内容，默认为空；\n",
    "        + `name` 为 `str` 类型的值，代表该数据结构的显示名称，默认为空；\n",
    "        + `cell_size` 为 `int` 类型值，代表表格中每个单元格的显示边长（单元格为正方形），默认为40个像素单位值；\n",
    "        + `show_index` 为 `bool` 类型，表示是否显示表格的下标索引值，默认显示下标索引。\n",
    "        \n",
    "        > ```python\n",
    "        > # 例子：创建一个 4x4 的表格对象 t1，显示名称为 Table。\n",
    "        > t1 = viz.createTable(4, 4, name='Table')\n",
    "        > ```\n",
    "    \n",
    "    + `createVector(data=None, name=None, cell_size=40, bar=-1, show_index=True)` 接口会返回一个创建好的 `Vector` 对象，接口中的形参含义如下：\n",
    "        + `data` 为 `list` 类型的值，表示向量数据结构中的初始化数据值，默认为空；\n",
    "        + `name` 为 `str` 类型的值，代表该数据结构的显示名称，默认为空；\n",
    "        + `cell_size` 为 `int` 类型值，代表表格中每个单元格的宽度，默认为40个像素单位值；\n",
    "        + `bar` 为 `int` 类型的值，如果 `bar` 的值为负数，则向量中单元格的显示高度和宽度相等，但如果 `bar` 值为正数，那么向量中的单元格将会以条形图 📊 的形式显示，每个单元格的高度都不超过 `bar` 值，且具体的显示高度和单元格中数值大小成正比关系（这要求 `Vector` 中的内容必须为数值）。\n",
    "        + `show_index` 为 `bool` 类型，表示是否显示表格的下标索引值，默认显示下标索引。\n",
    "        \n",
    "        > ```python\n",
    "        > # 例子：创建一个向量 v1，显示名称为 Vector，向量中的初始内容为 [1,2]，以高度为 100 像素的条形图来显示。\n",
    "        > v1 = viz.createVector([1, 2], name='Vector', bar=100, show_index=False)\n",
    "        > ```\n",
    "        \n",
    "    + `createGraph(data=None, name=None, directed=True, horizontal=True)` 会返回一个初始化的 `SvgGraph` 对象，用于显示链表，树和拓扑图，接口中的形参含义如下：\n",
    "        + `data` 如果为 `list(LisNode)` 类型的对象，将会创建一个链表的可视化对象；如果为 `list(TreeNode)` 类型的对象，将会创建一个二叉树的可视化对象；如果为 `GraphNode` 类型的对象，将会创建一个拓扑图可视化对象。\n",
    "        + `name` 为 `str` 类型的值，代表该数据结构的显示名称，默认为空；\n",
    "        + `directed` 为 `bool` 类型的值，代表显示的链表/树/拓扑图是否为有向的，默认为有向。\n",
    "        + `horizontal` 为 `bool` 类型的值，代表显示的排版方式，一般链表使用横向排版方式，树和拓扑图使用纵向排版方式，该值默认为 `True`。\n",
    "        \n",
    "        > ```python\n",
    "        > # 例子：创建一个二叉树 btree，显示名称为 `BinaryTree`。\n",
    "        > root = tree.parseTree([1, 2, 3, None, 4, None, 5])\n",
    "        > btree = viz.createGraph(name='BinaryTree', data=root)\n",
    "        > ```\n",
    "    + `createLogger(buffer_lines=10, name=None)` 接口将会返回一个日志打印对象，用于在合适的位置显示想要打印的日志记录，其中的 `buffer_lines` 为 `int` 类型，代表显示缓冲的日志条数，默认为 10 条；`name` 为 `str` 类型的值，代表该日志记录的显示名称，默认为空。"
   ]
  },
  {
   "cell_type": "markdown",
   "metadata": {},
   "source": [
    "## 表格的使用\n",
    "\n",
    "**Table** 类是一种容器，用来储存二维的变量值，类似于表格。我们需要在初始化一个 Table 类的时候**指定其行和列的数目**，然后可以通过接口读取和修改其中的单元格。"
   ]
  },
  {
   "cell_type": "markdown",
   "metadata": {},
   "source": [
    "+ 如何访问或修改 Table 中的元素？"
   ]
  },
  {
   "cell_type": "markdown",
   "metadata": {},
   "source": [
    "+ 如何强调一个单元格的内容？"
   ]
  },
  {
   "cell_type": "markdown",
   "metadata": {},
   "source": [
    "+ 如何方便的使用迭代器？"
   ]
  },
  {
   "cell_type": "markdown",
   "metadata": {},
   "source": [
    "## 向量的使用\n",
    "\n",
    "+ TODO"
   ]
  },
  {
   "cell_type": "markdown",
   "metadata": {},
   "source": [
    "## 链表的使用\n",
    "\n",
    "+ TODO"
   ]
  },
  {
   "cell_type": "markdown",
   "metadata": {},
   "source": [
    "## 二叉树的使用\n",
    "\n",
    "+ TODO"
   ]
  },
  {
   "cell_type": "markdown",
   "metadata": {},
   "source": [
    "## 拓扑图的使用\n",
    "\n",
    "+ TODO"
   ]
  }
 ],
 "metadata": {
  "kernelspec": {
   "display_name": "Python 3",
   "language": "python",
   "name": "python3"
  },
  "language_info": {
   "codemirror_mode": {
    "name": "ipython",
    "version": 3
   },
   "file_extension": ".py",
   "mimetype": "text/x-python",
   "name": "python",
   "nbconvert_exporter": "python",
   "pygments_lexer": "ipython3",
   "version": "3.7.6"
  }
 },
 "nbformat": 4,
 "nbformat_minor": 4
}
