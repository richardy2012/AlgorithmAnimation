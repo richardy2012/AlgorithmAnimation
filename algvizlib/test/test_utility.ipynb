{
 "cells": [
  {
   "cell_type": "code",
   "execution_count": null,
   "metadata": {},
   "outputs": [],
   "source": [
    "import sys\n",
    "sys.path.insert(0, '..')\n",
    "import draw.utility as util\n",
    "import time\n",
    "from IPython import display"
   ]
  },
  {
   "cell_type": "code",
   "execution_count": null,
   "metadata": {},
   "outputs": [],
   "source": [
    "# 测试Svgxml类中矩形的基本显示。\n",
    "\n",
    "svg = util.Svgxml(200, 200)\n",
    "r1 = svg.add_rect_element((10, 60, 50, 50), 'r1', (255, 255, 0))\n",
    "r2 = svg.add_rect_element((10, 150, 50, 50), 'r2', (0, 0, 0), angle=False)\n",
    "r3 = svg.add_rect_element((180, 60, 50, 50), 'r3', fill=(0, 0, 255))\n",
    "r4 = svg.add_rect_element((180, 150, 50, 50), angle=False, fill=(0, 255, 0))\n",
    "display.display(svg)"
   ]
  },
  {
   "cell_type": "code",
   "execution_count": null,
   "metadata": {},
   "outputs": [],
   "source": [
    "# 测试delete_rect_element接口。\n",
    "\n",
    "svg.delete_rect_element(r1)\n",
    "display.display(svg)"
   ]
  },
  {
   "cell_type": "code",
   "execution_count": null,
   "metadata": {},
   "outputs": [],
   "source": [
    "# 测试update_rect_element接口。\n",
    "\n",
    "r1 = svg.add_rect_element((10, 60, 50, 50), 'r1', (255, 255, 0))\n",
    "print('r1 id:', r1)\n",
    "svg.update_rect_element(r4, text='r4')\n",
    "svg.update_rect_element(r2, fill=(255,255,255), stroke=(255,0,0))\n",
    "svg.update_rect_element(r3, fill=(0,0,0))\n",
    "display.display(svg)"
   ]
  },
  {
   "cell_type": "code",
   "execution_count": null,
   "metadata": {},
   "outputs": [],
   "source": [
    "# 测试动画清除后的SVG内容。\n",
    "\n",
    "svg.add_animate_appear(r1, (0,3))\n",
    "svg.add_animate_appear(r2, (0,3), False)\n",
    "svg.add_animate_move(r3, (-170, 0), (0, 3), False)\n",
    "svg.add_animate_move(r4, (-170, 0), (0, 3))\n",
    "print(svg._repr_svg_(), '\\n')\n",
    "svg.clear_animates()\n",
    "print(svg._repr_svg_())"
   ]
  },
  {
   "cell_type": "code",
   "execution_count": null,
   "metadata": {},
   "outputs": [],
   "source": [
    "# 测试出现和消失动画。\n",
    "\n",
    "svg.clear_animates()\n",
    "svg.add_animate_appear(r1, (0,3))\n",
    "svg.add_animate_appear(r4, (0,3), False)\n",
    "display.display(svg)"
   ]
  },
  {
   "cell_type": "code",
   "execution_count": null,
   "metadata": {},
   "outputs": [],
   "source": [
    "# 测试沿直线运动的动画效果。\n",
    "\n",
    "# 第一帧动画。\n",
    "svg.clear_animates()\n",
    "svg.add_animate_move(r1, (170, 0), (0, 3), False)\n",
    "svg.add_animate_move(r3, (-170, 0), (0, 3), False)\n",
    "svg.add_animate_move(r4, (-170, 0), (0, 3), False)\n",
    "svg.add_animate_move(r2, (170, 0), (0, 3), False)\n",
    "display.display(svg, display_id='d1')\n",
    "time.sleep(3)\n",
    "# 第二帧动画。\n",
    "svg.clear_animates()\n",
    "svg.add_animate_move(r1, (0, 90), (0, 3), False)\n",
    "svg.add_animate_move(r3, (0, 90), (0, 3), False)\n",
    "svg.add_animate_move(r4, (0, -90), (0, 3), False)\n",
    "svg.add_animate_move(r2, (0, -90), (0, 3), False)\n",
    "display.update_display(svg, display_id='d1')\n",
    "time.sleep(3)\n",
    "# 第三帧动画。\n",
    "svg.clear_animates()\n",
    "svg.add_animate_move(r1, (170, 90), (0, 3), False)\n",
    "svg.add_animate_move(r3, (-170, 90), (0, 3), False)\n",
    "svg.add_animate_move(r4, (-170, -90), (0, 3), False)\n",
    "svg.add_animate_move(r2, (170, -90), (0, 3), False)\n",
    "display.update_display(svg, display_id='d1')"
   ]
  },
  {
   "cell_type": "code",
   "execution_count": null,
   "metadata": {},
   "outputs": [],
   "source": [
    "# 测试沿贝塞尔曲线运动的动画效果。\n",
    "\n",
    "# 测试沿直线运动的动画效果。\n",
    "\n",
    "# 第一帧动画。\n",
    "svg.clear_animates()\n",
    "svg.add_animate_move(r1, (170, 0), (0, 3))\n",
    "svg.add_animate_move(r3, (-170, 0), (0, 3))\n",
    "svg.add_animate_move(r4, (-170, 0), (0, 3))\n",
    "svg.add_animate_move(r2, (170, 0), (0, 3))\n",
    "display.display(svg, display_id='d2')\n",
    "time.sleep(3)\n",
    "# 第二帧动画。\n",
    "svg.clear_animates()\n",
    "svg.add_animate_move(r1, (0, 90), (0, 3))\n",
    "svg.add_animate_move(r3, (0, 90), (0, 3))\n",
    "svg.add_animate_move(r4, (0, -90), (0, 3))\n",
    "svg.add_animate_move(r2, (0, -90), (0, 3))\n",
    "display.update_display(svg, display_id='d2')\n",
    "time.sleep(3)\n",
    "# 第三帧动画。\n",
    "svg.clear_animates()\n",
    "svg.add_animate_move(r1, (170, 90), (0, 3))\n",
    "svg.add_animate_move(r3, (-170, 90), (0, 3))\n",
    "svg.add_animate_move(r4, (-170, -90), (0, 3))\n",
    "svg.add_animate_move(r2, (170, -90), (0, 3))\n",
    "display.update_display(svg, display_id='d2')"
   ]
  }
 ],
 "metadata": {
  "kernelspec": {
   "display_name": "Python 3",
   "language": "python",
   "name": "python3"
  },
  "language_info": {
   "codemirror_mode": {
    "name": "ipython",
    "version": 3
   },
   "file_extension": ".py",
   "mimetype": "text/x-python",
   "name": "python",
   "nbconvert_exporter": "python",
   "pygments_lexer": "ipython3",
   "version": "3.7.6"
  }
 },
 "nbformat": 4,
 "nbformat_minor": 4
}
