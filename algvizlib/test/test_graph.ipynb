{
 "cells": [
  {
   "cell_type": "code",
   "execution_count": null,
   "metadata": {},
   "outputs": [],
   "source": [
    "import sys\n",
    "from IPython import display\n",
    "import time\n",
    "\n",
    "sys.path.append('../algviz')\n",
    "import svg_graph\n",
    "import graph"
   ]
  },
  {
   "cell_type": "code",
   "execution_count": null,
   "metadata": {},
   "outputs": [],
   "source": [
    "# 测试拓扑图的基本显示。\n",
    "nodes_str = '[[0,1], [1,2], [2,3], [3,4], [4,5], [5,6], [6,7], [7,7]]'\n",
    "edges_str = '[[0,3], [3,5], [5,4], [4,1], [1,0], [2,0], [5,2], [4,6]]'\n",
    "graph_nodes = graph.parseGraph(edges_str, nodes_str)\n",
    "gra = svg_graph.SvgGraph(list(graph_nodes.values()), True, 3.0, horizontal=True)\n",
    "display.display(gra)"
   ]
  },
  {
   "cell_type": "code",
   "execution_count": null,
   "metadata": {},
   "outputs": [],
   "source": [
    "# 测试跟踪器的遍历。\n",
    "display.display(gra, display_id='d0')\n",
    "node_stack = [graph_nodes[0]]\n",
    "visited = set()\n",
    "while len(node_stack) > 0:\n",
    "    cur_node = node_stack.pop()\n",
    "    if cur_node in visited:\n",
    "        continue\n",
    "    visited.add(cur_node)\n",
    "    cur_node.val -= 1\n",
    "    for neighbor in cur_node.neighbors():\n",
    "        node_stack.append(neighbor[0])\n",
    "    cur_node.val\n",
    "    display.update_display(gra, display_id='d0')\n",
    "    time.sleep(1.0)"
   ]
  },
  {
   "cell_type": "code",
   "execution_count": null,
   "metadata": {},
   "outputs": [],
   "source": [
    "# 测试remove接口。\n",
    "graph_nodes[1].remove(graph_nodes[0])\n",
    "display.display(gra, display_id='d1')\n",
    "time.sleep(3.0)\n",
    "# 测试append接口。\n",
    "graph_nodes[5].append(graph_nodes[7])\n",
    "display.update_display(gra, display_id='d1')\n",
    "time.sleep(3.0)\n",
    "# 测试insertBefore接口。\n",
    "graph_nodes[0].insertBefore(graph_nodes[4], graph_nodes[3])\n",
    "display.update_display(gra, display_id='d1')\n",
    "time.sleep(3.0)\n",
    "# 测试replace接口。\n",
    "graph_nodes[4].replace(graph_nodes[7], graph_nodes[1])\n",
    "display.update_display(gra, display_id='d1')\n",
    "time.sleep(3.0)"
   ]
  },
  {
   "cell_type": "code",
   "execution_count": null,
   "metadata": {},
   "outputs": [],
   "source": [
    "# 测试无向图显示和边权重的修改接口。\n",
    "graph_nodes2 = graph.parseGraph('[[0, 1, 10], [1, 2, 11], [2, 0, 12]]', directed=False)\n",
    "gra2 = svg_graph.SvgGraph(list(graph_nodes2.values()), False, 3.0, horizontal=True)\n",
    "display.display(gra2, display_id='d2')\n",
    "time.sleep(3.0)\n",
    "graph.updateEdgeWeight(graph_nodes2[0], graph_nodes2[1], 24)\n",
    "display.update_display(gra2, display_id='d2')\n",
    "time.sleep(3.0)"
   ]
  }
 ],
 "metadata": {
  "kernelspec": {
   "display_name": "Python 3",
   "language": "python",
   "name": "python3"
  },
  "language_info": {
   "codemirror_mode": {
    "name": "ipython",
    "version": 3
   },
   "file_extension": ".py",
   "mimetype": "text/x-python",
   "name": "python",
   "nbconvert_exporter": "python",
   "pygments_lexer": "ipython3",
   "version": "3.7.6"
  }
 },
 "nbformat": 4,
 "nbformat_minor": 4
}
