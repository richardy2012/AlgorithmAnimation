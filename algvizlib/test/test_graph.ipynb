{
 "cells": [
  {
   "cell_type": "code",
   "execution_count": null,
   "metadata": {},
   "outputs": [],
   "source": [
    "import sys\n",
    "from IPython import display\n",
    "import time\n",
    "\n",
    "sys.path.append('../algviz')\n",
    "import svg_graph\n",
    "import graph"
   ]
  },
  {
   "cell_type": "code",
   "execution_count": null,
   "metadata": {},
   "outputs": [],
   "source": [
    "# 测试拓扑图的基本显示。\n",
    "nodes_str = '[[0,1], [1,2], [2,3], [3,4], [4,5], [5,6], [6,7], [7,8]]'\n",
    "edges_str = '[[0,3], [3,5], [5,4], [4,1], [1,0], [2,0], [5,2], [4,6]]'\n",
    "graph_nodes = graph.parseGraph(nodes_str, edges_str)\n",
    "gra = svg_graph.SvgGraph(list(graph_nodes.values()), True, 3.0, horizontal=True)\n",
    "display.display(gra)"
   ]
  },
  {
   "cell_type": "code",
   "execution_count": null,
   "metadata": {},
   "outputs": [],
   "source": [
    "# 测试跟踪器的遍历。\n",
    "tr1 = graph.GraphTrace(graph_nodes[1], gra, (221, 160, 221), False)\n",
    "gra._trace_info[(221, 160, 221)] = None\n",
    "display.display(gra, display_id='d0')\n",
    "time.sleep(1.0)\n",
    "node_stack = [graph_nodes[0]]\n",
    "visited = set()\n",
    "while len(node_stack) > 0:\n",
    "    cur_node = node_stack.pop()\n",
    "    if cur_node in visited:\n",
    "        continue\n",
    "    visited.add(cur_node)\n",
    "    tr1(cur_node)\n",
    "    display.update_display(gra, display_id='d0')\n",
    "    time.sleep(1.0)\n",
    "    for i in range(len(tr1)):\n",
    "        node_stack.append(tr1[i])"
   ]
  },
  {
   "cell_type": "code",
   "execution_count": null,
   "metadata": {},
   "outputs": [],
   "source": [
    "# 测试添加和删除节点动画效果。\n",
    "tr1[0] = None\n",
    "display.display(gra, display_id='d1')\n",
    "time.sleep(3.0)\n",
    "tr1[3] = graph.GraphNode(15)\n",
    "display.update_display(gra, display_id='d1')\n",
    "time.sleep(3.0)\n",
    "tr1[0] = graph_nodes[6]\n",
    "display.update_display(gra, display_id='d1')\n",
    "time.sleep(3.0)\n",
    "gra.remove(graph_nodes[7])\n",
    "display.update_display(gra, display_id='d1')\n",
    "time.sleep(3.0)"
   ]
  }
 ],
 "metadata": {
  "kernelspec": {
   "display_name": "Python 3",
   "language": "python",
   "name": "python3"
  },
  "language_info": {
   "codemirror_mode": {
    "name": "ipython",
    "version": 3
   },
   "file_extension": ".py",
   "mimetype": "text/x-python",
   "name": "python",
   "nbconvert_exporter": "python",
   "pygments_lexer": "ipython3",
   "version": "3.7.6"
  }
 },
 "nbformat": 4,
 "nbformat_minor": 4
}
