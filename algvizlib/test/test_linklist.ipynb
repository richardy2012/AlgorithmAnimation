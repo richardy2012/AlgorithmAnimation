{
 "cells": [
  {
   "cell_type": "code",
   "execution_count": null,
   "metadata": {},
   "outputs": [],
   "source": [
    "import sys\n",
    "from IPython import display\n",
    "import time\n",
    "\n",
    "sys.path.append('../algviz')\n",
    "import svg_graph\n",
    "import link_list"
   ]
  },
  {
   "cell_type": "code",
   "execution_count": null,
   "metadata": {},
   "outputs": [],
   "source": [
    "# 测试单向链表的基本显示。\n",
    "data = '[1, 2, 3, 4, 5, 6, 7]'\n",
    "head = link_list.parseForwardListNodes(data)\n",
    "graph = svg_graph.SvgGraph(head, True, 3.0, True)\n",
    "display.display(graph)"
   ]
  },
  {
   "cell_type": "code",
   "execution_count": null,
   "metadata": {},
   "outputs": [],
   "source": [
    "# 测试单向链表跟踪器。\n",
    "tr1 = link_list.ForwardListTrace(head, graph, (245, 222, 179), False)\n",
    "tr2 = link_list.ForwardListTrace(head, graph, (202, 255, 112), False)\n",
    "display.display(graph, display_id='d0')\n",
    "time.sleep(1.0)\n",
    "while tr1 != None and tr1.next != None:\n",
    "    tr1(tr1.next.next)\n",
    "    tr2(tr2.next)\n",
    "    display.update_display(graph, display_id='d0')\n",
    "    time.sleep(1.0)"
   ]
  },
  {
   "cell_type": "code",
   "execution_count": null,
   "metadata": {},
   "outputs": [],
   "source": [
    "# 测试添加/删除节点和动画效果。\n",
    "graph.remove(tr2.next)\n",
    "tr2.next = tr2.next.next\n",
    "tr1.next = link_list.ForwardListNode(8)\n",
    "display.display(graph)"
   ]
  },
  {
   "cell_type": "code",
   "execution_count": null,
   "metadata": {},
   "outputs": [],
   "source": [
    "# 翻转链表动画演示。\n",
    "tr1(None);tr2(head)\n",
    "display.display(graph, display_id='d1')\n",
    "time.sleep(3.0)\n",
    "while tr2 != None:\n",
    "    temp = tr2.next\n",
    "    tr2.next = tr1\n",
    "    tr1(tr2)\n",
    "    tr2(temp)\n",
    "    display.update_display(graph, display_id='d1')\n",
    "    time.sleep(3.0)"
   ]
  }
 ],
 "metadata": {
  "kernelspec": {
   "display_name": "Python 3",
   "language": "python",
   "name": "python3"
  },
  "language_info": {
   "codemirror_mode": {
    "name": "ipython",
    "version": 3
   },
   "file_extension": ".py",
   "mimetype": "text/x-python",
   "name": "python",
   "nbconvert_exporter": "python",
   "pygments_lexer": "ipython3",
   "version": "3.7.6"
  }
 },
 "nbformat": 4,
 "nbformat_minor": 4
}
