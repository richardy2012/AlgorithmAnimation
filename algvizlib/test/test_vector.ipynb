{
 "cells": [
  {
   "cell_type": "code",
   "execution_count": null,
   "metadata": {},
   "outputs": [],
   "source": [
    "import time\n",
    "from IPython import display\n",
    "import sys\n",
    "sys.path.append('../algviz')\n",
    "import vector\n",
    "count = 0"
   ]
  },
  {
   "cell_type": "code",
   "execution_count": null,
   "metadata": {},
   "outputs": [],
   "source": [
    "# 测试基本构造函数和显示功能和跟踪器对象。\n",
    "data = [1, 3, 5, 7,9]\n",
    "vec = vector.Vector(data, 3, 50)\n",
    "display.display(vec)"
   ]
  },
  {
   "cell_type": "code",
   "execution_count": null,
   "metadata": {},
   "outputs": [],
   "source": [
    "display.display(vec, display_id='d2')\n",
    "tr1 = vector.VectorTrace(vec, (245, 222, 179), True, 0)\n",
    "tr2 = vector.VectorTrace(vec, (255, 193, 37), False, len(data)-1)\n",
    "for i in range(len(data)):\n",
    "    tr1.i = i\n",
    "    tr2.i = len(data)-i-1\n",
    "    vec[tr1] += 1\n",
    "    vec[tr2] -= 1\n",
    "    display.update_display(vec, display_id='d2')\n",
    "    time.sleep(1.0)\n",
    "del tr1\n",
    "display.update_display(vec, display_id='d2')\n",
    "time.sleep(1.0)"
   ]
  },
  {
   "cell_type": "code",
   "execution_count": null,
   "metadata": {},
   "outputs": [],
   "source": [
    "# 测试插入动画。\n",
    "tr1 = vector.VectorTrace(vec, (245, 222, 179), True, 0)\n",
    "tr1.i = 3\n",
    "vec.insert(tr1, '+{}'.format(count))\n",
    "count += 1\n",
    "display.display(vec)"
   ]
  },
  {
   "cell_type": "code",
   "execution_count": null,
   "metadata": {},
   "outputs": [],
   "source": [
    "# 测试删除动画。\n",
    "tr2.i = 3\n",
    "vec.pop(tr2)\n",
    "display.display(vec)"
   ]
  },
  {
   "cell_type": "code",
   "execution_count": null,
   "metadata": {},
   "outputs": [],
   "source": [
    "# 测试综合动画。\n",
    "display.display(vec, display_id='d3')\n",
    "tr3 = vector.VectorTrace(vec, (144, 238, 144), True, 0)\n",
    "tr4 = vector.VectorTrace(vec, (176, 226, 255), True, len(vec)-1)\n",
    "vec[tr3] = vec[tr4]\n",
    "vec.insert(tr3, '+{}'.format(count))\n",
    "count += 1\n",
    "vec.insert(tr4, '+{}'.format(count))\n",
    "count += 1\n",
    "display.update_display(vec, display_id='d3')\n",
    "time.sleep(3)\n",
    "vec.pop(tr3)\n",
    "vec.pop(tr4)\n",
    "display.update_display(vec, display_id='d3')\n",
    "time.sleep(3)\n",
    "vec.insert(tr4, '+{}'.format(count))\n",
    "vec.pop(tr3)\n",
    "display.update_display(vec, display_id='d3')\n",
    "time.sleep(3)"
   ]
  }
 ],
 "metadata": {
  "kernelspec": {
   "display_name": "Python 3",
   "language": "python",
   "name": "python3"
  },
  "language_info": {
   "codemirror_mode": {
    "name": "ipython",
    "version": 3
   },
   "file_extension": ".py",
   "mimetype": "text/x-python",
   "name": "python",
   "nbconvert_exporter": "python",
   "pygments_lexer": "ipython3",
   "version": "3.7.6"
  }
 },
 "nbformat": 4,
 "nbformat_minor": 4
}
