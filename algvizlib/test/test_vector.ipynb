{
 "cells": [
  {
   "cell_type": "code",
   "execution_count": null,
   "metadata": {},
   "outputs": [],
   "source": [
    "import time\n",
    "from IPython import display\n",
    "import sys\n",
    "sys.path.append('../algviz')\n",
    "import vector"
   ]
  },
  {
   "cell_type": "code",
   "execution_count": null,
   "metadata": {},
   "outputs": [],
   "source": [
    "# 测试基本显示功能。\n",
    "data = [1, -3, 5, -7, 9]\n",
    "vec = vector.Vector(data, 3, 50, bar=300)\n",
    "display.display(vec)\n",
    "vec = vector.Vector(data, 3, 50)\n",
    "display.display(vec)"
   ]
  },
  {
   "cell_type": "code",
   "execution_count": null,
   "metadata": {},
   "outputs": [],
   "source": [
    "# 测试对象访问和赋值接口。\n",
    "display.display(vec, display_id='d0')\n",
    "for i in range(len(vec)):\n",
    "    vec[i] = 1\n",
    "    vec[len(vec)-1-i]\n",
    "    display.update_display(vec, display_id='d0')\n",
    "    time.sleep(1.0)\n",
    "display.update_display(vec, display_id='d0')\n",
    "time.sleep(1.0)"
   ]
  },
  {
   "cell_type": "code",
   "execution_count": null,
   "metadata": {},
   "outputs": [],
   "source": [
    "# 测试两次访问同一个元素。\n",
    "vec[0]\n",
    "display.display(vec, display_id='d')\n",
    "time.sleep(1)\n",
    "vec[0]\n",
    "display.update_display(vec, display_id='d')"
   ]
  },
  {
   "cell_type": "code",
   "execution_count": null,
   "metadata": {},
   "outputs": [],
   "source": [
    "# 测试插入，删除和清除接口。\n",
    "vec.insert(3, 3)\n",
    "display.display(vec, display_id='d1')\n",
    "time.sleep(3.0)\n",
    "vec.pop(3)\n",
    "display.update_display(vec, display_id='d1')\n",
    "time.sleep(3.0)\n",
    "vec.clear()\n",
    "display.update_display(vec, display_id='d1')\n",
    "time.sleep(3.0)\n",
    "vec.append(10)\n",
    "vec.insert(0, 11)\n",
    "display.update_display(vec, display_id='d1')\n",
    "time.sleep(3.0)"
   ]
  },
  {
   "cell_type": "code",
   "execution_count": null,
   "metadata": {},
   "outputs": [],
   "source": [
    "# 测试颜色标记和清除接口。\n",
    "vec.add_mark(0, (199, 21, 133))\n",
    "display.display(vec, display_id='d2')\n",
    "time.sleep(1.0)\n",
    "vec.add_mark(1, (199, 21, 133))\n",
    "display.update_display(vec, display_id='d2')\n",
    "time.sleep(1.0)\n",
    "vec.remove_mark((199, 21, 133))\n",
    "display.update_display(vec, display_id='d2')\n",
    "time.sleep(1.0)"
   ]
  }
 ],
 "metadata": {
  "kernelspec": {
   "display_name": "Python 3",
   "language": "python",
   "name": "python3"
  },
  "language_info": {
   "codemirror_mode": {
    "name": "ipython",
    "version": 3
   },
   "file_extension": ".py",
   "mimetype": "text/x-python",
   "name": "python",
   "nbconvert_exporter": "python",
   "pygments_lexer": "ipython3",
   "version": "3.7.6"
  },
  "toc-autonumbering": false,
  "toc-showcode": false,
  "toc-showmarkdowntxt": false,
  "toc-showtags": false
 },
 "nbformat": 4,
 "nbformat_minor": 4
}
