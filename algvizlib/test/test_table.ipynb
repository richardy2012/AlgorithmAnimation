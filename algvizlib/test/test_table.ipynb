{
 "cells": [
  {
   "cell_type": "code",
   "execution_count": null,
   "metadata": {},
   "outputs": [],
   "source": [
    "import sys\n",
    "from IPython import display\n",
    "import time\n",
    "\n",
    "sys.path.append('../algviz')\n",
    "import table"
   ]
  },
  {
   "cell_type": "code",
   "execution_count": null,
   "metadata": {},
   "outputs": [],
   "source": [
    "# 测试表格的__init__和_repr_svg_接口。\n",
    "\n",
    "data = [[0, 1, 2, 3],\n",
    "       [4, 5, 6, 7],\n",
    "       [8, 9, 10, 11],\n",
    "       [12, 13, 14, 15]]\n",
    "tab1 = table.Table(4, 4, data, 40)\n",
    "tab2 = table.Table(15, 15, None, 10)\n",
    "display.display(tab1)\n",
    "display.display(tab2)"
   ]
  },
  {
   "cell_type": "code",
   "execution_count": null,
   "metadata": {},
   "outputs": [],
   "source": [
    "# 测试元素的访问和设置接口。\n",
    "display.display(tab1,  display_id='d0')\n",
    "for r in range(4):\n",
    "    for c in range(4):\n",
    "        tab1[(r,c)]\n",
    "        tab1[(3-r,3-c)] = ''\n",
    "        display.update_display(tab1, display_id='d0')\n",
    "        time.sleep(1)"
   ]
  },
  {
   "cell_type": "code",
   "execution_count": null,
   "metadata": {},
   "outputs": [],
   "source": [
    "# 测试添加和删除标记接口。\n",
    "color_list = [\n",
    "    (245, 222, 179), # Wheat\n",
    "    (202, 255, 112), # DarkOliveGreen\n",
    "    (221, 160, 221), # Plum\n",
    "    (176, 226, 255), # LightSkyBlue\n",
    "]\n",
    "n = len(color_list)\n",
    "tab3 = table.Table(n+1, n+1, None, 25)\n",
    "display.display(tab3,  display_id='d1')\n",
    "for i in range(0, n):\n",
    "    tab3.add_mark((0,i+1), color_list[i])\n",
    "    tab3.add_mark((i+1,0), color_list[i])\n",
    "for i in range(0, n):\n",
    "    for j in range(0, n):\n",
    "        tab3.add_mark((i+1,j+1), color_list[i])\n",
    "        tab3.add_mark((i+1,j+1), color_list[j])\n",
    "        display.update_display(tab3,  display_id='d1')\n",
    "        time.sleep(1)\n",
    "for i in range(n):\n",
    "    tab3.remove_mark(color_list[i])\n",
    "    display.update_display(tab3,  display_id='d1')\n",
    "    time.sleep(1)"
   ]
  }
 ],
 "metadata": {
  "kernelspec": {
   "display_name": "Python 3",
   "language": "python",
   "name": "python3"
  },
  "language_info": {
   "codemirror_mode": {
    "name": "ipython",
    "version": 3
   },
   "file_extension": ".py",
   "mimetype": "text/x-python",
   "name": "python",
   "nbconvert_exporter": "python",
   "pygments_lexer": "ipython3",
   "version": "3.7.6"
  }
 },
 "nbformat": 4,
 "nbformat_minor": 4
}
