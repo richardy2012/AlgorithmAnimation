{
 "cells": [
  {
   "cell_type": "code",
   "execution_count": null,
   "metadata": {},
   "outputs": [],
   "source": [
    "import sys\n",
    "from IPython import display\n",
    "import time\n",
    "\n",
    "sys.path.append('../algviz')\n",
    "import table"
   ]
  },
  {
   "cell_type": "code",
   "execution_count": null,
   "metadata": {},
   "outputs": [],
   "source": [
    "# 测试表格的__init__和_repr_svg_接口。\n",
    "\n",
    "data = [[0, 1, 2, 3],\n",
    "       [4, 5, 6, 7],\n",
    "       [8, 9, 10, 11],\n",
    "       [12, 13, 14, 15]]\n",
    "tab1 = table.Table(4, 4, data, 50)\n",
    "tab2 = table.Table(20, 20, None, 10)\n",
    "display.display(tab1)\n",
    "display.display(tab2)"
   ]
  },
  {
   "cell_type": "code",
   "execution_count": null,
   "metadata": {},
   "outputs": [],
   "source": [
    "# 测试Trace和Table的__getitem__,__setitem__和delete_trace功能。\n",
    "\n",
    "tt1 = table.TableTrace(tab1, (211, 211, 211), True, 0, 0)\n",
    "tt2 = table.TableTrace(tab1, (245, 222, 179), True, 3, 3)\n",
    "tt3 = table.TableTrace(tab1, (255, 193, 37), False, 4, -1)\n",
    "display.display(tab1,  display_id='d1')\n",
    "for r in range(4):\n",
    "    tt1.r = r\n",
    "    tt2.r = 3-r\n",
    "    tt3.r -= 1\n",
    "    tt3.c += 1\n",
    "    for c in range(4):\n",
    "        tt1.c = c\n",
    "        tt2.c = 3-c\n",
    "        tab1[tt1] = tab1[tt2]-1\n",
    "        tab1[tt3]\n",
    "        display.update_display(tab1, display_id='d1')\n",
    "        time.sleep(1)\n",
    "del tt1\n",
    "display.update_display(tab1, display_id='d1')\n",
    "time.sleep(1)\n",
    "del tt2\n",
    "display.update_display(tab1, display_id='d1')"
   ]
  },
  {
   "cell_type": "code",
   "execution_count": null,
   "metadata": {},
   "outputs": [],
   "source": [
    "tt4 = table.TableTrace(tab1, (211, 211, 211), True, 0, 0)\n",
    "display.display(tab1,  display_id='d2')\n",
    "for tt4.r in range(4):\n",
    "    tt5 = table.TableTrace(tab1, (245, 222, 179), True, 0, tt4.r)\n",
    "    for tt4.c in range(4):\n",
    "        tt5.r = tt4.c\n",
    "        tab1[tt4] += 1\n",
    "        tab1[tt5]\n",
    "        display.update_display(tab1, display_id='d2')\n",
    "        time.sleep(1)\n",
    "del tt5\n",
    "display.update_display(tab1, display_id='d2')"
   ]
  }
 ],
 "metadata": {
  "kernelspec": {
   "display_name": "Python 3",
   "language": "python",
   "name": "python3"
  },
  "language_info": {
   "codemirror_mode": {
    "name": "ipython",
    "version": 3
   },
   "file_extension": ".py",
   "mimetype": "text/x-python",
   "name": "python",
   "nbconvert_exporter": "python",
   "pygments_lexer": "ipython3",
   "version": "3.7.6"
  }
 },
 "nbformat": 4,
 "nbformat_minor": 4
}
