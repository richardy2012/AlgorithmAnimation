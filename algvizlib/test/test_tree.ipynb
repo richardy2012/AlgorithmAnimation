{
 "cells": [
  {
   "cell_type": "code",
   "execution_count": null,
   "metadata": {},
   "outputs": [],
   "source": [
    "import sys\n",
    "from IPython import display\n",
    "import time\n",
    "\n",
    "sys.path.append('../algviz')\n",
    "import svg_graph\n",
    "import tree"
   ]
  },
  {
   "cell_type": "code",
   "execution_count": null,
   "metadata": {},
   "outputs": [],
   "source": [
    "'''\n",
    "测试二叉树的基本显示，树的结构如下：\n",
    "    1\n",
    "   / \\\n",
    "  2   3\n",
    "   \\   \\\n",
    "    4   5\n",
    "'''\n",
    "tree_str = '[1,2,3,null,4,null,5]'\n",
    "r = tree.parseBinaryTree(tree_str)\n",
    "graph = svg_graph.SvgGraph(r, True, 3.0)\n",
    "display.display(graph)"
   ]
  },
  {
   "cell_type": "code",
   "execution_count": null,
   "metadata": {},
   "outputs": [],
   "source": [
    "# 测试跟踪器。\n",
    "trace = tree.BinaryTreeTrace(r, graph, (221, 160, 221), True)\n",
    "display.display(graph, display_id='d0')\n",
    "time.sleep(1.0)\n",
    "def traverse_tree(root):\n",
    "    if root != None:\n",
    "        trace(root).val\n",
    "        display.update_display(graph, display_id='d0')\n",
    "        time.sleep(1.0)\n",
    "        traverse_tree(root.left)\n",
    "        traverse_tree(root.right)\n",
    "traverse_tree(r)"
   ]
  },
  {
   "cell_type": "code",
   "execution_count": null,
   "metadata": {},
   "outputs": [],
   "source": [
    "# 测试向树中添加和删除节点。\n",
    "add_node = tree.BinaryTreeNode(8)\n",
    "add_node.left = tree.BinaryTreeNode(13)\n",
    "add_node.right = tree.BinaryTreeNode(14)\n",
    "trace.right = add_node\n",
    "display.display(graph, display_id='d1')\n",
    "time.sleep(3.0)\n",
    "trace.left = tree.BinaryTreeNode(17)\n",
    "display.update_display(graph, display_id='d1')"
   ]
  }
 ],
 "metadata": {
  "kernelspec": {
   "display_name": "Python 3",
   "language": "python",
   "name": "python3"
  },
  "language_info": {
   "codemirror_mode": {
    "name": "ipython",
    "version": 3
   },
   "file_extension": ".py",
   "mimetype": "text/x-python",
   "name": "python",
   "nbconvert_exporter": "python",
   "pygments_lexer": "ipython3",
   "version": "3.7.6"
  }
 },
 "nbformat": 4,
 "nbformat_minor": 4
}
