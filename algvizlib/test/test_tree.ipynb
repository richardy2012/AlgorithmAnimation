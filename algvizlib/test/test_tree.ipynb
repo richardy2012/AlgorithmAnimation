{
 "cells": [
  {
   "cell_type": "code",
   "execution_count": null,
   "metadata": {},
   "outputs": [],
   "source": [
    "import sys\n",
    "from IPython import display\n",
    "import time\n",
    "\n",
    "sys.path.append('../algviz')\n",
    "import svg_graph\n",
    "import tree"
   ]
  },
  {
   "cell_type": "code",
   "execution_count": null,
   "metadata": {},
   "outputs": [],
   "source": [
    "'''\n",
    "测试二叉树的基本显示，树的结构如下：\n",
    "    1\n",
    "   / \\\n",
    "  2   3\n",
    "   \\   \\\n",
    "    4   5\n",
    "'''\n",
    "tree_str = '[1,2,3,null,4,null,5]'\n",
    "r = tree.parseBinaryTree(tree_str)\n",
    "graph = svg_graph.SvgGraph(r, True, 3.0)\n",
    "display.display(graph)"
   ]
  },
  {
   "cell_type": "code",
   "execution_count": null,
   "metadata": {},
   "outputs": [],
   "source": [
    "# 测试跟踪器。\n",
    "display.display(graph, display_id='d0')\n",
    "trace = tree.BinaryTreeTrace(r, graph, (221, 160, 221), False)\n",
    "graph._trace_color.add((221, 160, 221))\n",
    "def traverse_tree(root):\n",
    "    if root != None:\n",
    "        trace(root).val += 1\n",
    "        display.update_display(graph, display_id='d0')\n",
    "        time.sleep(1.0)\n",
    "        traverse_tree(root.left)\n",
    "        traverse_tree(root.right)\n",
    "traverse_tree(r)"
   ]
  },
  {
   "cell_type": "code",
   "execution_count": null,
   "metadata": {},
   "outputs": [],
   "source": [
    "# 添加子树。\n",
    "add_node = tree.BinaryTreeNode(8)\n",
    "add_node.left = tree.BinaryTreeNode(13)\n",
    "add_node.right = tree.BinaryTreeNode(14)\n",
    "trace.right = add_node\n",
    "display.display(graph, display_id='d1')\n",
    "time.sleep(3.0)\n",
    "# 删除边。\n",
    "trace.right = None\n",
    "display.update_display(graph, display_id='d1')\n",
    "time.sleep(3.0)\n",
    "trace.right = add_node\n",
    "display.update_display(graph, display_id='d1')"
   ]
  },
  {
   "cell_type": "code",
   "execution_count": null,
   "metadata": {},
   "outputs": [],
   "source": [
    "# 移动树中节点。\n",
    "temp_node = add_node.left\n",
    "add_node.left = None\n",
    "temp_node.left = add_node\n",
    "temp_node.right = add_node.right\n",
    "add_node.right = None\n",
    "trace.right = temp_node\n",
    "display.display(graph)"
   ]
  },
  {
   "cell_type": "code",
   "execution_count": null,
   "metadata": {},
   "outputs": [],
   "source": [
    "# 删除节点。\n",
    "graph.remove(trace.right, True)\n",
    "trace.right = None\n",
    "display.display(graph, display_id='d2')\n",
    "time.sleep(3.0)\n",
    "# 新增节点。\n",
    "trace(tree.BinaryTreeNode(24))\n",
    "display.update_display(graph, display_id='d2')"
   ]
  }
 ],
 "metadata": {
  "kernelspec": {
   "display_name": "Python 3",
   "language": "python",
   "name": "python3"
  },
  "language_info": {
   "codemirror_mode": {
    "name": "ipython",
    "version": 3
   },
   "file_extension": ".py",
   "mimetype": "text/x-python",
   "name": "python",
   "nbconvert_exporter": "python",
   "pygments_lexer": "ipython3",
   "version": "3.7.6"
  }
 },
 "nbformat": 4,
 "nbformat_minor": 4
}
