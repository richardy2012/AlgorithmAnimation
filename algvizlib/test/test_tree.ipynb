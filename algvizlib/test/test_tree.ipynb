{
 "cells": [
  {
   "cell_type": "code",
   "execution_count": 1,
   "metadata": {},
   "outputs": [],
   "source": [
    "import sys\n",
    "from IPython import display\n",
    "import time\n",
    "\n",
    "sys.path.append('../algviz')\n",
    "import svg_graph\n",
    "import tree"
   ]
  },
  {
   "cell_type": "code",
   "execution_count": 2,
   "metadata": {},
   "outputs": [
    {
     "ename": "AttributeError",
     "evalue": "'SvgGraph' object has no attribute 'add_node'",
     "output_type": "error",
     "traceback": [
      "\u001b[0;31m---------------------------------------------------------------------------\u001b[0m",
      "\u001b[0;31mAttributeError\u001b[0m                            Traceback (most recent call last)",
      "\u001b[0;32m<ipython-input-2-fdc82c73347e>\u001b[0m in \u001b[0;36m<module>\u001b[0;34m\u001b[0m\n\u001b[1;32m      9\u001b[0m \u001b[0mtree_str\u001b[0m \u001b[0;34m=\u001b[0m \u001b[0;34m'[1,2,3,null,4,null,5]'\u001b[0m\u001b[0;34m\u001b[0m\u001b[0;34m\u001b[0m\u001b[0m\n\u001b[1;32m     10\u001b[0m \u001b[0mr\u001b[0m \u001b[0;34m=\u001b[0m \u001b[0mtree\u001b[0m\u001b[0;34m.\u001b[0m\u001b[0mparseBinaryTree\u001b[0m\u001b[0;34m(\u001b[0m\u001b[0mtree_str\u001b[0m\u001b[0;34m)\u001b[0m\u001b[0;34m\u001b[0m\u001b[0;34m\u001b[0m\u001b[0m\n\u001b[0;32m---> 11\u001b[0;31m \u001b[0mgraph\u001b[0m \u001b[0;34m=\u001b[0m \u001b[0msvg_graph\u001b[0m\u001b[0;34m.\u001b[0m\u001b[0mSvgGraph\u001b[0m\u001b[0;34m(\u001b[0m\u001b[0mr\u001b[0m\u001b[0;34m,\u001b[0m \u001b[0;32mTrue\u001b[0m\u001b[0;34m,\u001b[0m \u001b[0;36m3.0\u001b[0m\u001b[0;34m)\u001b[0m\u001b[0;34m\u001b[0m\u001b[0;34m\u001b[0m\u001b[0m\n\u001b[0m\u001b[1;32m     12\u001b[0m \u001b[0mdisplay\u001b[0m\u001b[0;34m.\u001b[0m\u001b[0mdisplay\u001b[0m\u001b[0;34m(\u001b[0m\u001b[0mgraph\u001b[0m\u001b[0;34m)\u001b[0m\u001b[0;34m\u001b[0m\u001b[0;34m\u001b[0m\u001b[0m\n",
      "\u001b[0;32m~/notebooks/algvizlib/algviz/svg_graph.py\u001b[0m in \u001b[0;36m__init__\u001b[0;34m(self, root, directed, delay, horizontal)\u001b[0m\n\u001b[1;32m     33\u001b[0m         \u001b[0;34m(\u001b[0m\u001b[0mself\u001b[0m\u001b[0;34m.\u001b[0m\u001b[0m_svg\u001b[0m\u001b[0;34m,\u001b[0m \u001b[0mself\u001b[0m\u001b[0;34m.\u001b[0m\u001b[0m_node_idmap\u001b[0m\u001b[0;34m,\u001b[0m \u001b[0mself\u001b[0m\u001b[0;34m.\u001b[0m\u001b[0m_edge_idmap\u001b[0m\u001b[0;34m)\u001b[0m \u001b[0;34m=\u001b[0m \u001b[0mself\u001b[0m\u001b[0;34m.\u001b[0m\u001b[0m_create_svg_\u001b[0m\u001b[0;34m(\u001b[0m\u001b[0;34m)\u001b[0m\u001b[0;34m\u001b[0m\u001b[0;34m\u001b[0m\u001b[0m\n\u001b[1;32m     34\u001b[0m         \u001b[0;32mif\u001b[0m \u001b[0mroot\u001b[0m \u001b[0;32mis\u001b[0m \u001b[0;32mnot\u001b[0m \u001b[0;32mNone\u001b[0m\u001b[0;34m:\u001b[0m\u001b[0;34m\u001b[0m\u001b[0;34m\u001b[0m\u001b[0m\n\u001b[0;32m---> 35\u001b[0;31m             \u001b[0mself\u001b[0m\u001b[0;34m.\u001b[0m\u001b[0madd_node\u001b[0m\u001b[0;34m(\u001b[0m\u001b[0mroot\u001b[0m\u001b[0;34m,\u001b[0m \u001b[0;32mNone\u001b[0m\u001b[0;34m,\u001b[0m \u001b[0;32mTrue\u001b[0m\u001b[0;34m)\u001b[0m\u001b[0;34m\u001b[0m\u001b[0;34m\u001b[0m\u001b[0m\n\u001b[0m\u001b[1;32m     36\u001b[0m \u001b[0;34m\u001b[0m\u001b[0m\n\u001b[1;32m     37\u001b[0m     '''\n",
      "\u001b[0;31mAttributeError\u001b[0m: 'SvgGraph' object has no attribute 'add_node'"
     ]
    }
   ],
   "source": [
    "'''\n",
    "测试二叉树的基本显示，树的结构如下：\n",
    "    1\n",
    "   / \\\n",
    "  2   3\n",
    "   \\   \\\n",
    "    4   5\n",
    "'''\n",
    "tree_str = '[1,2,3,null,4,null,5]'\n",
    "r = tree.parseBinaryTree(tree_str)\n",
    "graph = svg_graph.SvgGraph(r, True, 3.0)\n",
    "display.display(graph)"
   ]
  },
  {
   "cell_type": "code",
   "execution_count": null,
   "metadata": {},
   "outputs": [],
   "source": [
    "# 测试跟踪器。\n",
    "trace = tree.BinaryTreeTrace(r, graph, (221, 160, 221), False)\n",
    "display.display(graph, display_id='d0')\n",
    "time.sleep(1.0)\n",
    "def traverse_tree(root):\n",
    "    if root != None:\n",
    "        trace(root).val\n",
    "        display.update_display(graph, display_id='d0')\n",
    "        time.sleep(1.0)\n",
    "        traverse_tree(root.left)\n",
    "        traverse_tree(root.right)\n",
    "traverse_tree(r)"
   ]
  },
  {
   "cell_type": "code",
   "execution_count": null,
   "metadata": {},
   "outputs": [],
   "source": [
    "# 测试向树中添加和删除节点。\n",
    "add_node = tree.BinaryTreeNode(8)\n",
    "add_node.left = tree.BinaryTreeNode(13)\n",
    "add_node.right = tree.BinaryTreeNode(14)\n",
    "trace.right = add_node\n",
    "display.display(graph, display_id='d1')\n",
    "time.sleep(3.0)\n",
    "trace.right = None\n",
    "temp_node = add_node.left\n",
    "add_node.left = None\n",
    "temp_node.left = add_node\n",
    "temp_node.right = add_node.right\n",
    "add_node.right = None\n",
    "trace.right = temp_node\n",
    "display.update_display(graph, display_id='d1')\n",
    "time.sleep(3.0)\n",
    "trace.right = None\n",
    "display.update_display(graph, display_id='d1')\n",
    "time.sleep(3.0)\n",
    "trace(tree.BinaryTreeNode(24))\n",
    "display.update_display(graph, display_id='d1')"
   ]
  }
 ],
 "metadata": {
  "kernelspec": {
   "display_name": "Python 3",
   "language": "python",
   "name": "python3"
  },
  "language_info": {
   "codemirror_mode": {
    "name": "ipython",
    "version": 3
   },
   "file_extension": ".py",
   "mimetype": "text/x-python",
   "name": "python",
   "nbconvert_exporter": "python",
   "pygments_lexer": "ipython3",
   "version": "3.7.6"
  }
 },
 "nbformat": 4,
 "nbformat_minor": 4
}
