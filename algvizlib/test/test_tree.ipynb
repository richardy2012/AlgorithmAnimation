{
 "cells": [
  {
   "cell_type": "code",
   "execution_count": null,
   "metadata": {},
   "outputs": [],
   "source": [
    "import sys\n",
    "from IPython import display\n",
    "import time\n",
    "\n",
    "sys.path.append('../algviz')\n",
    "import svg_graph\n",
    "import tree"
   ]
  },
  {
   "cell_type": "code",
   "execution_count": null,
   "metadata": {},
   "outputs": [],
   "source": [
    "'''\n",
    "测试二叉树的基本显示，树的结构如下：\n",
    "    1\n",
    "   / \\\n",
    "  2   3\n",
    "   \\   \\\n",
    "    4   5\n",
    "'''\n",
    "tree_str = [1, 2, 3, None, 4, None, 5]\n",
    "root = tree.parseTree(tree_str)\n",
    "graph = svg_graph.SvgGraph(root, True, 3.0)\n",
    "display.display(graph)"
   ]
  },
  {
   "cell_type": "code",
   "execution_count": null,
   "metadata": {},
   "outputs": [],
   "source": [
    "# 测试树节点的遍历。\n",
    "display.display(graph, display_id='d0')\n",
    "def traverse_tree(root):\n",
    "    if root is not None:\n",
    "        root.val\n",
    "        display.update_display(graph, display_id='d0')\n",
    "        time.sleep(1.0)\n",
    "        traverse_tree(root.left)\n",
    "        traverse_tree(root.right)\n",
    "traverse_tree(root)"
   ]
  },
  {
   "cell_type": "code",
   "execution_count": null,
   "metadata": {},
   "outputs": [],
   "source": [
    "# 测试树节点的修改。\n",
    "add_node = tree.TreeNode(8)\n",
    "add_node.left = tree.TreeNode(13)\n",
    "add_node.right = tree.TreeNode(14)\n",
    "root.right = None\n",
    "display.display(graph, display_id='d1')\n",
    "time.sleep(3.0)\n",
    "root.right = add_node\n",
    "display.update_display(graph, display_id='d1')\n",
    "time.sleep(3.0)"
   ]
  },
  {
   "cell_type": "code",
   "execution_count": null,
   "metadata": {},
   "outputs": [],
   "source": [
    "# 测试树节点的移动。\n",
    "temp_node = add_node.left\n",
    "add_node.left = None\n",
    "temp_node.left = add_node\n",
    "temp_node.right = add_node.right\n",
    "add_node.right = None\n",
    "root.right = temp_node\n",
    "display.display(graph)"
   ]
  },
  {
   "cell_type": "code",
   "execution_count": null,
   "metadata": {},
   "outputs": [],
   "source": [
    "# 测试删除和新增树节点。\n",
    "graph.removeNode(root.right, True)\n",
    "root.right = None\n",
    "display.display(graph, display_id='d2')\n",
    "time.sleep(3.0)\n",
    "graph.addNode(tree.TreeNode(24))\n",
    "display.update_display(graph, display_id='d2')"
   ]
  },
  {
   "cell_type": "code",
   "execution_count": null,
   "metadata": {},
   "outputs": [],
   "source": [
    "# 测试添加和删除标记颜色。\n",
    "graph.markNode(root, (245, 222, 179), hold=True)\n",
    "display.display(graph, display_id='d3')\n",
    "time.sleep(1.0)\n",
    "graph.markEdge(root.left, root.left.right, (245, 222, 179), hold=True)\n",
    "display.update_display(graph, display_id='d3')\n",
    "time.sleep(1.0)\n",
    "graph.removeMark((245, 222, 179))\n",
    "display.update_display(graph, display_id='d3')\n",
    "time.sleep(1.0)"
   ]
  }
 ],
 "metadata": {
  "kernelspec": {
   "display_name": "Python 3",
   "language": "python",
   "name": "python3"
  },
  "language_info": {
   "codemirror_mode": {
    "name": "ipython",
    "version": 3
   },
   "file_extension": ".py",
   "mimetype": "text/x-python",
   "name": "python",
   "nbconvert_exporter": "python",
   "pygments_lexer": "ipython3",
   "version": "3.7.6"
  }
 },
 "nbformat": 4,
 "nbformat_minor": 4
}
