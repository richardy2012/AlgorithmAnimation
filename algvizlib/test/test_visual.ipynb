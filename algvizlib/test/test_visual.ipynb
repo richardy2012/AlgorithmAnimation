{
 "cells": [
  {
   "cell_type": "code",
   "execution_count": null,
   "metadata": {},
   "outputs": [],
   "source": [
    "import sys\n",
    "sys.path.append('../algviz')\n",
    "import visual\n",
    "import tree"
   ]
  },
  {
   "cell_type": "code",
   "execution_count": null,
   "metadata": {},
   "outputs": [],
   "source": [
    "viz = visual.Visualizer(1)\n",
    "t1 = viz.createTable(4, 4, name='Table')\n",
    "tr1 = viz.createTableTrace(t1, True)\n",
    "for tr1.r in range(4):\n",
    "    tr2 = viz.createTableTrace(t1, False)\n",
    "    for tr1.c in range(4):\n",
    "        tr2.r = tr1.c\n",
    "        t1[tr1]\n",
    "        t1[tr2]\n",
    "        viz.refresh()\n",
    "v1 = viz.createVector([1, 2], name='Vector')\n",
    "i = viz.createVectorTrace(v1)\n",
    "v1.insert(i, 0)\n",
    "viz.refresh()"
   ]
  },
  {
   "cell_type": "code",
   "execution_count": null,
   "metadata": {},
   "outputs": [],
   "source": [
    "viz = visual.Visualizer()\n",
    "root = tree.parseBinaryTree('[1,2,3,null,4,null,5]')\n",
    "btree1 = viz.createGraph(name='BinaryTree', data=root)\n",
    "tr3 = viz.createBinaryTreeTrace(btree1, hold=True, node=root)\n",
    "viz.refresh()"
   ]
  }
 ],
 "metadata": {
  "kernelspec": {
   "display_name": "Python 3",
   "language": "python",
   "name": "python3"
  },
  "language_info": {
   "codemirror_mode": {
    "name": "ipython",
    "version": 3
   },
   "file_extension": ".py",
   "mimetype": "text/x-python",
   "name": "python",
   "nbconvert_exporter": "python",
   "pygments_lexer": "ipython3",
   "version": "3.7.6"
  }
 },
 "nbformat": 4,
 "nbformat_minor": 4
}
