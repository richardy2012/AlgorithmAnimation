{
 "cells": [
  {
   "cell_type": "code",
   "execution_count": null,
   "metadata": {},
   "outputs": [],
   "source": [
    "import sys\n",
    "sys.path.append('../algviz')\n",
    "import visual\n",
    "import tree\n",
    "import graph\n",
    "import link_list"
   ]
  },
  {
   "cell_type": "code",
   "execution_count": null,
   "metadata": {},
   "outputs": [],
   "source": [
    "viz = visual.Visualizer(1)\n",
    "t1 = viz.createTable(4, 4, name='Table')\n",
    "tr1 = viz.createTableTrace(t1, True, name='trace1')\n",
    "for tr1.r in range(4):\n",
    "    tr2 = viz.createTableTrace(t1, False, name='trace2')\n",
    "    for tr1.c in range(2):\n",
    "        tr2.r = tr1.c\n",
    "        t1[tr1]\n",
    "        t1[tr2]\n",
    "        viz.refresh()\n",
    "v1 = viz.createVector([1, 2], name='Vector')\n",
    "i = viz.createVectorTrace(v1)\n",
    "v1.insert(i, 0)\n",
    "viz.refresh()"
   ]
  },
  {
   "cell_type": "code",
   "execution_count": null,
   "metadata": {},
   "outputs": [],
   "source": [
    "viz = visual.Visualizer()\n",
    "root = tree.parseBinaryTree('[1,2,3,null,4,null,5]')\n",
    "btree1 = viz.createGraph(name='BinaryTree', data=root)\n",
    "tr3 = viz.createBinaryTreeTrace(btree1, hold=True, node=root)\n",
    "head = link_list.parseForwardListNodes('[1, 2, 3, 4, 5]')\n",
    "llist = viz.createGraph(name='LinkList', data=head, horizontal=True)\n",
    "tr4 = viz.createForwardListTrace(llist, node=head)\n",
    "tr5 = viz.createForwardListTrace(llist, hold=True, node=tr4.next, name='trace5')\n",
    "viz.refresh()\n",
    "nodes_str = '[[0,1], [1,2], [2,3], [3,4], [4,5], [5,6], [6,7], [7,8]]'\n",
    "edges_str = '[[0,3], [3,5], [5,4], [4,1], [1,0], [2,0], [5,2], [4,6]]'\n",
    "graph_nodes = graph.parseGraph(nodes_str, edges_str)\n",
    "gra = viz.createGraph(name='Graph', data=list(graph_nodes.values()), horizontal=True)\n",
    "tr6 = viz.createGraphTrace(gra)\n",
    "tr6(graph_nodes[0])\n",
    "viz.refresh()"
   ]
  }
 ],
 "metadata": {
  "kernelspec": {
   "display_name": "Python 3",
   "language": "python",
   "name": "python3"
  },
  "language_info": {
   "codemirror_mode": {
    "name": "ipython",
    "version": 3
   },
   "file_extension": ".py",
   "mimetype": "text/x-python",
   "name": "python",
   "nbconvert_exporter": "python",
   "pygments_lexer": "ipython3",
   "version": "3.7.6"
  }
 },
 "nbformat": 4,
 "nbformat_minor": 4
}
