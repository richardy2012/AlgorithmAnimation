{
 "cells": [
  {
   "cell_type": "code",
   "execution_count": null,
   "metadata": {},
   "outputs": [],
   "source": [
    "import sys\n",
    "sys.path.append('../algviz')\n",
    "import visual\n",
    "import tree\n",
    "import graph\n",
    "import link_list"
   ]
  },
  {
   "cell_type": "code",
   "execution_count": null,
   "metadata": {},
   "outputs": [],
   "source": [
    "viz = visual.Visualizer(1)\n",
    "t1 = viz.createTable(4, 4, name='Table')\n",
    "for r in range(4):\n",
    "    for c in range(2):\n",
    "        t1[(r, c)]\n",
    "        viz.display()\n",
    "v1 = viz.createVector([1, 2], name='Vector', bar=100, show_index=False)\n",
    "v1.insert(0, 0)\n",
    "viz.display()"
   ]
  },
  {
   "cell_type": "code",
   "execution_count": null,
   "metadata": {},
   "outputs": [],
   "source": [
    "viz = visual.Visualizer(3)\n",
    "root = tree.parseTree([1, 2, 3, None, 4, None, 5])\n",
    "btree1 = viz.createGraph(name='BinaryTree', data=root)\n",
    "head = link_list.parseLinkList([1, 2, 3, 4, 5])\n",
    "llist = viz.createGraph(name='LinkList', data=head, horizontal=True)\n",
    "viz.display(1.0)\n",
    "nodes = [[0,1], [1,2], [2,3], [3,4], [4,5], [5,6], [6,7], [7,8]]\n",
    "edges = [[0,3], [3,5], [5,4], [4,1], [1,0], [2,0], [5,2], [4,6]]\n",
    "graph_nodes = graph.parseGraph(edges, nodes)\n",
    "gra = viz.createGraph(name='Graph', data=list(graph_nodes.values()), horizontal=True)\n",
    "viz.display()"
   ]
  },
  {
   "cell_type": "code",
   "execution_count": null,
   "metadata": {},
   "outputs": [],
   "source": [
    "# 测试不同vector之间的数据是否互相干扰\n",
    "viz = visual.Visualizer(3, wait=True)\n",
    "vec1 = viz.createVector(name='vec1')\n",
    "vec2 = viz.createVector(name='vec2')\n",
    "log = viz.createLogger(name='log', buffer_lines=3)\n",
    "for i in range(5):\n",
    "    vec1.append(i)\n",
    "    vec2.append(-i)\n",
    "    log.write('line:{}'.format(i))\n",
    "    log.write(viz.display(1))"
   ]
  }
 ],
 "metadata": {
  "kernelspec": {
   "display_name": "Python 3",
   "language": "python",
   "name": "python3"
  },
  "language_info": {
   "codemirror_mode": {
    "name": "ipython",
    "version": 3
   },
   "file_extension": ".py",
   "mimetype": "text/x-python",
   "name": "python",
   "nbconvert_exporter": "python",
   "pygments_lexer": "ipython3",
   "version": "3.7.6"
  }
 },
 "nbformat": 4,
 "nbformat_minor": 4
}
