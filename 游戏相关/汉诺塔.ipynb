{
 "cells": [
  {
   "cell_type": "markdown",
   "metadata": {},
   "source": [
    "# 汉诺塔(Hanoi)\n",
    "\n",
    "相传在古印度圣庙中，有一种被称为汉诺塔(Hanoi)的游戏。该游戏是在一块铜板装置上，有三根杆(编号A、B、C)，在A杆自下而上、由大到小按顺序放置64个金盘。  \n",
    "\n",
    "游戏的目标：把A杆上的金盘全部移到C杆上，并仍保持原有顺序叠好。操作规则：每次只能移动一个盘子，并且在移动过程中**三根杆上都始终保持大盘在下，小盘在上**，操作过程中盘子可以置于A、B、C任一杆上。\n",
    "\n",
    "是不是也想动手试试？运行下面的程序来体验一把吧！👇"
   ]
  },
  {
   "cell_type": "code",
   "execution_count": null,
   "metadata": {
    "jupyter": {
     "source_hidden": true
    }
   },
   "outputs": [],
   "source": [
    "# 汉诺塔游戏实现。\n",
    "import algviz\n",
    "\n",
    "def movePlate(sour, dest):\n",
    "    if len(sour) and (not len(dest) or sour[-1] < dest[-1]):\n",
    "        dest.append(sour.pop())\n",
    "\n",
    "def hanoiGame(n):\n",
    "    viz = algviz.Visualizer(delay=1.0, wait=True)\n",
    "    plates = [i for i in range(n, 0, -1)]\n",
    "    A = viz.createVector(plates, name='A', show_index=False)\n",
    "    B = viz.createVector(name='B', show_index=False)\n",
    "    C = viz.createVector(name='C', show_index=False)\n",
    "    count = 0\n",
    "    while len(A)+len(B) > 0:\n",
    "        inp = viz.display()\n",
    "        if inp == 'ac':\n",
    "            movePlate(A, C)\n",
    "        elif inp == 'ab':\n",
    "            movePlate(A, B)\n",
    "        elif inp == 'ba':\n",
    "            movePlate(B, A)\n",
    "        elif inp == 'bc':\n",
    "            movePlate(B, C)\n",
    "        elif inp == 'cb':\n",
    "            movePlate(C, B)\n",
    "        elif inp == 'ca':\n",
    "            movePlate(C, A)\n",
    "        count += 1\n",
    "    viz.display()\n",
    "    print('👍恭喜你完成了{}层的汉诺塔，共用了{}步。'.format(n, count))\n",
    "    \n",
    "hanoiGame(3)"
   ]
  },
  {
   "cell_type": "markdown",
   "metadata": {},
   "source": [
    "## 递归求解算法\n",
    "\n",
    "*自己一个一个移动比较累，能不能交给程序自动完成呢？让我们来分析一下。*\n",
    "\n",
    "汉诺塔的求解是一个递归的过程，我们可以倒着来分析（这也是递归的思想），把动作一步步拆解。  \n",
    "具体步骤如下：\n",
    "\n",
    "1. 将A杆上前n-1个盘子移动到B杆上（具体怎么移暂时不管）。\n",
    "2. 将A杆上第n个盘子移动到C杆上，这个是基本操作，直接移动就行了。\n",
    "3. 将B杆上的所有盘子移动到C杆上（这相当于一个子问题了，只不过A和B柱子的位置换了以下位置）。\n",
    "\n",
    "按照上面的3个步骤反复执行，直到所有的盘子都移动到了C杆上。观察上述步骤可以发现，只有在步骤2中执行了具体的移动操作，而步骤1和步骤3都是递归的过程。如果我们有一个用于求解该问题的函数，那么该函数的接口应该像 `hanoi(left, mid, right, n)`，其中的 `left, mid, right` 分别代表三根柱子从左到右的排列位置，`n` 代表要移动柱子上的盘子数量。  \n",
    "\n",
    "+ 执行步骤1时我们只需要以C为跳板，将A柱上的前n-1个盘子移动到B柱上，即调用 `hanoi(A, C, B, n-1)`即可。 \n",
    "+ 执行步骤3时我们只需要以A为跳板，将B柱上所有的盘子移动到C柱上，即调用 `hanoi(B, A, C, n-1)` 即可。\n",
    "\n",
    "那么算法什么时候停止移动盘子呢？这就需要在递归中加入**停止条件**了，其实很简单，我们只需要在操作前判断 `n` 中是否大于1即可。\n",
    "\n",
    "## 复杂度分析\n",
    "\n",
    "+ **时间复杂度：** 为了求解一个规模为n的问题，算法需要求解两次规模为n-1的子问题，并作一次移动操作，递推关系式为：\n",
    "    $T(n) = \\begin{cases} 2T(n-1) + 1 & n > 1 \\\\ 1 & n = 1 \\end{cases}$，所以算法最终的时间复杂度为 $O(2^n)$，而 $2^{64}$ 可是一个天文数字，我们的算法怕是搞不定古印度圣庙里的那个问题了。\n",
    "+ **空间复杂度：** 空间复杂度和递归的深度成正比，也即是盘子的个数，所以空间复杂度为 $O(n)$ 。"
   ]
  },
  {
   "cell_type": "code",
   "execution_count": null,
   "metadata": {},
   "outputs": [],
   "source": [
    "# 汉诺塔递归求解算法实现。\n",
    "import algviz\n",
    "\n",
    "class Hanoi():\n",
    "    def __init__(self, n):\n",
    "        self.viz = algviz.Visualizer(1)\n",
    "        self.count = 0\n",
    "        plates = [i for i in range(n, 0, -1)]\n",
    "        A = self.viz.createVector(plates, name='A', show_index=False)\n",
    "        B = self.viz.createVector(name='B', show_index=False)\n",
    "        C = self.viz.createVector(name='C', show_index=False)\n",
    "        self.solve(A, B, C, n)\n",
    "        print('程序已完成{}层汉诺塔，共用了{}步。'.format(n, self.count))\n",
    "        \n",
    "    def solve(self, A, B, C, n):\n",
    "        if n > 0:\n",
    "            self.solve(A, C, B, n-1)\n",
    "            C.append(A.pop())\n",
    "            self.count += 1\n",
    "            self.viz.display()\n",
    "            self.solve(B, A, C, n-1)\n",
    "            \n",
    "solver = Hanoi(3)"
   ]
  },
  {
   "cell_type": "markdown",
   "metadata": {},
   "source": [
    "# 总结\n",
    "\n",
    "当我们手工移动汉诺塔中的圆盘，或是观察程序移动圆盘的方式时，都是从下至上一步步的完成操作的。而神奇的是，我们的递归版本求解算法是从上至下设计和实现的，这就是递归算法的简洁之处，它从整体上去考虑问题的解决方法，从而跳出层层细节，威力无穷。\n",
    "\n",
    "最后，解决同样规模的问题，你和我们的递归代码谁更快？如果你赢了，那就喝杯卡布奇诺☕庆祝一下吧！"
   ]
  }
 ],
 "metadata": {
  "kernelspec": {
   "display_name": "Python 3",
   "language": "python",
   "name": "python3"
  },
  "language_info": {
   "codemirror_mode": {
    "name": "ipython",
    "version": 3
   },
   "file_extension": ".py",
   "mimetype": "text/x-python",
   "name": "python",
   "nbconvert_exporter": "python",
   "pygments_lexer": "ipython3",
   "version": "3.7.6"
  }
 },
 "nbformat": 4,
 "nbformat_minor": 4
}
