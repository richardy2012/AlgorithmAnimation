{
 "cells": [
  {
   "cell_type": "markdown",
   "metadata": {},
   "source": [
    "# 除法求值\n",
    "\n",
    "\n",
    "给你一个变量对数组 $equations$ 和一个实数值数组 $values$ 作为已知条件，其中 $equations[i] = [A_i, B_i]$ 和 $values[i]$ 共同表示等式 $Ai / Bi = values[i]$ 。每个 $A_i$ 或 $B_i$ 是一个表示单个变量的字符串。\n",
    "\n",
    "另有一些以数组 $queries$ 表示的问题，其中 $queries[j] = [C_j, D_j]$ 表示第 $j$ 个问题，请你根据已知条件找出 $Cj / Dj = ?$ 的结果作为答案。\n",
    "\n",
    "返回 所有问题的答案 。如果存在某个无法确定的答案，则用 -1.0 替代这个答案。如果问题中出现了给定的已知条件中没有出现的字符串，也需要用 -1.0 替代这个答案。\n",
    "\n",
    "注意：输入总是有效的。你可以假设除法运算中不会出现除数为 0 的情况，且不存在任何矛盾的结果。\n",
    "\n",
    "\n",
    "## 示例1\n",
    "\n",
    "> 输入：$equations = [[\"a\",\"b\"],[\"b\",\"c\"]], values = [2.0,3.0], queries = [[\"a\",\"c\"],[\"b\",\"a\"],[\"a\",\"e\"],[\"a\",\"a\"],[\"x\",\"x\"]]$\n",
    ">\n",
    "> 输出：$[6.00000,0.50000,-1.00000,1.00000,-1.00000]$\n",
    ">\n",
    "> 解释：\n",
    ">\n",
    "> 条件：$a / b = 2.0, b / c = 3.0$\n",
    ">\n",
    "> 问题：$a / c = ?, b / a = ?, a / e = ?, a / a = ?, x / x = ?$\n",
    ">\n",
    "> 结果：$[6.0, 0.5, -1.0, 1.0, -1.0 ]$\n",
    "\n",
    "## 示例2\n",
    "\n",
    "> 输入：$equations = [[\"a\",\"b\"],[\"b\",\"c\"],[\"bc\",\"cd\"]]$, $values = [1.5,2.5,5.0]$, $queries = [[\"a\",\"c\"],[\"c\",\"b\"],[\"bc\",\"cd\"],[\"cd\",\"bc\"]]$\n",
    ">\n",
    "> 输出：$[3.75000,0.40000,5.00000,0.20000]$"
   ]
  },
  {
   "cell_type": "markdown",
   "metadata": {},
   "source": [
    "## 求解方法\n",
    "\n",
    "### 分析\n",
    "\n",
    "认真读题可以发现，$equatons$ 中的表达式有以下性质：\n",
    "\n",
    "+ 表达式中的两个值具有倍率关系。\n",
    "+ 对于多个字符串组成的表达式，可以通过单个字符的值相乘来表示（通过倍率关系进行传递）。\n",
    "\n",
    "如果要解除每个字母所代表的具体数字，就需要解多元多次方程组，这实现起来非常复杂。\n",
    "\n",
    "一个朴素的想法，能不能将其中的一个字母的值设为1，并将其它字母通过倍率关系反推出来呢？似乎是可行的，但是在实际执行中会存在一下问题：\n",
    "\n",
    "1. 这个值为1的字母该怎么选呢？\n",
    "2. 要是有的字母和这个字母无任何关联怎么办？\n",
    "3. 如何确定没有答案的情况？\n",
    "\n",
    "以第三点为入口，要确定没有答案的情况，就需要判断 $query$ 中是否有字符和已知的字符无任何关系。将字母看作拓扑图中的节点，在存在倍率关系的字符间添加一条边（边的权重为倍率），那么可以将已知条件转换为多个有向图所构成的森林。这时我们渐渐发现，其实可以使用并查集的结构来表示这种单向的关系，以便快速的判断一个字符和已知字符之间的倍率关系。"
   ]
  },
  {
   "cell_type": "code",
   "execution_count": null,
   "metadata": {},
   "outputs": [],
   "source": [
    "import algviz\n",
    "\n",
    "class DivideFindValue():\n",
    "    def __init__(equations, values):\n",
    "        self.viz = algviz.Visualizer(1, wait=True)\n",
    "        self.graph = self.viz.createGraph(name=\"UnionFindTree\")\n",
    "        for equation in equations:\n",
    "            pass\n",
    "    \n",
    "    # 查找某个节点的父节点和与其之间的倍率\n",
    "    def findParentAndRate(ch):\n",
    "        "
   ]
  }
 ],
 "metadata": {
  "kernelspec": {
   "display_name": "Python 3",
   "language": "python",
   "name": "python3"
  },
  "language_info": {
   "codemirror_mode": {
    "name": "ipython",
    "version": 3
   },
   "file_extension": ".py",
   "mimetype": "text/x-python",
   "name": "python",
   "nbconvert_exporter": "python",
   "pygments_lexer": "ipython3",
   "version": "3.8.5"
  }
 },
 "nbformat": 4,
 "nbformat_minor": 4
}
