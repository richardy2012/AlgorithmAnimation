{
 "cells": [
  {
   "cell_type": "markdown",
   "metadata": {},
   "source": [
    "# 从前序与中序遍历序列构造二叉树\n",
    "\n",
    "## [问题描述](https://leetcode-cn.com/problems/construct-binary-tree-from-preorder-and-inorder-traversal/)\n",
    "\n",
    "根据一棵树的前序遍历与中序遍历构造二叉树。\n",
    "\n",
    "注意:\n",
    "你可以假设树中没有重复的元素。\n",
    "\n",
    "例如，给出:\n",
    "\n",
    "> 前序遍历 preorder = \\[3, 9, 20, 15, 7\\]  \n",
    "> 中序遍历 inorder = \\[9, 3, 15, 20, 7\\]\n",
    "\n",
    "返回如下的二叉树：\n",
    "\n",
    "> &emsp;3  \n",
    "> &ensp;  / \\\\  \n",
    ">  9 &ensp; 20  \n",
    ">  &emsp;&ensp;  /  \\\\  \n",
    ">  &ensp; 15 &ensp;  7"
   ]
  },
  {
   "cell_type": "markdown",
   "metadata": {},
   "source": [
    "## 解决思路\n",
    "\n",
    "此题考查二叉树的遍历方式，以及对二叉树的构造和递归的理解。  \n",
    "+ 前序遍历二叉树得到的序列结构为：**根节点值， 左子树遍历结果， 右子树遍历结果**。    \n",
    "+ 中序遍历二叉树得到的序列结构为：**左子树遍历结果， 根节点值， 右子树遍历结果**。  \n",
    "\n",
    "\n",
    "我们通过两个前开后闭区间 `[st1, ed1)` 和 `[st2, ed2)` 来分别表示一个子树所在前序遍历序列和中序遍历序列的区间范围，那么当前子树根节点的值即为前序遍历区间中的第一个值 $preorder[st1]$。然后我们只要找到该值在中序遍历中对应的索引位置，即可确定左/右子树的长度，进而推出左右子树所在的区间范围。  \n",
    "\n",
    "在设计函数时，由于树的构建是一个递归的过程，我们直接令函数 `buildSubTree(st1, ed1, st2, ed2)` 作为构造二叉树的基本函数，该函数根据区间返回构造一颗子树，并返回该子树的根节点。在函数实现时，只需要新建一个根节点，然后确定左右子树的区间范围，并递归的调用 `buildSubTree` 来构造子树，再将新建根节点的左右指针指向递归构造的子树即可。\n",
    "\n",
    "### 接口优化\n",
    "\n",
    "由于子树的前序遍历和中序遍历序列长度是相等的，所以可以直接用 `st1`, `st2`, `length` 来表示两个区间的长度。\n",
    "\n",
    "### 复杂度分析\n",
    "\n",
    "+ **时间复杂度：** 递归树的深度在 $log_2^n$ 至 $n$ 之间，每层递归树共需要执行 $n$ 次查找操作，所以算法的时间复杂度在 $O(n^2)$ 至 $O(n \\cdot log_2^n)$ 之间。\n",
    "+ **空间复杂度：** 等价于递归树的深度，在 $O(n)$ 至 $O(log_2^n)$ 之间。"
   ]
  },
  {
   "cell_type": "code",
   "execution_count": null,
   "metadata": {},
   "outputs": [],
   "source": [
    "# 可视化版代码。\n",
    "from algviz import *\n",
    "\n",
    "class Solution:\n",
    "    def buildTree(self, preorder, inorder):\n",
    "        self.viz = Visualizer()\n",
    "        self.graph = self.viz.createGraph(horizontal=False)\n",
    "        self.preorder = self.viz.createVector(preorder, name='preorder')\n",
    "        self.inorder = self.viz.createVector(inorder, name='inorder')\n",
    "        self.buildSubTree(0, 0, len(preorder))\n",
    "        self.viz.display()\n",
    "    \n",
    "    def buildSubTree(self, st1, st2, length):\n",
    "        if length <= 0:\n",
    "            return None\n",
    "        self.preorder.mark(colors[0], st1, st1+length)\n",
    "        self.inorder.mark(colors[0], st2, st2+length)\n",
    "        root = TreeNode(self.preorder[st1])\n",
    "        pos = st2      # 根节点在中序遍历序列中的位置。\n",
    "        while pos < st2 + length:\n",
    "            if self.inorder[pos] == self.preorder[st1]:\n",
    "                self.viz.display(1)\n",
    "                break\n",
    "            pos += 1\n",
    "            self.viz.display(1)\n",
    "        self.graph.addNode(root)\n",
    "        self.preorder.removeMark(colors[0])\n",
    "        self.inorder.removeMark(colors[0])\n",
    "        self.viz.display()\n",
    "        root.left = self.buildSubTree(st1+1, st2, pos-st2)\n",
    "        root.right = self.buildSubTree(st1+1+pos-st2, pos+1, st2+length-pos-1)\n",
    "        return root\n",
    "        \n",
    "preorder = [3, 9, 20, 15, 6, 7]\n",
    "inorder = [9, 3, 6, 15, 20, 7]\n",
    "Solution().buildTree(preorder, inorder)"
   ]
  },
  {
   "cell_type": "raw",
   "metadata": {},
   "source": [
    "执行用时 : 888 ms, 在所有 Python3 提交中击败了 5.23% 的用户。\n",
    "内存消耗 : 17.2 MB, 在所有 Python3 提交中击败了 100.00% 的用户。\n",
    "\n",
    "class Solution:\n",
    "    def buildTree(self, preorder, inorder):\n",
    "        self.preorder = preorder\n",
    "        self.inorder = inorder\n",
    "        return self.buildSubTree(0, 0, len(preorder))\n",
    "    \n",
    "    def buildSubTree(self, st1, st2, length):\n",
    "        if length <= 0:\n",
    "            return None\n",
    "        root = TreeNode(self.preorder[st1])\n",
    "        pos = st2      # 根节点在中序遍历序列中的位置。\n",
    "        while pos < st2 + length:\n",
    "            if self.inorder[pos] == self.preorder[st1]:\n",
    "                break\n",
    "            pos += 1\n",
    "        root.left = self.buildSubTree(st1+1, st2, pos-st2)\n",
    "        root.right = self.buildSubTree(st1+1+pos-st2, pos+1, st2+length-pos-1)\n",
    "        return root"
   ]
  }
 ],
 "metadata": {
  "kernelspec": {
   "display_name": "Python 3",
   "language": "python",
   "name": "python3"
  },
  "language_info": {
   "codemirror_mode": {
    "name": "ipython",
    "version": 3
   },
   "file_extension": ".py",
   "mimetype": "text/x-python",
   "name": "python",
   "nbconvert_exporter": "python",
   "pygments_lexer": "ipython3",
   "version": "3.8.5"
  }
 },
 "nbformat": 4,
 "nbformat_minor": 4
}
