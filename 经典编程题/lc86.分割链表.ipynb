{
 "cells": [
  {
   "cell_type": "markdown",
   "metadata": {},
   "source": [
    "# lc86.分割链表\n",
    "\n",
    "给你一个链表和一个特定值 x ，请你对链表进行分隔，使得所有小于 x 的节点都出现在大于或等于 x 的节点之前。\n",
    "\n",
    "你应当保留两个分区中每个节点的初始相对位置。\n",
    "\n",
    "```\n",
    "输入：head = 1->4->3->2->5->2, x = 3\n",
    "输出：1->2->2->4->3->5\n",
    "```"
   ]
  },
  {
   "cell_type": "markdown",
   "metadata": {},
   "source": [
    "## 求解方法\n",
    "\n",
    "+ 可以是维护两个新的链表，一个代表小于x的元素，一个代表大于x的元素。\n",
    "    + 这种方法需要考虑到链表next指针的指向为空的情况，边界条件比较难处理。\n",
    "+ 也可以将输出链表保存到数组中，使用paration算法对数组进行分割，然后将数组中的元素复制到输入的链表中即可。\n",
    "    + 这种方式实现起来不用考虑太多的边界条件。"
   ]
  },
  {
   "cell_type": "code",
   "execution_count": null,
   "metadata": {},
   "outputs": [],
   "source": [
    "import algviz\n",
    "\n",
    "\n",
    "def Solver(listData, x):\n",
    "    viz = algviz.Visualizer(1, wait=True)\n",
    "    li = algviz.parseLinkList(listData)\n",
    "    viz.createGraph(data=li, name=\"InputList\")\n",
    "    small = algviz.ListNode(0)\n",
    "    viz.createGraph(data=small, name=\"SmallList\")\n",
    "    big = algviz.ListNode(0)\n",
    "    viz.createGraph(data=big, name=\"BigList\")\n",
    "    res_samll = small\n",
    "    res_big = big\n",
    "    last_small = small\n",
    "    last_big = big\n",
    "    while li is not None:\n",
    "        if li.val < x:\n",
    "            small.val = li.val\n",
    "            small.next = algviz.ListNode(0)\n",
    "            last_small = small\n",
    "            small = small.next\n",
    "        else:\n",
    "            big.val = li.val\n",
    "            big.next = algviz.ListNode(0)\n",
    "            last_big = big\n",
    "            big = big.next\n",
    "        li = li.next\n",
    "        viz.display()\n",
    "    if last_small != small:\n",
    "        last_small.next = res_big\n",
    "    viz.display()"
   ]
  },
  {
   "cell_type": "markdown",
   "metadata": {},
   "source": [
    "看一下普通例子的运行效果（简单起见，这里没有删除链表最后的那个节点）："
   ]
  },
  {
   "cell_type": "code",
   "execution_count": null,
   "metadata": {},
   "outputs": [],
   "source": [
    "Solver([1, 4, 3, 2, 5, 2], 3)"
   ]
  },
  {
   "cell_type": "markdown",
   "metadata": {},
   "source": [
    "看一下没有小于x值的运行效果："
   ]
  },
  {
   "cell_type": "code",
   "execution_count": null,
   "metadata": {},
   "outputs": [],
   "source": [
    "Solver([5, 6, 8, 9, 12], 4)"
   ]
  },
  {
   "cell_type": "code",
   "execution_count": null,
   "metadata": {},
   "outputs": [],
   "source": [
    "Solver([1], 2)"
   ]
  }
 ],
 "metadata": {
  "kernelspec": {
   "display_name": "Python 3",
   "language": "python",
   "name": "python3"
  },
  "language_info": {
   "codemirror_mode": {
    "name": "ipython",
    "version": 3
   },
   "file_extension": ".py",
   "mimetype": "text/x-python",
   "name": "python",
   "nbconvert_exporter": "python",
   "pygments_lexer": "ipython3",
   "version": "3.8.5"
  }
 },
 "nbformat": 4,
 "nbformat_minor": 4
}
