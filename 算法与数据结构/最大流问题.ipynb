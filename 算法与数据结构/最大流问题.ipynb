{
 "cells": [
  {
   "cell_type": "markdown",
   "metadata": {},
   "source": [
    "# 最大流问题"
   ]
  },
  {
   "cell_type": "markdown",
   "metadata": {},
   "source": [
    "## 问题定义\n",
    "\n",
    "设 $G(V, E)$ 为一个拓扑图，图中的 $s$ 点代表流的源点，$t$ 点代表流的汇聚点，每条边上有一个最大流量限制 $c_{uv}$。\n",
    "\n",
    "使用 $f_{uv}$ 代表边 $(u, v)$ 上的流量值，那么每条边上的流量不能超过其最大容量（$f_{uv} \\leq c_{uv} , \\quad \\forall (u, v) \\in E$），且拓扑图中每个节点上的流入量必须等于流出量（$\\sum_{(u,v) \\in E}{f_{uv}} = \\sum_{(u, v) \\in E}{f_{vu}}$）。\n",
    "\n",
    "最大流问题的目标就是最大化从源头点到汇聚点的流的数量，即最大化 $\\sum_{(s, v) \\in E}{f_{sv}}$。"
   ]
  },
  {
   "cell_type": "markdown",
   "metadata": {},
   "source": [
    "## Ford-Fulkerson 算法\n",
    "\n",
    "+ TODO"
   ]
  },
  {
   "cell_type": "markdown",
   "metadata": {},
   "source": [
    "## 参考链接\n",
    "\n",
    "+ 问题介绍：https://zh.wikipedia.org/wiki/最大流问题\n",
    "+ 经典求解算法：https://zh.wikipedia.org/wiki/Ford–Fulkerson算法"
   ]
  }
 ],
 "metadata": {
  "kernelspec": {
   "display_name": "Python 3",
   "language": "python",
   "name": "python3"
  },
  "language_info": {
   "codemirror_mode": {
    "name": "ipython",
    "version": 3
   },
   "file_extension": ".py",
   "mimetype": "text/x-python",
   "name": "python",
   "nbconvert_exporter": "python",
   "pygments_lexer": "ipython3",
   "version": "3.7.6"
  }
 },
 "nbformat": 4,
 "nbformat_minor": 4
}
