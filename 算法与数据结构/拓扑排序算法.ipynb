{
 "cells": [
  {
   "cell_type": "markdown",
   "metadata": {},
   "source": [
    "# 拓扑排序介绍\n",
    "\n",
    "## 基本概念\n",
    "\n",
    "在图论中，拓扑排序（Topological Sorting）是一个有向无环图（DAG, Directed Acyclic Graph）的所有顶点的线性序列。  \n",
    "且该序列必须满足下面两个条件：\n",
    "\n",
    "1. 每个顶点出现且只出现一次。\n",
    "2. 若存在一条从顶点 A 到顶点 B 的路径，那么在序列中顶点 A 出现在顶点 B 的前面。\n",
    "\n",
    "注：有向无环图（DAG）才有拓扑排序，非DAG图没有拓扑排序一说。\n",
    "\n",
    "> 有向无环图的定义为：如果一个有向图从任意顶点出发无法经过若干条边回到这个点，则称这个图是一个有向无环图。"
   ]
  },
  {
   "cell_type": "markdown",
   "metadata": {},
   "source": [
    "# Kahn's 算法\n",
    "\n",
    "该方法每次从拓扑图中删去入度为0的顶点，并删除与其相关的边，直到无入度为0的顶点存在。由于拓扑图的环路中不存在入度为零的点，因此该方法可以自动识别有环图。为了快速的计算每个顶点的入度，算法需要一个辅助数据来记录拓扑图中每个顶点的入度。  \n",
    "算法的具体实现流程如下：\n",
    "\n",
    "1. 从DAG图中选择一个没有前驱（即入度为0）的顶点并输出。\n",
    "2. 从图中删除该顶点和所有以它为起点的有向边。\n",
    "3. 重复步骤1和2直到当前的DAG图为空或当前图中不存在无前驱的顶点为止。\n",
    "\n",
    "**时间复杂度**： **$O(n)$** 遍历拓扑图中的每个顶点， 其中 $n$ 代表拓扑图中顶点的数目。\n",
    "\n",
    "**空间复杂度**： **$O(n)$** 需要辅助数据记录每个顶点的入度，以及堆栈来临时保存入度为0的顶点。"
   ]
  },
  {
   "cell_type": "code",
   "execution_count": null,
   "metadata": {
    "ExecuteTime": {
     "end_time": "2020-05-23T14:03:06.115826Z",
     "start_time": "2020-05-23T14:03:06.092945Z"
    }
   },
   "outputs": [],
   "source": [
    "# Kahn's algorithm实现\n",
    "import algviz\n",
    "\n",
    "def topologicalSortingKahns(graph):\n",
    "    # 计算每个顶点的入度。\n",
    "    viz = algviz.Visualizer(3.0)\n",
    "    graph_viz = viz.createGraph(data=list(graph.values()), horizontal=True)\n",
    "    degree = viz.createVector(data=[0 for _ in range(len(graph))], name='NodeDegree')\n",
    "    for u in graph.values():\n",
    "        for v in u.neighbors():\n",
    "            degree[v[0].val] += 1\n",
    "            viz.display(1.0)\n",
    "    que = viz.createVector(name='Stack')\n",
    "    # 将入度为0的点放入队列。\n",
    "    for u in graph.values():\n",
    "        if degree[u.val] == 0:\n",
    "            que.append(u)\n",
    "        viz.display(1.0)\n",
    "    # 取点，删边，加点。\n",
    "    res = viz.createVector(name='Result')\n",
    "    while len(que) > 0:\n",
    "        cur_node = que.pop()\n",
    "        for neighbor in cur_node.neighbors():\n",
    "            v = neighbor[0]\n",
    "            degree[v.val] -= 1\n",
    "            if degree[v.val] == 0:\n",
    "                que.append(v)\n",
    "        res.append(cur_node.val)\n",
    "        viz.display()\n",
    "    return res._data\n",
    "\n",
    "graph1 = algviz.parseGraph([[0,1], [0,3], [0,5], [1,2], [3,2], [3,4], [2,4], [5,3]])\n",
    "print(\"Call Kahn's topological sorting algorithm:\")\n",
    "print(\"Result:\", topologicalSortingKahns(graph1))"
   ]
  },
  {
   "cell_type": "markdown",
   "metadata": {},
   "source": [
    "# 深度优先搜索拓扑排序：\n",
    "\n",
    "在使用深度优先搜索(DFS)的方式遍历拓扑图时，可以按照一定的顺序将图中的顶点打印出来，为了实现打印出来顶点的拓扑排序，需要在一个顶点的邻居点之前打印它。  \n",
    "\n",
    "时间复杂度： **$O(n)$** 需要遍历图中的每个顶点， $n$ 代表顶点数目。\n",
    "\n",
    "空间复杂度： **$O(n)$** 递归的堆栈深度和图中最长路径呈正比，此外还需要记录每个顶点是否已被访问过。\n",
    "\n",
    "下面的代码实现了基于深度优先搜索的拓扑排序："
   ]
  },
  {
   "cell_type": "code",
   "execution_count": null,
   "metadata": {},
   "outputs": [],
   "source": [
    "# 基于深度优先搜索的拓扑排序算法实现（递归版本）。\n",
    "class Solution:\n",
    "    def topologicalSortingDfsUnit(self, node, visited, stack):\n",
    "        visited[node.val] = True\n",
    "        for v in node.neighbors():\n",
    "            if not visited[v[0].val]:\n",
    "                self.topologicalSortingDfsUnit(v[0], visited, stack)\n",
    "        stack.insert(0, node.val)\n",
    "        self.viz.display()\n",
    "\n",
    "    def topologicalSortingDfs(self, graph):\n",
    "        self.viz = algviz.Visualizer()\n",
    "        graph_viz = self.viz.createGraph(data=list(graph.values()), horizontal=True)\n",
    "        visited = [False for _ in range(len(graph))]\n",
    "        stack = self.viz.createVector(name='Result')\n",
    "        for u in graph.values():\n",
    "            if not visited[u.val]:\n",
    "                self.topologicalSortingDfsUnit(u, visited, stack)\n",
    "        return stack._data\n",
    "\n",
    "print('Call DFS topological sorting algorithm:')\n",
    "print('Result:', Solution().topologicalSortingDfs(graph1))"
   ]
  },
  {
   "cell_type": "markdown",
   "metadata": {},
   "source": [
    "# 传统的深度优先搜索\n",
    "\n",
    "基于DFS的拓扑排序算法与传统的DFS方法极为相似，两者之间的唯一不同之处在于：**DFS拓扑排序是先递归后访问节点，而传统的DFS是先访问节点后递归。**  \n",
    "下面的代码实现了传统的DFS算法，对比可以发现两者的具体区别："
   ]
  },
  {
   "cell_type": "code",
   "execution_count": null,
   "metadata": {},
   "outputs": [],
   "source": [
    "# 传统的拓扑图的深度优先搜索算法（递归版本）。\n",
    "class DFS:\n",
    "    def graphDfsUnit(self, node, visited, stack):\n",
    "        visited[node.val] = True\n",
    "        stack.append(node.val)\n",
    "        self.viz.display()\n",
    "        for v in node.neighbors():\n",
    "            if not visited[v[0].val]:\n",
    "                self.graphDfsUnit(v[0], visited, stack)\n",
    "\n",
    "    def graphDfs(self, graph):\n",
    "        self.viz = algviz.Visualizer()\n",
    "        graph_viz = self.viz.createGraph(data=list(graph.values()), horizontal=True)\n",
    "        visited = [False for _ in range(len(graph))]\n",
    "        stack = self.viz.createVector(name='TraverseNodes')\n",
    "        for u in graph.values():\n",
    "            if not visited[u.val]:\n",
    "                self.graphDfsUnit(u, visited, stack)\n",
    "        return stack._data\n",
    "\n",
    "print('Call DFS traverse algorithm:')\n",
    "print('Return:', DFS().graphDfs(graph1))"
   ]
  },
  {
   "cell_type": "markdown",
   "metadata": {},
   "source": [
    "# 有环图的处理\n",
    "\n",
    "前面提到，Kanh's算法可以检测到有环图的存在，而基于DFS的拓扑排序算法则无法识别有环图，进而会错误的对环中的节点进行排序。 \n",
    "\n",
    "下面的测试通过一个简单的有环图对比了两种算法的运行行为：  \n",
    "通过观察可以发现，Kahn's 算法只会对图中无环部分的节点进行排序，而基于DFS的拓扑排序算法会对整个图进行排序，尽管子环路中的节点不应该被放到结果中。（*但是Stackoverflow中有位大神说通过改造可以解决DFS拓扑排序算法无法识别子环路的问题，有时间研究一下。*）"
   ]
  },
  {
   "cell_type": "code",
   "execution_count": null,
   "metadata": {},
   "outputs": [],
   "source": [
    "# 有环图的处理。\n",
    "graph2 = algviz.parseGraph([[0,1], [1,2], [2,3], [3,1]])\n",
    "print(\"Call Kahn's topological sorting algorithm:\")\n",
    "print(\"Result:\", topologicalSortingKahns(graph2))\n",
    "print('-'*50)\n",
    "print('Call DFS topological sorting algorithm:')\n",
    "print('Result:', Solution().topologicalSortingDfs(graph2))"
   ]
  },
  {
   "cell_type": "markdown",
   "metadata": {},
   "source": [
    "# 参考链接\n",
    "\n",
    "+ https://zhuanlan.zhihu.com/p/56024487\n",
    "+ https://songlee24.github.io/2015/05/07/topological-sorting/\n",
    "+ https://www.geeksforgeeks.org/topological-sorting/"
   ]
  }
 ],
 "metadata": {
  "kernelspec": {
   "display_name": "Python 3",
   "language": "python",
   "name": "python3"
  },
  "language_info": {
   "codemirror_mode": {
    "name": "ipython",
    "version": 3
   },
   "file_extension": ".py",
   "mimetype": "text/x-python",
   "name": "python",
   "nbconvert_exporter": "python",
   "pygments_lexer": "ipython3",
   "version": "3.7.6"
  },
  "toc": {
   "base_numbering": 1,
   "nav_menu": {},
   "number_sections": true,
   "sideBar": true,
   "skip_h1_title": false,
   "title_cell": "Table of Contents",
   "title_sidebar": "Contents",
   "toc_cell": false,
   "toc_position": {},
   "toc_section_display": true,
   "toc_window_display": false
  },
  "toc-autonumbering": false,
  "toc-showmarkdowntxt": false,
  "toc-showtags": false
 },
 "nbformat": 4,
 "nbformat_minor": 4
}
