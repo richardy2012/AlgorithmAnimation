{
 "cells": [
  {
   "cell_type": "markdown",
   "metadata": {
    "slideshow": {
     "slide_type": "slide"
    }
   },
   "source": [
    "# 排序算法对比\n",
    "\n",
    "排序算法分为**基于比较的算法**和**非基于比较的算法**两大类，其中基于比较的算法时间复杂度下限为$O(n^2)$，算法的实现版本较多（如：插入排序、冒泡排序、归并排序、快速排序和堆排序）。而非基于比较的算法时间复杂度下限为$O(n)$，但是需要一些额外的先验条件和内存开销（如：桶排序）。  \n",
    "下表列出了常用的排序算法的复杂度和应用场景：\n",
    "\n",
    "|算法|时间复杂度|空间复杂度|稳定性|\n",
    "|:----:|:------|:---------|:-------|\n",
    "| **插入排序** (Insert sort) | $O(n^2)$ | $O(1)$ | 稳定 |\n",
    "| **冒泡排序** (Bubble sort) | $O(n^2)$ | $O(1)$ |  稳定 |\n",
    "| **归并排序** (Merge sort) | $O(n \\cdot log_2^n)$| $O(n)$ | 稳定 |\n",
    "| **快速排序** (Quick sort) | 最好：$O(n \\cdot log_2^n)$ <br/> 最坏：$O(n^2)$  | 最好：$O(log_2^n)$ <br/> 最坏：$O(n)$ | 不稳定 |\n",
    "| **堆排序** (Heap sort) | $O(n \\cdot log_2^n)$ | $O(1)$ | 不稳定 |\n",
    "| **桶排序** (Bucket sort) | $O(n)$ | $O(n+ \\frac{n}{m})$ | 稳定 |"
   ]
  },
  {
   "cell_type": "markdown",
   "metadata": {
    "slideshow": {
     "slide_type": "slide"
    }
   },
   "source": [
    "# 插入排序\n",
    "\n",
    "## 算法思想\n",
    "\n",
    "插入排序是一种较为简单和朴素的排序方法，它每次将一个**未排序的元素插入到已排序元素中正确的位置**，逐个的对序列中的元素进行排序。在插入排序的实现过程中需要两层循环，一层用于对每个元素执行插入操作，另一层用于为执行操作的元素寻找合适的插入位置，因此时间复杂度为 $O(n^2)$。插入排序算法可以直接对输入序列进行操作，不需要额外的储存空间，因此时间复杂度为 $O(1)$。  \n",
    "\n",
    "## 算法特点\n",
    "\n",
    "插入排序算法属于*基于比较的算法*，且排序结果具有稳定性（即：逻辑上相等的元素在原始输入序列中的相对位置不会改变）。在目前储存空间较为廉价，而 CPU 的运行速度遇到瓶颈的背景下，该算法不适用于大规模序列的排序，但由于算法实现简单，其时间复杂度前的常数项较小，因此在一些小规模问题上可能会更快速。"
   ]
  },
  {
   "cell_type": "code",
   "execution_count": null,
   "metadata": {},
   "outputs": [],
   "source": [
    "# 插入排序实现算法。\n",
    "import algviz\n",
    "\n",
    "def insertSort(nums_):\n",
    "    viz = algviz.Visualizer(delay=2)\n",
    "    nums = viz.createVector(data=nums_, bar=200, show_index=False)\n",
    "    # 直接从第二个元素开始。\n",
    "    for i in range(1, len(nums_)):\n",
    "        ii = i\n",
    "        for j in range(i+1):   # 该循环用于标记已排序的元素。\n",
    "            nums.mark(j, algviz.colors[0])\n",
    "        for j in range(i-1, -1, -1):\n",
    "            if nums[ii] < nums[j]:\n",
    "                nums.swap(ii, j)\n",
    "                ii = j\n",
    "                viz.display()\n",
    "            else:\n",
    "                viz.display(1)\n",
    "                break\n",
    "    viz.display(1)\n",
    "\n",
    "case1 = [3, -4, 6, 2, -5, 8, 7]\n",
    "insertSort(case1)"
   ]
  },
  {
   "cell_type": "markdown",
   "metadata": {
    "slideshow": {
     "slide_type": "slide"
    }
   },
   "source": [
    "# 冒泡排序\n",
    "\n",
    "## 算法思想\n",
    "\n",
    "冒泡排序和插入排序较为相似，它通过多轮扫描过程依次比较两个相邻元素的大小，如果两个元素之间是逆序的，则交换两元素的位置。假设算法从前向后扫描，每次将相邻两个元素中较大的值放到后面，那么经过该轮扫描之后，扫描过的序列中的最大值将会跑到扫描序列最后的位置，重复执行扫描过程直到所有元素都被排序即可。\n",
    "\n",
    "**时间复杂度：** 算法需要两层循环来比较和交换元素，因此时间复杂度为 $O(n^2)$。  \n",
    "**空间复杂度：** 算法可以在原输入数组上进行操作，因此时间复杂度为 $O(1)$。\n",
    "\n",
    "## 算法特点\n",
    "\n",
    "属于基于比较的排序算法，排序结果具有稳定性，但无论输入数据的序列如何，算法都需要进行 $O(n^2)$ 次的比较操作，因此在部分算例上该算法不如插入排序算法高效。对于大规模算例，冒泡排序更是慢的让人头皮发麻。"
   ]
  },
  {
   "cell_type": "code",
   "execution_count": null,
   "metadata": {},
   "outputs": [],
   "source": [
    "# 冒泡排序实现。\n",
    "import algviz\n",
    "\n",
    "def bubbleSort(nums_):\n",
    "    viz = algviz.Visualizer(delay=2)\n",
    "    nums = viz.createVector(data=nums_, bar=200, show_index=False)\n",
    "    for i in range(len(nums_)):\n",
    "        for j in range(len(nums_)-i-1):\n",
    "            if nums[j] > nums[j+1]:\n",
    "                nums.swap(j, j+1)\n",
    "            viz.display()\n",
    "        nums.mark(len(nums_)-i-1, algviz.colors[0])\n",
    "    viz.display()\n",
    "    \n",
    "case2 = [7, 4, 3, 5, 1, 6]\n",
    "bubbleSort(case2)"
   ]
  },
  {
   "cell_type": "markdown",
   "metadata": {
    "slideshow": {
     "slide_type": "slide"
    }
   },
   "source": [
    "# 归并排序\n",
    "\n",
    "## 算法思想\n",
    "\n",
    "归并排序的思想来源于分治思想(Divide and Conquer)，分治思想包含了分割、解决和合并三个过程，下面是归并排序算法在这三个过程中的具体操作：\n",
    "\n",
    "1. **分割：** 将要排序的序列分割成两段（一般是从中间分割），得到两个子问题。\n",
    "2. **解决：** 对子问题递归的调用归并排序算法，直到子问题可以被直接解决（即子问题中只剩两个以下元素，则可以被直接比较）。\n",
    "3. **合并：** 对排好顺序的子序列进行合并，从而得到原始问题的排序结果，这里通过 `merge` 操作来合并子序列，该过程也是归并排序的核心过程。\n",
    "\n",
    "`merge` 操作每次从两个子序列的头部取出较小的元素，然后放入结果序列中，直到子序列中所有的元素都被取出为止，最后返回排序好的结果。\n",
    "\n",
    "## 复杂度分析\n",
    "\n",
    "+ **时间复杂度：** 我们可以借助**递归树**来分析算法的时间复杂度，递归树的最大深度为 $O(log_2^n)$，在每一层的合并操作中需要 $O(n)$ 次的基本操作，因此算法的时间复杂度为 $O(n \\cdot log_2^n)$。\n",
    "\n",
    "    ![归并排序时间辅助度分析递归树](https://s1.ax1x.com/2020/05/25/t98i11.jpg)\n",
    "\n",
    "+ **空间复杂度：** 递归过程中的压栈深度为 $O(log_2^n)$，合并过程中需要 $O(n)$ 的辅助空间来保存合并结果，因此空间复杂度为 $O(log_2^n) + O(n)$，等价于 $O(n)$。\n",
    "\n",
    "## 算法特点\n",
    "\n",
    "归并排序属于基于比较的排序算法，它不仅比较稳定，在时间上也是非常高效的，但是这种算法很消耗空间，所以通常我们在**外部排序**中使用归并排序，而在**内部排序**中使用快速排序取代之。"
   ]
  },
  {
   "cell_type": "code",
   "execution_count": null,
   "metadata": {},
   "outputs": [],
   "source": [
    "# 归并排序实现。\n",
    "import algviz\n",
    "\n",
    "class MergeSort():\n",
    "    '''\n",
    "    nums_:list() 要排序的数组。\n",
    "    '''\n",
    "    def __init__(self, nums_):\n",
    "        self.viz = algviz.Visualizer(2.0)\n",
    "        self.nums = self.viz.createVector(nums_, name='OriginNums', bar=200, show_index=False)\n",
    "        self.merge_res = self.viz.createVector(name='TempMergeNums', show_index=False)\n",
    "        self.solve(0, len(nums_))\n",
    "    \n",
    "    '''\n",
    "    l,r:int 排序数组的左右边界（左闭右开）。\n",
    "    '''\n",
    "    def solve(self, l, r):\n",
    "        if l < r - 1:\n",
    "            m = (l + r)//2\n",
    "            self.solve(l, m)\n",
    "            self.solve(m, r)\n",
    "            self.merge(l, m, r)\n",
    "    \n",
    "    '''\n",
    "    l,m,r:int 合并序列的左边界、中间分割点和右边界。\n",
    "    '''\n",
    "    def merge(self, l, m, r):\n",
    "        # 标记正在处理的子序列。\n",
    "        for i in range(l, r):\n",
    "            self.nums.mark(i, algviz.colors[0])\n",
    "        # 依次取出子序列中较小的元素放置到缓存数组中。\n",
    "        ll, mm = l, m\n",
    "        while ll < m and mm < r:\n",
    "            if self.nums[ll] > self.nums[mm]:\n",
    "                self.merge_res.append(self.nums[mm])\n",
    "                mm += 1\n",
    "            else:\n",
    "                self.merge_res.append(self.nums[ll])\n",
    "                ll += 1\n",
    "            self.viz.display()\n",
    "        while ll < m:\n",
    "            self.merge_res.append(self.nums[ll])\n",
    "            ll += 1\n",
    "            self.viz.display()\n",
    "        while mm < r:\n",
    "            self.merge_res.append(self.nums[mm])\n",
    "            mm += 1\n",
    "            self.viz.display()\n",
    "        # 清除标记。\n",
    "        self.nums.removeMark(algviz.colors[0])\n",
    "        # 将排好序的数组复制到元素序列中。\n",
    "        for i in range(l, r):\n",
    "            self.nums[i] = self.merge_res.pop(0)\n",
    "            self.viz.display()\n",
    "            \n",
    "case3 = [3, -1, 4, 7, 5, 9, -3]\n",
    "solver = MergeSort(case3)"
   ]
  },
  {
   "cell_type": "markdown",
   "metadata": {
    "slideshow": {
     "slide_type": "slide"
    }
   },
   "source": [
    "# 快速排序\n",
    "\n",
    "## 算法思想\n",
    "\n",
    "快速排序同样使用了分治的思想，它使用了基数对子序列进行分割，并保证基数左边的序列都小于基数，而基数右边的序列都大于基数，然后对基数左右的子序列递归的分别调用快速排序算法，直到子序列中只剩一个元素。  \n",
    "对比归并排序可以发现，快速排序只使用了分治思想中的**分割**和**解决**过程，在使用基数划分子序列的过程中，实际上已经进行了排序工作，这说明分治思想的应用是非常灵活的，不同的算法可以根据实际特点进行灵活调整。\n",
    "\n",
    "## 复杂度分析\n",
    "\n",
    "+ **时间复杂度：** 同样使用递归树进行分析，在递归树的每一层所需要进行的划分操作都为 $O(n)$ ，但由于**在快速排序中，子序列的划分不一定是左右平衡的，这跟基数的选择有关**，所以递归树的深度是不确定的。如果我们足够幸运，在每次的划分中左右两个子序列的长度都刚好是相等的，那么递归树的深度就是 $O(log_2^n)$，但如果我们足够倒霉，每次划分时其中一个子序列的长度都为0，那么递归树的深度就是 $O(n)$，因此，快速排序的时间复杂度在 $O(n \\cdot log_2^n)$ ~ $O(n^2)$ 之间。幸运的是，实际情况中的序列往往是趋于均匀分布的，如果我们随机的选择基数进行划分，那么递归树大概率是平衡的，所以实际应用中快速排序的时间复杂度接近于 $O(n \\cdot log_2^n)$。\n",
    "+ **空间复杂度：** 子序列的划分过程可以在原始数组中进行，所需要的内存空间为常数，因此快速排序算法的空间复杂度只与递归树的深度有关。在时间复杂度的分析中，我们得出了递归树的深度在 $O(log_2^n)$ ~ $O(n)$ 之间，因此空间复杂度也是该范围。\n",
    "\n",
    "## 算法特点\n",
    "\n",
    "在基于比较的排序算法中，快速排序的时间效率是最高的，而在实际的应用场景中，它所需要的储存空间也比归并排序少，因此快速排序在处理大规模问题的求解过程中有很大优势。但是快排算法是不稳定的，所以在对稳定性有要求的场景中不能使用快排算法。"
   ]
  },
  {
   "cell_type": "code",
   "execution_count": null,
   "metadata": {},
   "outputs": [],
   "source": [
    "# 快速排序算法实现。\n",
    "import algviz\n",
    "\n",
    "class QuickSort():\n",
    "    def __init__(self, nums_):\n",
    "        self.viz = algviz.Visualizer(2.0)\n",
    "        self.nums = self.viz.createVector(nums_, bar=200, show_index=False)\n",
    "        self.solve(0, len(nums_))\n",
    "    \n",
    "    def solve(self, l, r):\n",
    "        if l >= r - 1:\n",
    "            return\n",
    "        for i in range(l, r):\n",
    "            self.nums.mark(i, algviz.colors[0])\n",
    "        nb_left = l                         # 记录左子序列长度。\n",
    "        for i in range(l, r-1):\n",
    "            if self.nums[i] < self.nums[r-1]:\n",
    "                self.nums.swap(i, nb_left)  # 把比基数小的数收集到序列左侧。\n",
    "                nb_left += 1\n",
    "                self.viz.display()\n",
    "            else:\n",
    "                self.viz.display(1.0)\n",
    "        self.nums.swap(nb_left, r-1)\n",
    "        self.nums.removeMark(algviz.colors[0])\n",
    "        self.viz.display()\n",
    "        self.solve(l, nb_left)\n",
    "        self.solve(nb_left+1, r)            # 注意这里nb_left要加1。\n",
    "\n",
    "case4 = [-4, 4, -6, 3, -3, 1, 3]\n",
    "solver = QuickSort(case4)"
   ]
  },
  {
   "cell_type": "markdown",
   "metadata": {
    "slideshow": {
     "slide_type": "slide"
    }
   },
   "source": [
    "# 堆排序\n",
    "\n",
    "## 堆的介绍\n",
    "\n",
    "### 堆的定义\n",
    "\n",
    "堆是一种**使用数组表示的完全二叉树对象**，根据父子节点大小关系的不同，可以将堆分为**大根堆**（根节点的值最大）和**小根堆**（根节点的值最小）。一个大根堆总是满足如下性质：\n",
    "\n",
    "1. 堆中任意节点的值总是不大于其父节点的值。\n",
    "2. 堆代表的总是一颗完全二叉树。\n",
    "\n",
    "<img src=\"https://www.geeksforgeeks.org/wp-content/uploads/MinHeapAndMaxHeap.png\" alt=\"堆的示意图\" width=\"400\" />\n",
    "\n",
    "**性质1**和二叉搜索树的性质有一些相似之处，不同的是堆中没有限制同一个节点的左右子节点之间的大小关系，而二叉搜索树则规定了左子节点不大于右子节点。  \n",
    "**性质2**方便在数组上对堆进行操作，对应数学上的定义即为：表示大根堆的序列 $n_0, n_1, n_2 ... n_k$ 中的元素需满足条件 $n_i \\geq n_{2i+1} \\land n_i \\geq n_{2i+2} , \\forall i \\in 0, 1, 2 ... \\frac{k-1}{2}$。\n",
    "\n",
    "### 堆的基本操作\n",
    "\n",
    "+ `parent` 获取当前节点的父节点索引，直接返回 $\\frac{(i-1)}{2}$ 即可。\n",
    "+ `left` 获取当前节点的左子节点索引，直接返回 $2i + 1$ 即可。\n",
    "+ `right` 获取当前节点的右子节点索引，直接返回 $2i + 2$ 即可。\n",
    "+ `adjust` 用于调整索引i处的节点在堆中的位置，以保证堆的**性质1**始终满足，该操作通过比较当前节点和它的两个子节点的相对大小，并将违反性质1的节点和其子节点位置进行交换。然后递归的进行该过程，直到当前节点满足性质1或达到叶子节点的位置。\n",
    "+ `make_heap` 建立一个堆，将数组中的非叶子节点数据，按照从后向前的顺序依次调用 `adjust` 调整其在堆中的位置。\n",
    "\n",
    "## 堆排序思路\n",
    "\n",
    "堆排序是利用了堆这种数据结构的特点，如果我们想要得到一个递增的序列，可以使用大根堆，否则使用小根堆。堆排序算法按照下面的过程进行操作：\n",
    "\n",
    "1. 根据输入数据建立堆，该过程可以在输入数组上进行原址操作。\n",
    "2. 交换堆顶元素和堆的末尾未排序元素的位置。\n",
    "3. 调用 `adjust(i)` 操作维护堆的性质。\n",
    "4. 重复步骤2-3直到所有元素都已被排序。\n",
    "\n",
    "## 算法复杂度分析\n",
    "\n",
    "+ **时间复杂度：** `adjust` 操作的时间复杂度和堆的高度相关（即：为 $O(log_2^n)$），而在 `make_heap` 的操作中我们需要对每个元素执行一次 `adjust` 操作，在步骤2-4中也需要对每个元素执行一次 `adjust` 操作，因此堆排序的时间复杂度为 $O(n \\cdot log_2^n)$ 。\n",
    "+ **空间复杂度：** 堆排序中所有的操作都可以在原输出序列上直接进行，因此不需要额外的储存空间，空间复杂度为 $O(1)$ 。\n",
    "\n",
    "## 扩展\n",
    "\n",
    "+ 为什么数组长度不是 $2^n$ 时算法仍然可行？"
   ]
  },
  {
   "cell_type": "code",
   "execution_count": null,
   "metadata": {},
   "outputs": [],
   "source": [
    "# 堆排序实现。\n",
    "import algviz\n",
    "\n",
    "class HeapSort():\n",
    "    def __init__(self, nums_):\n",
    "        self.viz = algviz.Visualizer()\n",
    "        self.heap = self.viz.createVector(nums_, bar=200)\n",
    "        self.heap_len = len(nums_)        # 堆的长度会不断减小。\n",
    "        # 对应make_heap过程。\n",
    "        for i in range((len(nums_)-1)//2, -1, -1):\n",
    "            self.adjust(i)\n",
    "        # 交换堆顶和堆尾元素。\n",
    "        for i in range(len(nums_)-1, -1, -1):\n",
    "            self.heap.swap(0, i)\n",
    "            self.heap.mark(i, algviz.colors[0])\n",
    "            self.heap_len -= 1\n",
    "            self.viz.display(2)\n",
    "            self.adjust(0)\n",
    "    \n",
    "    def adjust(self, index):\n",
    "        left, right = index*2 + 1, index*2 + 2\n",
    "        max_index = index\n",
    "        if left < self.heap_len and self.heap[index] < self.heap[left]:\n",
    "            max_index = left\n",
    "        if right < self.heap_len and self.heap[max_index] < self.heap[right]:\n",
    "            max_index = right\n",
    "        self.viz.display(1)\n",
    "        if max_index != index:\n",
    "            self.heap.swap(index, max_index)\n",
    "            self.viz.display(2)\n",
    "            self.adjust(max_index)\n",
    "        \n",
    "case5 = [2, 1, 5, 3, -3, 7, 4]\n",
    "solver = HeapSort(case5)"
   ]
  },
  {
   "cell_type": "markdown",
   "metadata": {
    "slideshow": {
     "slide_type": "slide"
    }
   },
   "source": [
    "# 桶排序\n",
    "\n",
    "## 算法思想\n",
    "\n",
    "桶排序算法假设输入的数据在一定的范围内且服从均匀分布，并根据数据的范围设置一定数量的桶，然后将输入序列依次分配到各个桶中，之后对桶中的序列进行排序，最后再依次从桶中按顺序取出排好序的元素。\n",
    "\n",
    "## 复杂度分析\n",
    "\n",
    "+ **时间复杂度：** 跟桶的设置有关，如果桶的数量足够多，以保证每个桶中只有一个元素，那么时间复杂度为 $O(n)$，但如果所有的元素都集中在一个桶中，那么桶排序就退化成了桶内使用的排序算法。\n",
    "+ **空间复杂度：** 跟桶的数量和桶内排序使用的算法有关，假设我们设置m个桶，并选择使用归并或快速排序作为桶内排序算法，那么空间复杂度为 $O(m+ \\frac{n}{m})$。\n",
    "\n",
    "## 算法特点\n",
    "\n",
    "桶排序是非基于比较的排序算法，它需要对输出的数据作一定的假设（或先验知识），适用于数据跨度不大的问题求解。但是桶排序可能会占用过多的储存空间，因此在实际应用中桶排序的使用较少。"
   ]
  },
  {
   "cell_type": "code",
   "execution_count": null,
   "metadata": {},
   "outputs": [],
   "source": [
    "# 桶排序算法实现（为了简单，这里桶内排序采用直接插入的方法）。\n",
    "import algviz\n",
    "\n",
    "# nb_bucket表示桶的数量，默认为5个。\n",
    "def bucketSort(nums_, nb_bucket=5):\n",
    "    viz = algviz.Visualizer(2)\n",
    "    buckets = list()\n",
    "    buckets.append(viz.createVector(cell_size=20, name='Bucket', show_index=False))\n",
    "    for i in range(1, nb_bucket):\n",
    "        buckets.append(viz.createVector(cell_size=20, show_index=False))\n",
    "    result = viz.createVector(name='Result')\n",
    "    min_val = min(nums_)\n",
    "    max_val = max(nums_)\n",
    "    num_step = (max_val - min_val + 1)/nb_bucket\n",
    "    for num in nums_:\n",
    "        index = int((num-min_val)/num_step)    # 元素放到哪个桶中。\n",
    "        # 查找合适的元素插入位置。\n",
    "        for j in range(0, len(buckets[index])):\n",
    "            if num < buckets[index][j]:\n",
    "                buckets[index].insert(j, num)\n",
    "                break\n",
    "        if not len(buckets[index]) or num > buckets[index][-1]:\n",
    "            buckets[index].append(num)\n",
    "        viz.display()\n",
    "    # 将桶中元素放回结果中。\n",
    "    for i in range(nb_bucket):\n",
    "        for j in range(len(buckets[i])):\n",
    "            result.append(buckets[i][j])\n",
    "            viz.display()\n",
    "\n",
    "case6 = [4, 6, -3, 7, -1, -6, 5, 2]\n",
    "bucketSort(case6)"
   ]
  },
  {
   "cell_type": "markdown",
   "metadata": {
    "slideshow": {
     "slide_type": "slide"
    }
   },
   "source": [
    "# 参考链接\n",
    "\n",
    "+ [十大经典排序算法+动图演示](https://www.cnblogs.com/onepixel/articles/7674659.html)\n",
    "+ [VisuAlgo算法可视化网站](https://visualgo.net/en)\n",
    "+ [归并排序](https://www.geeksforgeeks.org/merge-sort/)\n",
    "+ [堆排序介绍](https://www.cnblogs.com/chengxiao/p/6129630.html)\n",
    "+ [桶排序介绍](http://data.biancheng.net/view/115.html)"
   ]
  }
 ],
 "metadata": {
  "kernelspec": {
   "display_name": "Python 3",
   "language": "python",
   "name": "python3"
  },
  "language_info": {
   "codemirror_mode": {
    "name": "ipython",
    "version": 3
   },
   "file_extension": ".py",
   "mimetype": "text/x-python",
   "name": "python",
   "nbconvert_exporter": "python",
   "pygments_lexer": "ipython3",
   "version": "3.7.6"
  },
  "toc-autonumbering": false
 },
 "nbformat": 4,
 "nbformat_minor": 4
}
