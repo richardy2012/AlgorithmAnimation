{
 "cells": [
  {
   "cell_type": "markdown",
   "metadata": {},
   "source": [
    "# 二分匹配算法\n",
    "\n",
    "## 什么是二分图？\n",
    "\n",
    "二分图是一种特殊的拓扑图，图中所有顶点可以被划分到两个不相交的独立集合 $U$ 和 $V$ 中，且图所有的边都是一端在集合 $U$ 另一端在集合 $V$ 中。\n",
    "\n",
    "## 二分匹配问题\n",
    "\n",
    "对于边上不带权重的二分图，我们通常需要寻找它的最大匹配，即选中拓扑图中的一系列边，使"
   ]
  },
  {
   "cell_type": "code",
   "execution_count": null,
   "metadata": {},
   "outputs": [],
   "source": [
    "import algviz\n",
    "\n",
    "graph_nodes = [\n",
    "    [0, 0], [1, 1], [2, 2], [3, 3],\n",
    "    [4, 4], [5, 5], [6, 6], [7, 7], [8, 8]\n",
    "]\n",
    "graph_edges = [\n",
    "    [0, 5], [1, 5], [1, 6], [2, 7],\n",
    "    [2, 8], [3, 6], [4, 5], [4, 8],\n",
    "]\n",
    "graph_map = algviz.parseGraph(graph_edges, graph_nodes, directed=False)\n",
    "viz = algviz.Visualizer()\n",
    "graph = viz.createGraph(list(graph_map.values()), directed=False, horizontal=True)\n",
    "viz.display(1)"
   ]
  },
  {
   "cell_type": "markdown",
   "metadata": {},
   "source": [
    "# 匈牙利算法"
   ]
  },
  {
   "cell_type": "markdown",
   "metadata": {},
   "source": [
    "# KM算法"
   ]
  },
  {
   "cell_type": "markdown",
   "metadata": {},
   "source": [
    "# 参考链接\n",
    "\n",
    "+ https://blog.sengxian.com/algorithms/km\n",
    "+ https://zhuanlan.zhihu.com/p/89380238\n",
    "+ https://blog.csdn.net/Young__Fan/article/details/90719285"
   ]
  }
 ],
 "metadata": {
  "kernelspec": {
   "display_name": "Python 3",
   "language": "python",
   "name": "python3"
  },
  "language_info": {
   "codemirror_mode": {
    "name": "ipython",
    "version": 3
   },
   "file_extension": ".py",
   "mimetype": "text/x-python",
   "name": "python",
   "nbconvert_exporter": "python",
   "pygments_lexer": "ipython3",
   "version": "3.7.6"
  }
 },
 "nbformat": 4,
 "nbformat_minor": 4
}
