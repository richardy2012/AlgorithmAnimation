{
 "cells": [
  {
   "cell_type": "markdown",
   "metadata": {},
   "source": [
    "# 二分匹配问题\n",
    "\n",
    "## 什么是二分图？\n",
    "\n",
    "二分图是一种特殊的无向图，图中所有顶点可以被划分到两个不相交的独立集合 $U$ 和 $V$ 中，且图所有的边都是一端在集合 $U$ 另一端在集合 $V$ 中。\n",
    "\n",
    "+ 二分图的严格定义：\n",
    "> 无向图G为二分图的充分必要条件是，G至少有两个顶点，且其所有回路的长度均为偶数。如果无回路，相当于任一回路的次数为0，0也是偶数，故也视为二分图。\n",
    "\n",
    "## 二分图的最大匹配\n",
    "\n",
    "对于边上不带权重的二分图，找到拓扑图中边的数量最多的匹配边集，且匹配边集中任意边之间没有公共顶点。**匹配边集中的边被称为匹配边，匹配边两端的顶点被称为匹配点，反之则称为未匹配边和未匹配点。**\n",
    "\n",
    "## 二分图的完美匹配\n",
    "\n",
    "如果一个二分图的最大匹配中的边的数目等于图中顶点数目的一半，那个这个匹配就叫做该二分图的完美匹配。\n",
    "\n",
    "## 二分图的最大完美匹配\n",
    "\n",
    "对于边上带有权重值的二分图，所有匹配边上权重值之和最大的完美匹配，就叫做二分图的最大完美匹配。\n"
   ]
  },
  {
   "cell_type": "code",
   "execution_count": null,
   "metadata": {},
   "outputs": [],
   "source": [
    "import algviz\n",
    "\n",
    "graph_nodes = [\n",
    "    [0, 0], [1, 1], [2, 2], [3, 3],\n",
    "    [4, 4], [5, 5], [6, 6], [7, 7], [8, 8]\n",
    "]\n",
    "graph_edges = [\n",
    "    [0, 5], [1, 5], [1, 6], [2, 7],\n",
    "    [2, 8], [3, 6], [4, 5], [4, 8],\n",
    "]\n",
    "graph_map = algviz.parseGraph(graph_edges, graph_nodes, directed=False)\n",
    "viz = algviz.Visualizer()\n",
    "graph = viz.createGraph(list(graph_map.values()), directed=False, horizontal=True)\n",
    "viz.display(1)"
   ]
  },
  {
   "cell_type": "markdown",
   "metadata": {},
   "source": [
    "# 匈牙利算法\n",
    "\n",
    "## 增广路径的定义\n",
    "\n",
    "**从二分图的一个未匹配点出发，依次交替经过未匹配边->匹配边->未匹配边->匹配边->...，最后以一个未匹配点结束**的路径，被称为增广路径。  \n",
    "可以发现，增广路径上的未匹配边要比匹配边多一条，且路径上前后两条边之间存在公共顶点，因此**交换增广路径上的所有未匹配边和匹配边**，就可以使二分图中的匹配边数量加一。  \n",
    "*注：如果我们基于当前的匹配，无法在二分图中找到增广路径时，那么可以确定当前的匹配即为二分图的最大匹配。*\n",
    "\n",
    "## 算法实现\n",
    "\n",
    "在了解了增广路径的定义以后，我们其实可以大概猜测出匈牙利算法的流程，那就是不断的重复寻找增广路径、交换匹配边和未匹配边这一过程，直到无法找到增广路径。但是算法设计起来还是有一些复杂的，我们需要一些数据结构来标记匹配边、未匹配点、增广路径轨迹等。\n",
    "\n",
    "+ 搜索增广路径：采用深度优先搜索的方式寻找增广路径，如果一条边是未匹配边，那么直接对该边进行取反即可；如果一条边是匹配边，则先查询从对应顶点处能否找到新的增广路径，如果可以的话，则进行取反操作。"
   ]
  },
  {
   "cell_type": "code",
   "execution_count": null,
   "metadata": {},
   "outputs": [],
   "source": [
    "# 匈牙利算法实现。\n"
   ]
  },
  {
   "cell_type": "markdown",
   "metadata": {},
   "source": [
    "# KM算法"
   ]
  },
  {
   "cell_type": "markdown",
   "metadata": {},
   "source": [
    "# 参考链接\n",
    "\n",
    "+ https://blog.sengxian.com/algorithms/km\n",
    "+ https://zhuanlan.zhihu.com/p/89380238\n",
    "+ https://blog.csdn.net/Young__Fan/article/details/90719285"
   ]
  }
 ],
 "metadata": {
  "kernelspec": {
   "display_name": "Python 3",
   "language": "python",
   "name": "python3"
  },
  "language_info": {
   "codemirror_mode": {
    "name": "ipython",
    "version": 3
   },
   "file_extension": ".py",
   "mimetype": "text/x-python",
   "name": "python",
   "nbconvert_exporter": "python",
   "pygments_lexer": "ipython3",
   "version": "3.8.3"
  }
 },
 "nbformat": 4,
 "nbformat_minor": 4
}
