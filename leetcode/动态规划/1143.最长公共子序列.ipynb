{
 "cells": [
  {
   "cell_type": "markdown",
   "metadata": {},
   "source": [
    "# 最长公共子序列\n",
    "\n",
    "+ [问题来源](https://leetcode-cn.com/problems/longest-common-subsequence/)\n",
    "\n",
    "## 问题描述\n",
    "\n",
    "> 给定两个字符串 text1 和 text2，返回这两个字符串的最长公共子序列。\n",
    ">\n",
    "> 一个字符串的 子序列 是指这样一个新的字符串：它是由原字符串在不改变字符的相对顺序的情况下删除某些字符（也可以不删除任何字符）后组成的新字符串。\n",
    "例如，\"ace\" 是 \"abcde\" 的子序列，但 \"aec\" 不是 \"abcde\" 的子序列。两个字符串的「公共子序列」是这两个字符串所共同拥有的子序列。\n",
    "> \n",
    "> 若这两个字符串没有公共子序列，则返回 0。\n",
    "\n",
    "> 输入：text1 = \"abcde\", text2 = \"ace\" \n",
    "> 输出：3  \n",
    "> 解释：最长公共子序列是 \"ace\"，它的长度为 3。\n",
    "\n",
    "## 思路\n",
    "\n",
    "+ 与题目[300.最长上升子序列](300.最长上升子序列.ipynb)的子序列结构类似，且公共子序列具有顺序一致性，即子序列lcs中的每个字符在text1和text2中的相对顺序是一致的。\n",
    "\n",
    "+ 考虑子问题的分解，在线性dp问题中，我们一次只更加将子问题的规模增加1个单位，由于这里有两个线性增加对象text1和text2，所以需要考虑三种情况：\n",
    "    1. $text1(0,i-1)$与$text2(0,j)$\n",
    "    2. $text1(0,i)$与$text2(0,j-1)$\n",
    "    3. $text1(0,i-1)$与$text2(0,j-1)$\n",
    "\n",
    "+ 考虑动态表的表示，可以使用$dp[i][j]$来表示子问题$lcs(text1(0,i-1),text2(0,j-1))$中以(i,j)结尾的最长公共子序列长度，那么递推公式如下：\n",
    "> $dp[i][j]=\\begin{cases} 0 & i=0 \\cup j=0 \\\\ dp[i-1][j-1]+1 & i>0 \\cap j>0 \\vee text1[i-1]=text2[j-1] \\\\ \\max(dp[i-1][j], dp[i][j-1]) & i>0 \\cap j>0 \\vee text1[i-1] \\neq text2[j-1]\\end{cases}$"
   ]
  },
  {
   "cell_type": "code",
   "execution_count": 5,
   "metadata": {},
   "outputs": [],
   "source": [
    "class Solution:\n",
    "    def longestCommonSubsequence(self, text1, text2) -> int:\n",
    "        dp = [[0 for j in range(len(text2)+1)] for i in range(len(text1)+1)]\n",
    "        res = 0\n",
    "        for i in range(1, len(text1)+1):\n",
    "            for j in range(1, len(text2)+1):\n",
    "                if text1[i-1] == text2[j-1]:\n",
    "                    dp[i][j]=dp[i-1][j-1]+1\n",
    "                else:\n",
    "                    dp[i][j]=max(dp[i-1][j],dp[i][j-1])\n",
    "                res = max(res,dp[i][j])\n",
    "        return res"
   ]
  },
  {
   "cell_type": "code",
   "execution_count": 6,
   "metadata": {},
   "outputs": [
    {
     "name": "stdout",
     "output_type": "stream",
     "text": [
      "3\n"
     ]
    }
   ],
   "source": [
    "# 测试算例\n",
    "text1 = 'abcde'\n",
    "text2 = 'ace'\n",
    "sol = Solution()\n",
    "print(sol.longestCommonSubsequence(text1,text2))"
   ]
  },
  {
   "cell_type": "code",
   "execution_count": 7,
   "metadata": {},
   "outputs": [
    {
     "name": "stdout",
     "output_type": "stream",
     "text": [
      "0\n"
     ]
    }
   ],
   "source": [
    "# 测试边界条件\n",
    "text1 = ''\n",
    "text2 = 'ace'\n",
    "sol = Solution()\n",
    "print(sol.longestCommonSubsequence(text1,text2))"
   ]
  },
  {
   "cell_type": "code",
   "execution_count": 10,
   "metadata": {},
   "outputs": [
    {
     "name": "stdout",
     "output_type": "stream",
     "text": [
      "13\n"
     ]
    }
   ],
   "source": [
    "# 测试大算例\n",
    "text1 = 'aaaaabaaaaaabaaaaaaaaacaaaaabaaaaaaaa'\n",
    "text2 = 'aaaaaaeaaaaaaa'\n",
    "sol = Solution()\n",
    "print(sol.longestCommonSubsequence(text1,text2))"
   ]
  }
 ],
 "metadata": {
  "kernelspec": {
   "display_name": "Python 3",
   "language": "python",
   "name": "python3"
  },
  "language_info": {
   "codemirror_mode": {
    "name": "ipython",
    "version": 3
   },
   "file_extension": ".py",
   "mimetype": "text/x-python",
   "name": "python",
   "nbconvert_exporter": "python",
   "pygments_lexer": "ipython3",
   "version": "3.7.6"
  }
 },
 "nbformat": 4,
 "nbformat_minor": 4
}
