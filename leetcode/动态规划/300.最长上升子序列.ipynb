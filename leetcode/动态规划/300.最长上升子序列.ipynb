{
 "cells": [
  {
   "cell_type": "markdown",
   "metadata": {},
   "source": [
    "# 最长上升子序列\n",
    "\n",
    "## [问题描述](https://leetcode-cn.com/problems/longest-increasing-subsequence/)\n",
    "\n",
    "给定一个无序的整数数组，找到其中最长上升子序列的长度。\n",
    "\n",
    "## 数据格式\n",
    "\n",
    "输入: \\[10,9,2,5,3,7,101,18\\]\n",
    "\n",
    "输出: 4 \n",
    "\n",
    "解释: 最长的上升子序列是 \\[2,3,7,101\\]，它的长度是 4。"
   ]
  },
  {
   "cell_type": "markdown",
   "metadata": {},
   "source": [
    "## 思路\n",
    "\n",
    "观察可以发现，该问题可以被拆分为小的子问题，由于上升的子序列性质具有传递性，可以不用重复的去寻找子问题的解，进而联想到使用动态规划。\n",
    "\n",
    "为了将上升的性质传递下去，我们令$dp[i]$代表以i结尾的最长子序列的长度，那么状态转移公式为：$dp[i]=\\begin{cases} 1 & i=0 \\\\ \\max(dp[j])+1 & i>0 \\cup s[i] > s[j], \\forall j \\in [0,i)\\end{cases}$\n",
    "\n",
    "最终的目标值为：$\\max(dp[i]) \\quad \\forall i \\in len(s)$\n",
    "\n",
    "这样使用一维和数组即可表示动态表。"
   ]
  },
  {
   "cell_type": "code",
   "execution_count": null,
   "metadata": {},
   "outputs": [],
   "source": [
    "# leetcode版代码实现\n",
    "class Solution:\n",
    "    def lengthOfLIS(self, nums) -> int:\n",
    "        if not len(nums):\n",
    "            return 0\n",
    "        dp = [1 for _ in range(len(nums))]\n",
    "        for i in range(1, len(nums)):\n",
    "            for j in range(i):\n",
    "                if nums[i] > nums[j]:\n",
    "                    dp[i] = max(dp[i], dp[j]+1)\n",
    "        return max(dp)"
   ]
  },
  {
   "cell_type": "code",
   "execution_count": null,
   "metadata": {},
   "outputs": [],
   "source": [
    "# 带动画效果版代码实现\n",
    "import algviz\n",
    "\n",
    "def lengthOfLIS(in_nums):\n",
    "    if not len(in_nums):\n",
    "        return 0\n",
    "    viz = algviz.Visualizer(1.0)\n",
    "    nums = viz.createVector(data=in_nums, name='nums')\n",
    "    dp = viz.createVector(data=[1 for _ in range(len(nums))], name='dp')\n",
    "    nums_tr1 = viz.createVectorTrace(nums, name='i')\n",
    "    nums_tr2 = viz.createVectorTrace(nums, name='j')\n",
    "    dp_tr1 = viz.createVectorTrace(dp, name='i')\n",
    "    dp_tr2 = viz.createVectorTrace(dp, name='j')\n",
    "    for nums_tr1.i in range(1, len(nums)):\n",
    "        for nums_tr2.i in range(nums_tr1.i):\n",
    "            viz.refresh()\n",
    "            if nums[nums_tr1] > nums[nums_tr2]:\n",
    "                dp_tr1.i = nums_tr1.i\n",
    "                dp_tr2.i = nums_tr2.i\n",
    "                dp[dp_tr1] = max(dp[dp_tr1], dp[dp_tr2]+1)\n",
    "                viz.refresh()\n",
    "    return max(dp._data)"
   ]
  },
  {
   "cell_type": "code",
   "execution_count": null,
   "metadata": {},
   "outputs": [],
   "source": [
    "nums = [10,9,2,5,3,7,101,18]\n",
    "print('Result of leetcode implement:', Solution().lengthOfLIS(nums))\n",
    "print('-'*30)\n",
    "print('Result of animate implement:', lengthOfLIS(nums))"
   ]
  }
 ],
 "metadata": {
  "kernelspec": {
   "display_name": "Python 3",
   "language": "python",
   "name": "python3"
  },
  "language_info": {
   "codemirror_mode": {
    "name": "ipython",
    "version": 3
   },
   "file_extension": ".py",
   "mimetype": "text/x-python",
   "name": "python",
   "nbconvert_exporter": "python",
   "pygments_lexer": "ipython3",
   "version": "3.7.6"
  }
 },
 "nbformat": 4,
 "nbformat_minor": 4
}
