{
 "cells": [
  {
   "cell_type": "markdown",
   "metadata": {},
   "source": [
    "# 最长上升子序列\n",
    "\n",
    "+ [题目来源](https://leetcode-cn.com/problems/longest-increasing-subsequence/)"
   ]
  },
  {
   "cell_type": "markdown",
   "metadata": {},
   "source": [
    "## 问题描述\n",
    "\n",
    "> 给定一个无序的整数数组，找到其中最长上升子序列的长度。\n",
    "\n",
    "> 输入: \\[10,9,2,5,3,7,101,18\\]\n",
    ">\n",
    "> 输出: 4 \n",
    ">\n",
    "> 解释: 最长的上升子序列是 \\[2,3,7,101\\]，它的长度是 4。"
   ]
  },
  {
   "cell_type": "markdown",
   "metadata": {},
   "source": [
    "## 思路\n",
    "\n",
    "+ 观察可以发现，该问题可以被拆分为小的子问题，由于上升的子序列性质具有传递性，可以不用重复的去寻找子问题的解，进而联想到使用动态规划。\n",
    "\n",
    "+ 为了将上升的性质传递下去，我们令$dp[i]$代表以i结尾的最长子序列的长度，那么状态转移公式为：$dp[i]=\\begin{cases} 1 & i=0 \\\\ \\max(dp[j])+1 & i>0 \\cup s[i] > s[j], \\forall j \\in [0,i)\\end{cases}$\n",
    "\n",
    "+ 最终的目标值为：$\\max(dp[i]) \\quad \\forall i \\in len(s)$\n",
    "\n",
    "+ 这样使用一维和数组即可表示动态表。"
   ]
  },
  {
   "cell_type": "code",
   "execution_count": 12,
   "metadata": {},
   "outputs": [],
   "source": [
    "# 求解方案\n",
    "class Solution:\n",
    "    def lengthOfLIS(self, nums) -> int:\n",
    "        if not len(nums):\n",
    "            return 0\n",
    "        dp = [1 for _ in range(len(nums))]\n",
    "        for i in range(1, len(nums)):\n",
    "            for j in range(i):\n",
    "                if nums[i] > nums[j]:\n",
    "                    dp[i] = max(dp[i], dp[j]+1)\n",
    "        return max(dp)"
   ]
  },
  {
   "cell_type": "code",
   "execution_count": 13,
   "metadata": {},
   "outputs": [
    {
     "name": "stdout",
     "output_type": "stream",
     "text": [
      "0\n"
     ]
    }
   ],
   "source": [
    "nums = [10,9,2,5,3,7,101,18]\n",
    "sol = Solution()\n",
    "print(sol.lengthOfLIS(nums))\n"
   ]
  }
 ],
 "metadata": {
  "kernelspec": {
   "display_name": "Python 3",
   "language": "python",
   "name": "python3"
  },
  "language_info": {
   "codemirror_mode": {
    "name": "ipython",
    "version": 3
   },
   "file_extension": ".py",
   "mimetype": "text/x-python",
   "name": "python",
   "nbconvert_exporter": "python",
   "pygments_lexer": "ipython3",
   "version": "3.7.6"
  }
 },
 "nbformat": 4,
 "nbformat_minor": 4
}
