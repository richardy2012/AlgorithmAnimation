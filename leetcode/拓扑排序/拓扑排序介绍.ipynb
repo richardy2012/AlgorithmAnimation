{
 "cells": [
  {
   "cell_type": "markdown",
   "metadata": {},
   "source": [
    "# 拓扑排序介绍\n",
    "\n",
    "## 基本概念\n",
    "\n",
    "> 在图论中，拓扑排序（Topological Sorting）是一个有向无环图（DAG, Directed Acyclic Graph）的所有顶点的线性序列。且该序列必须满足下面两个条件：\n",
    ">    1. 每个顶点出现且只出现一次。\n",
    ">    2. 若存在一条从顶点 A 到顶点 B 的路径，那么在序列中顶点 A 出现在顶点 B 的前面。\n",
    ">\n",
    "> 注：有向无环图（DAG）才有拓扑排序，非DAG图没有拓扑排序一说。\n",
    "> 有向无环图的定义为：如果一个有向图从任意顶点出发无法经过若干条边回到这个点，则称这个图是一个有向无环图。\n",
    "\n",
    "## 实现原理\n",
    "\n",
    "### Kahn's algorithm\n",
    "\n",
    "![拓扑排序原理图](http://img.blog.csdn.net/20150507001759702)\n",
    "+ 该方法实际上属于一种广度优先搜索的方式，可以使用队列实现。\n",
    "> 1. 从DAG图中选择一个没有前驱（即入度为0）的顶点并输出。\n",
    "> 2. 从图中删除该顶点和所有以它为起点的有向边。\n",
    "> 3. 重复1和2直到当前的DAG图为空或当前图中不存在无前驱的顶点为止。\n",
    "\n",
    "### 深度优先搜索(DFS)：\n",
    "\n",
    "<img src=https://media.geeksforgeeks.org/wp-content/cdn-uploads/20190704153933/TopologicalSorting1.png width=80%></img>\n",
    "\n",
    "+ 在使用DFS的方式遍历图时，可以按照一定的顺序将图中的顶点打印出来，为了实现打印出来顶点的拓扑排序，需要在一个顶点的邻居点之前打印它。\n",
    "\n",
    "## 参考链接\n",
    "\n",
    "+ https://zhuanlan.zhihu.com/p/56024487\n",
    "+ https://songlee24.github.io/2015/05/07/topological-sorting/\n",
    "+ https://www.geeksforgeeks.org/topological-sorting/"
   ]
  },
  {
   "cell_type": "code",
   "execution_count": 2,
   "metadata": {},
   "outputs": [],
   "source": [
    "# 有向图的定义，使用邻接表保存（有无环需要自己检测）。\n",
    "class DirectedGraph():\n",
    "    # n为图中顶点个数。\n",
    "    def __init__(self, n):\n",
    "        self.adjtab = [[] for _ in range(n)]\n",
    "    \n",
    "    # u为边的起点，v为边的终点。\n",
    "    def add_edge(self, u, v):\n",
    "        self.adjtab[u].append(v)"
   ]
  },
  {
   "cell_type": "code",
   "execution_count": 3,
   "metadata": {},
   "outputs": [],
   "source": [
    "from queue import Queue\n",
    "\n",
    "# Kahn's algorithm实现\n",
    "def topologicalSortingKahns(graph):\n",
    "    # 计算每个顶点的入度。\n",
    "    n = len(graph.adjtab)\n",
    "    degree = [0 for _ in range(n)]\n",
    "    for u in range(n):\n",
    "        for v in graph.adjtab[u]:\n",
    "            degree[v] += 1\n",
    "    que = Queue()\n",
    "    # 将入度为0的点放入队列。\n",
    "    for u in range(n):\n",
    "        if degree[u] == 0:\n",
    "            que.put(u)\n",
    "    # 取点，删边，加点。\n",
    "    sort_res = list()\n",
    "    while not que.empty():\n",
    "        u = que.get()\n",
    "        for v in graph.adjtab[u]:\n",
    "            degree[v] -= 1\n",
    "            if degree[v] == 0:\n",
    "                que.put(v)\n",
    "        sort_res.append(u)\n",
    "    return sort_res"
   ]
  },
  {
   "cell_type": "code",
   "execution_count": 7,
   "metadata": {},
   "outputs": [],
   "source": [
    "# Depth first search拓扑排序实现\n",
    "def topologicalSortingDfsUnit(graph, u, visited, stack):\n",
    "    visited[u] = True\n",
    "    for v in graph.adjtab[u]:\n",
    "        if not visited[v]:\n",
    "            topologicalSortingDfsUnit(graph, v, visited, stack)\n",
    "    stack.append(u)\n",
    "\n",
    "def topologicalSortingDfs(graph):\n",
    "    n = len(graph.adjtab)\n",
    "    visited = [False for _ in range(n)]\n",
    "    stack = list()\n",
    "    for u in range(n):\n",
    "        if not visited[u]:\n",
    "            topologicalSortingDfsUnit(graph, u, visited, stack)\n",
    "    return stack[::-1]"
   ]
  },
  {
   "cell_type": "code",
   "execution_count": 30,
   "metadata": {},
   "outputs": [],
   "source": [
    "# 对比图的深度优先搜索\n",
    "def graphDfsUnit(graph, u, visited, stack):\n",
    "    visited[u] = True\n",
    "    stack.append(u)\n",
    "    for v in graph.adjtab[u]:\n",
    "        if not visited[v]:\n",
    "            graphDfsUnit(graph, v, visited, stack)\n",
    "            \n",
    "def graphDfs(graph):\n",
    "    n = len(graph.adjtab)\n",
    "    visited = [False for _ in range(n)]\n",
    "    stack = list()\n",
    "    for u in range(n):\n",
    "        if not visited[u]:\n",
    "            graphDfsUnit(graph, u, visited, stack)\n",
    "    return stack"
   ]
  },
  {
   "cell_type": "code",
   "execution_count": 29,
   "metadata": {},
   "outputs": [
    {
     "name": "stdout",
     "output_type": "stream",
     "text": [
      "Kanhs topologic sorting: [0, 1, 3, 2, 4]\n",
      "DFS topologic sorting: [0, 1, 3, 2, 4]\n",
      "DFS traverse: [0, 1, 3, 2, 4]\n"
     ]
    }
   ],
   "source": [
    "graph1 = DirectedGraph(5)\n",
    "graph1.add_edge(0,1)\n",
    "graph1.add_edge(0,3)\n",
    "graph1.add_edge(1,3)\n",
    "graph1.add_edge(1,2)\n",
    "graph1.add_edge(3,2)\n",
    "graph1.add_edge(3,4)\n",
    "graph1.add_edge(2,4)\n",
    "print('Kanhs topologic sorting:', topologicalSortingKahns(graph1))\n",
    "print('DFS topologic sorting:', topologicalSortingDfs(graph1))\n",
    "print('DFS traverse:', graphDfs(graph1))"
   ]
  },
  {
   "cell_type": "code",
   "execution_count": 31,
   "metadata": {},
   "outputs": [
    {
     "name": "stdout",
     "output_type": "stream",
     "text": [
      "Kanhs topologic sorting: [4, 5, 0, 2, 3, 1]\n",
      "DFS topologic sorting: [5, 4, 2, 3, 1, 0]\n",
      "DFS traverse: [0, 1, 2, 3, 4, 5]\n"
     ]
    }
   ],
   "source": [
    "graph2 = DirectedGraph(6)\n",
    "graph2.add_edge(4,0)\n",
    "graph2.add_edge(5,0)\n",
    "graph2.add_edge(5,2)\n",
    "graph2.add_edge(3,1)\n",
    "graph2.add_edge(2,3)\n",
    "graph2.add_edge(4,1)\n",
    "print('Kanhs topologic sorting:', topologicalSortingKahns(graph2))\n",
    "print('DFS topologic sorting:', topologicalSortingDfs(graph2))\n",
    "print('DFS traverse:', graphDfs(graph2))"
   ]
  },
  {
   "cell_type": "code",
   "execution_count": 9,
   "metadata": {},
   "outputs": [
    {
     "name": "stdout",
     "output_type": "stream",
     "text": [
      "Kanhs topologic sorting: [0]\n",
      "DFS topologic sorting: [0, 1, 2]\n"
     ]
    }
   ],
   "source": [
    "# 有环图的处理。\n",
    "graph3 = DirectedGraph(3)\n",
    "graph3.add_edge(0,1)\n",
    "graph3.add_edge(1,2)\n",
    "graph3.add_edge(2,1)\n",
    "# Kanhs算法可以处理有环图。\n",
    "print('Kanhs topologic sorting:', topologicalSortingKahns(graph3))\n",
    "# DFS对于有环图排出来的结果是错误的。\n",
    "print('DFS topologic sorting:', topologicalSortingDfs(graph3))"
   ]
  }
 ],
 "metadata": {
  "kernelspec": {
   "display_name": "Python 3",
   "language": "python",
   "name": "python3"
  },
  "language_info": {
   "codemirror_mode": {
    "name": "ipython",
    "version": 3
   },
   "file_extension": ".py",
   "mimetype": "text/x-python",
   "name": "python",
   "nbconvert_exporter": "python",
   "pygments_lexer": "ipython3",
   "version": "3.7.6"
  }
 },
 "nbformat": 4,
 "nbformat_minor": 4
}
