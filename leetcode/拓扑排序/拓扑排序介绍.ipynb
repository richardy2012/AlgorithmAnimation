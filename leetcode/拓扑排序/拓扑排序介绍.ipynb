{
 "cells": [
  {
   "cell_type": "markdown",
   "metadata": {},
   "source": [
    "# 拓扑排序介绍\n",
    "\n",
    "## 基本概念\n",
    "\n",
    "在图论中，拓扑排序（Topological Sorting）是一个有向无环图（DAG, Directed Acyclic Graph）的所有顶点的线性序列。  \n",
    "且该序列必须满足下面两个条件：\n",
    "\n",
    "1. 每个顶点出现且只出现一次。\n",
    "2. 若存在一条从顶点 A 到顶点 B 的路径，那么在序列中顶点 A 出现在顶点 B 的前面。\n",
    "\n",
    "注：有向无环图（DAG）才有拓扑排序，非DAG图没有拓扑排序一说。\n",
    "\n",
    "> 有向无环图的定义为：如果一个有向图从任意顶点出发无法经过若干条边回到这个点，则称这个图是一个有向无环图。"
   ]
  },
  {
   "cell_type": "markdown",
   "metadata": {},
   "source": [
    "## 实现原理\n",
    "\n",
    "### Kahn's algorithm\n",
    "\n",
    "该方法每次从拓扑图中删去入度为0的顶点，并删除与其相关的边，直到无入度为0的顶点存在。由于拓扑图的环路中不存在入度为零的点，因此该方法可以自动识别有环图。为了快速的计算每个顶点的入度，算法需要一个辅助数据来记录拓扑图中每个顶点的入度。  \n",
    "算法的具体实现流程如下：\n",
    "\n",
    "1. 从DAG图中选择一个没有前驱（即入度为0）的顶点并输出。\n",
    "2. 从图中删除该顶点和所有以它为起点的有向边。\n",
    "3. 重复步骤1和2直到当前的DAG图为空或当前图中不存在无前驱的顶点为止。\n",
    "\n",
    "**时间复杂度**：遍历拓扑图中的每个顶点和边，因此复杂度为 $O(n+v)$, 其中 $n$ 代表拓扑图中顶点的数目，$v$ 代表拓扑图中边的数目。\n",
    "\n",
    "**空间复杂度**：需要辅助数据记录每个顶点的入度，以及堆栈来临时保存入度为0的顶点，因此复杂度为 $O(n)$ 。"
   ]
  },
  {
   "cell_type": "code",
   "execution_count": null,
   "metadata": {},
   "outputs": [],
   "source": [
    "# Kahn's algorithm实现\n",
    "import algviz\n",
    "\n",
    "def topologicalSortingKahns(graph):\n",
    "    # 计算每个顶点的入度。\n",
    "    viz = algviz.Visualizer(3.0)\n",
    "    graph_viz = viz.createGraph(data=list(graph.values()), horizontal=True)\n",
    "    degree = [0 for _ in range(len(graph))]\n",
    "    for u in graph.values():\n",
    "        for v in u.neighbors:\n",
    "            degree[v.val] += 1\n",
    "    que = viz.createVector(name='Queue')\n",
    "    # 将入度为0的点放入队列。\n",
    "    for u in graph.values():\n",
    "        if degree[u.val] == 0:\n",
    "            que.append(u)\n",
    "    # 取点，删边，加点。\n",
    "    cur_node = viz.createGraphTrace(graph_viz, hold=True)\n",
    "    res = list()\n",
    "    while len(que) > 0:\n",
    "        cur_node(que.pop())\n",
    "        for i in range(len(cur_node)):\n",
    "            v = cur_node[i]\n",
    "            degree[v.val] -= 1\n",
    "            if degree[v.val] == 0:\n",
    "                que.append(v)\n",
    "        res.append(cur_node.val)\n",
    "        viz.refresh()\n",
    "    return res"
   ]
  },
  {
   "cell_type": "markdown",
   "metadata": {},
   "source": [
    "### 深度优先搜索：\n",
    "\n",
    "在使用DFS的方式遍历图时，可以按照一定的顺序将图中的顶点打印出来，为了实现打印出来顶点的拓扑排序，需要在一个顶点的邻居点之前打印它。该算法与传统的DFS方法的不同之处在于：**DFS拓扑排序是先递归后访问节点，而传统的DFS是先访问节点后递归。**  \n",
    "\n",
    "下面的代码对分别实现了基于深度优先搜索的拓扑排序和传统的深搜算法："
   ]
  },
  {
   "cell_type": "code",
   "execution_count": null,
   "metadata": {},
   "outputs": [],
   "source": [
    "# 基于深度优先搜索的拓扑排序算法实现（递归版本）。\n",
    "class Solution:\n",
    "    def topologicalSortingDfsUnit(self, node, visited, stack):\n",
    "        visited[node.val] = True\n",
    "        self.trace(node)\n",
    "        self.viz.refresh()\n",
    "        for i in range(len(self.trace)):\n",
    "            v = self.trace[i]\n",
    "            if not visited[v.val]:\n",
    "                self.topologicalSortingDfsUnit(v, visited, stack)\n",
    "        stack.append(node.val)\n",
    "\n",
    "    def topologicalSortingDfs(self, graph):\n",
    "        self.viz = algviz.Visualizer(3.0)\n",
    "        graph_viz = self.viz.createGraph(data=list(graph.values()), horizontal=True)\n",
    "        self.trace = self.viz.createGraphTrace(graph_viz, hold=True)\n",
    "        visited = [False for _ in range(len(graph))]\n",
    "        stack = list()\n",
    "        for u in graph.values():\n",
    "            if not visited[u.val]:\n",
    "                self.topologicalSortingDfsUnit(u, visited, stack)\n",
    "        return stack[::-1]"
   ]
  },
  {
   "cell_type": "code",
   "execution_count": null,
   "metadata": {},
   "outputs": [],
   "source": [
    "# 传统的拓扑图的深度优先搜索算法（递归版本）。\n",
    "def graphDfsUnit(graph, u, visited, stack):\n",
    "    visited[u] = True\n",
    "    stack.append(u)\n",
    "    for v in graph.adjtab[u]:\n",
    "        if not visited[v]:\n",
    "            graphDfsUnit(graph, v, visited, stack)\n",
    "            \n",
    "def graphDfs(graph):\n",
    "    n = len(graph.adjtab)\n",
    "    visited = [False for _ in range(n)]\n",
    "    stack = list()\n",
    "    for u in range(n):\n",
    "        if not visited[u]:\n",
    "            graphDfsUnit(graph, u, visited, stack)\n",
    "    return stack"
   ]
  },
  {
   "cell_type": "code",
   "execution_count": null,
   "metadata": {},
   "outputs": [],
   "source": [
    "graph1 = algviz.parseGraph('[[0,0], [1,1], [2,2], [3,3], [4,4]]',\n",
    "                          '[[0,1], [0,3], [1,3], [1,2], [3,2], [3,4], [2,4]]')\n",
    "#print(\"Call Kahn's topological sorting algorithm:\")\n",
    "#print(\"Result:\", topologicalSortingKahns(graph1))\n",
    "print('Call DFS topological sorting algorithm:')\n",
    "%pdb\n",
    "print('Result:', Solution().topologicalSortingDfs(graph1))"
   ]
  },
  {
   "cell_type": "code",
   "execution_count": null,
   "metadata": {},
   "outputs": [],
   "source": [
    "graph2 = DirectedGraph(6)\n",
    "graph2.add_edge(4,0)\n",
    "graph2.add_edge(5,0)\n",
    "graph2.add_edge(5,2)\n",
    "graph2.add_edge(3,1)\n",
    "graph2.add_edge(2,3)\n",
    "graph2.add_edge(4,1)\n",
    "print('Kanhs topologic sorting:', topologicalSortingKahns(graph2))\n",
    "print('DFS topologic sorting:', topologicalSortingDfs(graph2))\n",
    "print('DFS traverse:', graphDfs(graph2))"
   ]
  },
  {
   "cell_type": "code",
   "execution_count": null,
   "metadata": {},
   "outputs": [],
   "source": [
    "# 有环图的处理。\n",
    "graph3 = DirectedGraph(3)\n",
    "graph3.add_edge(0,1)\n",
    "graph3.add_edge(1,2)\n",
    "graph3.add_edge(2,1)\n",
    "# Kanhs算法可以处理有环图。\n",
    "print('Kanhs topologic sorting:', topologicalSortingKahns(graph3))\n",
    "# DFS对于有环图排出来的结果是错误的。\n",
    "print('DFS topologic sorting:', topologicalSortingDfs(graph3))"
   ]
  },
  {
   "cell_type": "markdown",
   "metadata": {},
   "source": [
    "## 参考链接\n",
    "\n",
    "+ https://zhuanlan.zhihu.com/p/56024487\n",
    "+ https://songlee24.github.io/2015/05/07/topological-sorting/\n",
    "+ https://www.geeksforgeeks.org/topological-sorting/"
   ]
  }
 ],
 "metadata": {
  "kernelspec": {
   "display_name": "Python 3",
   "language": "python",
   "name": "python3"
  },
  "language_info": {
   "codemirror_mode": {
    "name": "ipython",
    "version": 3
   },
   "file_extension": ".py",
   "mimetype": "text/x-python",
   "name": "python",
   "nbconvert_exporter": "python",
   "pygments_lexer": "ipython3",
   "version": "3.7.6"
  },
  "toc-autonumbering": false,
  "toc-showmarkdowntxt": false,
  "toc-showtags": false
 },
 "nbformat": 4,
 "nbformat_minor": 4
}
