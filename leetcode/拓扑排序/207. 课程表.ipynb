{
 "cells": [
  {
   "cell_type": "markdown",
   "metadata": {},
   "source": [
    "# 课程表\n",
    "\n",
    "## [问题描述]((https://leetcode-cn.com/problems/course-schedule/))\n",
    "\n",
    "你这个学期必须选修numCourse门课程，记为0到numCourse-1。  \n",
    "在选修某些课程之前需要一些先修课程。例如，想要学习课程0，你需要先完成课程1，我们用一个匹配来表示他们：\\[0,1\\]  \n",
    "给定课程总量以及它们的先决条件，请你判断是否可能完成所有课程的学习？  "
   ]
  },
  {
   "cell_type": "markdown",
   "metadata": {},
   "source": [
    "## 数据格式\n",
    "\n",
    "输入: 2, \\[\\[1,0\\]\\]   \n",
    "输出: true  \n",
    "解释: 总共有2门课程。学习课程1之前，你需要完成课程0。所以这是可能的。\n",
    "\n",
    "---\n",
    "\n",
    "输入: 2, \\[\\[1,0\\],\\[0,1\\]\\]  \n",
    "输出: false  \n",
    "解释: 总共有2门课程。学习课程1之前，你需要先完成课程0；并且学习课程0之前，你还应先完成课程1。这是不可能的。"
   ]
  },
  {
   "cell_type": "markdown",
   "metadata": {},
   "source": [
    "## 思路分析\n",
    "\n",
    "判断拓扑图中是否含有环，可以直接使用[Kahns Algorithm](拓扑排序介绍.ipynb#Kahn's-algorithm)算法进行排序，此时不需要输出排序结果，只需要判断排序结果中顶点的个数是否等于图中顶点总数即可。具体的动画效果可以参考[拓扑排序介绍笔记](拓扑排序介绍.ipynb)。"
   ]
  },
  {
   "cell_type": "code",
   "execution_count": null,
   "metadata": {},
   "outputs": [],
   "source": [
    "class Solution:\n",
    "    def canFinish(self, numCourses, prerequisites):\n",
    "        \"\"\"\n",
    "        :type numCourses: int\n",
    "        :type prerequisites: List[List[int]]\n",
    "        :rtype: bool\n",
    "        \"\"\"\n",
    "        graph = [[] for _ in range(numCourses)]\n",
    "        degree = [0 for _ in range(numCourses)]\n",
    "        for v, u in prerequisites:\n",
    "            graph[u].append(v)\n",
    "            degree[v] += 1\n",
    "        queue = [u for u in range(numCourses) if degree[u] == 0]\n",
    "        res = 0\n",
    "        while queue:\n",
    "            u = queue.pop()\n",
    "            res += 1\n",
    "            for v in graph[u]:\n",
    "                degree[v] -= 1\n",
    "                if degree[v] == 0:\n",
    "                    queue.append(v)\n",
    "        return res == numCourses"
   ]
  },
  {
   "cell_type": "code",
   "execution_count": null,
   "metadata": {},
   "outputs": [],
   "source": [
    "numCourses = 2\n",
    "prerequisites = [[1,0]]\n",
    "print(Solution().canFinish(numCourses, prerequisites))"
   ]
  },
  {
   "cell_type": "code",
   "execution_count": null,
   "metadata": {},
   "outputs": [],
   "source": [
    "numCourses = 2\n",
    "prerequisites = [[1,0],[0,1]]\n",
    "print(Solution().canFinish(numCourses, prerequisites))"
   ]
  }
 ],
 "metadata": {
  "kernelspec": {
   "display_name": "Python 3",
   "language": "python",
   "name": "python3"
  },
  "language_info": {
   "codemirror_mode": {
    "name": "ipython",
    "version": 3
   },
   "file_extension": ".py",
   "mimetype": "text/x-python",
   "name": "python",
   "nbconvert_exporter": "python",
   "pygments_lexer": "ipython3",
   "version": "3.7.6"
  }
 },
 "nbformat": 4,
 "nbformat_minor": 4
}
