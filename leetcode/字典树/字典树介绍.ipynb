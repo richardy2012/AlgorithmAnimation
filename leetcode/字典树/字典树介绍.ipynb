{
 "cells": [
  {
   "cell_type": "markdown",
   "metadata": {},
   "source": [
    "# 字典树介绍(Trie)\n",
    "\n",
    "## 数据结构\n",
    "\n",
    "+ 在"
   ]
  },
  {
   "cell_type": "markdown",
   "metadata": {},
   "source": [
    "## 参考链接\n",
    "\n",
    "+ https://yq.aliyun.com/articles/38231\n",
    "+ https://blog.csdn.net/thesprit/article/details/52065241\n",
    "+ https://blog.csdn.net/jiutianhe/article/details/8076835"
   ]
  }
 ],
 "metadata": {
  "kernelspec": {
   "display_name": "Python 3",
   "language": "python",
   "name": "python3"
  },
  "language_info": {
   "codemirror_mode": {
    "name": "ipython",
    "version": 3
   },
   "file_extension": ".py",
   "mimetype": "text/x-python",
   "name": "python",
   "nbconvert_exporter": "python",
   "pygments_lexer": "ipython3",
   "version": "3.7.6"
  }
 },
 "nbformat": 4,
 "nbformat_minor": 4
}
