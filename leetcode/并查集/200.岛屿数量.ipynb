{
 "cells": [
  {
   "cell_type": "markdown",
   "metadata": {},
   "source": [
    "# 岛屿数量\n",
    "\n",
    "+ [问题来源](https://leetcode-cn.com/problems/number-of-islands)"
   ]
  },
  {
   "cell_type": "markdown",
   "metadata": {},
   "source": [
    "## 问题介绍\n",
    "\n",
    "> 给定一个由 '1'（陆地）和 '0'（水）组成的的二维网格，计算岛屿的数量。一个岛被水包围，并且它是通过水平方向或垂直方向上相邻的陆地连接而成的。你可以假设网格的四个边均被水包围。\n",
    "\n",
    "> 输入:\n",
    "> 11110\n",
    "> 11010\n",
    "> 11000\n",
    "> 00000\n",
    ">\n",
    "> 输出: 1"
   ]
  },
  {
   "cell_type": "markdown",
   "metadata": {},
   "source": [
    "## 思路分析\n",
    "\n",
    "+ 假设输入网格尺寸为$R \\times C$，我们将二维网格进行编码$index=r*C+c$，并对上下左右相邻且相同的岛屿进行Union操作即，最后查询集合数目。"
   ]
  },
  {
   "cell_type": "code",
   "execution_count": 1,
   "metadata": {},
   "outputs": [],
   "source": [
    "class Solution:\n",
    "    def numIslands(self, grid):\n",
    "        if not len(grid):\n",
    "            return 0\n",
    "        R, C = len(grid), len(grid[0])\n",
    "        self.father = [-1 for _ in range(R*C)]\n",
    "        for r in range(R):\n",
    "            for c in range(C):\n",
    "                if grid[r][c] == '1':\n",
    "                    index = r*C + c\n",
    "                    self.father[index] = index\n",
    "        for r in range(R):\n",
    "            for c in range(C):\n",
    "                if grid[r][c] == '0':\n",
    "                    continue\n",
    "                if r > 0 and grid[r-1][c] == '1':\n",
    "                    self.union(r*C+c, (r-1)*C+c)\n",
    "                if r < R - 1 and grid[r+1][c] == '1':\n",
    "                    self.union(r*C+c, (r+1)*C+c)\n",
    "                if c > 0 and grid[r][c-1] == '1':\n",
    "                    self.union(r*C+c, r*C+c-1)\n",
    "                if c < C - 1 and grid[r][c+1] == '1':\n",
    "                    self.union(r*C+c, r*C+c+1)\n",
    "        res = set()\n",
    "        for r in range(R):\n",
    "            for c in range(C):\n",
    "                if grid[r][c] == '1':\n",
    "                    fa = self.find(r*C+c)\n",
    "                    res.add(fa)\n",
    "        return len(res)\n",
    "        \n",
    "    def find(self, x):\n",
    "        if x != self.father[x]:\n",
    "            self.father[x] = self.find(self.father[x])\n",
    "        return self.father[x]\n",
    "    \n",
    "    def union(self, x, y):\n",
    "        fx = self.find(x)\n",
    "        fy = self.find(y)\n",
    "        if fx != fy:\n",
    "            self.father[fx] = fy"
   ]
  },
  {
   "cell_type": "code",
   "execution_count": 2,
   "metadata": {},
   "outputs": [
    {
     "name": "stdout",
     "output_type": "stream",
     "text": [
      "3\n"
     ]
    }
   ],
   "source": [
    "grid = [\n",
    "    ['1','1','1','1','0'],\n",
    "    ['1','1','0','1','0'],\n",
    "    ['1','1','0','0','1'],\n",
    "    ['0','0','1','1','0']\n",
    "]\n",
    "sol = Solution()\n",
    "print(sol.numIslands(grid))"
   ]
  }
 ],
 "metadata": {
  "kernelspec": {
   "display_name": "Python 3",
   "language": "python",
   "name": "python3"
  },
  "language_info": {
   "codemirror_mode": {
    "name": "ipython",
    "version": 3
   },
   "file_extension": ".py",
   "mimetype": "text/x-python",
   "name": "python",
   "nbconvert_exporter": "python",
   "pygments_lexer": "ipython3",
   "version": "3.7.6"
  }
 },
 "nbformat": 4,
 "nbformat_minor": 4
}
