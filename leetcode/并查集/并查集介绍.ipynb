{
 "cells": [
  {
   "cell_type": "markdown",
   "metadata": {},
   "source": [
    "# 并查集(Union-find sets)\n",
    "\n",
    "## 原理\n",
    "\n",
    "+ **并查集**是一种树形的数据结构，由一系列不相交的集合组成，用于处理一些不相交集合的**合并**和**查询**问题，具有良好的时间的空间复杂度。\n",
    "\n",
    "![基本原理](https://oi-wiki.org/ds/images/dsu1.png)\n",
    "![路径压缩](https://oi-wiki.org/ds/images/dsu2.png)\n",
    "\n",
    "## 实现\n",
    "\n",
    "### 初始化并查集\n",
    "\n",
    "+ 通常使用数组来实现：初始化一个一维的数组$Fa[]$，数组的下标代表元素的索引，数组中保存了当前元素所在集合的代表的索引，初始化为元素自身。\n",
    "\n",
    "### 查找操作(Find)\n",
    "\n",
    "+ 用来查找某个元素所属集合中的根节点的索引，可以用来判断两个元素是否属于同一个集合。为了保证查找的效率，在Find操作中需要压缩路径，即实时的更新$Fa[]$中的值。\n",
    "\n",
    "### 合并操作(Union)\n",
    "\n",
    "![合并操作示意图](https://s1.ax1x.com/2020/04/16/JF14Ve.png)\n",
    "\n",
    "+ 合并操作是将两个集合合并为一个集合，只需要找到两个集合的代表节点$X$, $Y$，然后令$Fa[X]=Y$(1)或$Fa[Y]=X$(2)即可。选择操作(1)和(2)可以根据集合的大小或深度来确定，原则上要保证合并后的树的深度更小。\n",
    "\n",
    "## 用途\n",
    "\n",
    "+ 最小生成树算法 中的 Kruskal 是基于并查集的算法。\n",
    "+ 求连通子图。\n",
    "+ 求最近公共祖先（Least Common Ancestors, LCA）。\n",
    "\n",
    "## 参考资料\n",
    "\n",
    "+ https://www.cnblogs.com/cyjb/p/UnionFindSets.html\n",
    "+ https://oi-wiki.org/ds/dsu/\n",
    "+ https://zhuanlan.zhihu.com/p/93647900\n"
   ]
  },
  {
   "cell_type": "code",
   "execution_count": 1,
   "metadata": {},
   "outputs": [],
   "source": [
    "# 并查集的基本实现，未考虑合并操作时树的平衡。\n",
    "class UnionFindSets():\n",
    "    \n",
    "    # m代表元素个数，默认元素的编号从0开始，且依次递增。\n",
    "    def __init__(self, m):\n",
    "        self.father = [i for i in range(m)]\n",
    "    \n",
    "    # x为待查询元素索引，返回x所在集合中的代表元素。\n",
    "    def find(self, x):\n",
    "        if self.father[x] != x:\n",
    "            self.father[x] = self.find(self.father[x])\n",
    "        return self.father[x]\n",
    "    \n",
    "    # 合并两个元素(x,y)所在的集合。\n",
    "    def union(self, x, y):\n",
    "        fx = self.find(x)\n",
    "        fy = self.find(y)\n",
    "        if fx != fy:\n",
    "            self.father[fx] = fy"
   ]
  },
  {
   "cell_type": "markdown",
   "metadata": {},
   "source": [
    "# 简单的测试算例\n",
    "\n",
    "![简单测试算例](https://pic1.zhimg.com/80/v2-3c353bc781c7f3553079d541a9cfdc28_720w.jpg)\n",
    "\n",
    "+ 共六个元素，合并(1,3);(2,3);(4,5);(5,6)\n",
    "\n",
    "+ 输出各个元素是否在相同集合中。"
   ]
  },
  {
   "cell_type": "code",
   "execution_count": 2,
   "metadata": {
    "scrolled": true
   },
   "outputs": [
    {
     "name": "stdout",
     "output_type": "stream",
     "text": [
      "0 1 2 \n",
      "3 4 5 \n"
     ]
    }
   ],
   "source": [
    "# 测试并查集的效果。\n",
    "m = 6\n",
    "pair = ((0,2),(1,2),(3,4),(4,5))\n",
    "\n",
    "ufs = UnionFindSets(6)\n",
    "for (x,y) in pair:\n",
    "    ufs.union(x,y)\n",
    "sets = dict()\n",
    "for i in range(m):\n",
    "    fa = ufs.find(i)\n",
    "    if fa in sets:\n",
    "        sets[fa].append(i)\n",
    "    else:\n",
    "        sets[fa] = [i]\n",
    "for li in sets.values():\n",
    "    for num in li:\n",
    "        print(num, end=' ')\n",
    "    print()"
   ]
  }
 ],
 "metadata": {
  "kernelspec": {
   "display_name": "Python 3",
   "language": "python",
   "name": "python3"
  },
  "language_info": {
   "codemirror_mode": {
    "name": "ipython",
    "version": 3
   },
   "file_extension": ".py",
   "mimetype": "text/x-python",
   "name": "python",
   "nbconvert_exporter": "python",
   "pygments_lexer": "ipython3",
   "version": "3.7.6"
  }
 },
 "nbformat": 4,
 "nbformat_minor": 4
}
