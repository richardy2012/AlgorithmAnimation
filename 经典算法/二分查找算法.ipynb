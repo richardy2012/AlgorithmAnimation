{
 "cells": [
  {
   "cell_type": "markdown",
   "metadata": {},
   "source": [
    "# 二分查找\n",
    "\n",
    "二分查找(Binary Search)是一种高效的查找方法，一般情况下的时间复杂度为 $O(log_2^n)$ ，算法要求**查找表**必须按照顺序结构储存（如：数组结构），且查找表中的元素需要按照关键字**有序排列**。\n",
    "\n",
    "在设计二分查找的算法时，需要两个变量来标记当前搜索区间，通常命名为 `st` 和 `ed` 以代表区间中的起始和结束的位置。然后我们只需要每次比较区间中间的那个位置 `mid` 的元素和目标元素的关系，并按照一定的规则更新区间的位置，直到找到所需要的元素或是满足停止条件。\n",
    "\n",
    "二分查找虽然原理简单，但是问题千变万化，而在实现算法时，一不留神就会使代码陷入死循环💣。我们在确定 `mid` 计算方式、区间更新方式和停止条件时，需要小心小心再小心，下面对这几个关键点的实现作一些讨论和对比。"
   ]
  },
  {
   "cell_type": "markdown",
   "metadata": {},
   "source": [
    "## 开区间还是闭区间？\n",
    "\n",
    "左闭右开区间 `[st, ed)` 比较符合程序员的编程习惯，而全闭区间 `[st, ed]` 在解决有些问题上用起来更加方便，这就带来了选择上的困难😕。但如果搞明白区间开闭和 `mid` 值的计算方式、区间更新方式以及停止条件的关系后，或许有助于我们快速的排除一些选择。  \n",
    "\n",
    "先看开闭区间与**停止条件**的关系：\n",
    "\n",
    "+ 左闭右开：当 $st \\geq ed$ 时停止，在主循环中使用 `while st < ed` 的形式。\n",
    "+ 全闭区间：当 $st > ed$ 时停止，在主循环中使用 `while st <= ed` 的形式。\n",
    "\n",
    "再看开闭区间与**区间更新方式**的关系：\n",
    "\n",
    "+ 左闭右开：左区间的右边界更新为 `mid`，右区间的左边界更新为 `mid+1`。\n",
    "+ 全闭区间：左区间的右边界更新为 `mid-1`，右区间的左边界更新为 `mid+1`。\n",
    "\n",
    "`mid` 值的计算方式见下文👇。"
   ]
  },
  {
   "cell_type": "markdown",
   "metadata": {},
   "source": [
    "## 左偏还是右偏？\n",
    "\n",
    "当区间的长度是奇数时，区间的中间只有一个位置，而当区间长度是偶数时，区间中就有了两个中间位置，一个左偏一个右偏。在实现算法的时候，通常选择一种固定的 `mid` 值更新方式，而区间更新公式和区间的开闭关系有关，具体如下表：\n",
    "\n",
    "| 偏移类型 | 区间类型 | &emsp;&emsp;更新公式&emsp;&emsp; |\n",
    "|:-------:|:--------:|:--------------------------:|\n",
    "|   左偏   | 全闭区间 | $[st + \\frac{ed-st}{2}]$   |\n",
    "|   左偏   | 左闭右开 | $[st + \\frac{ed-st-1}{2}]$ |\n",
    "|   右偏   | 全闭区间 | $[st + \\frac{ed-st+1}{2}]$ |\n",
    "|   右偏   | 左闭右开 | $[st + \\frac{ed-st}{2}]$   |\n",
    "\n",
    "搞了一大堆公式出来，但是这个左右偏有啥用呢（TODO 你别说，我暂时还真不知道，等找到合适的例子再添加吧）？让我们先分析一下它对左右子区间长度的影响，具体如下表：\n",
    "\n",
    "|  偏移类型  | 当前区间长度 | 子区间长度关系 |\n",
    "|:----------:|:----------:|:-------:|\n",
    "|   偏左     |    奇数    |  左=右   |\n",
    "|   偏左     |    偶数    |  左=右-1 |\n",
    "|   偏右     |    奇数    |  左=右   |\n",
    "|   偏右     |    偶数    |  左=右+1 |"
   ]
  },
  {
   "cell_type": "markdown",
   "metadata": {},
   "source": [
    "## 编程注意事项\n",
    "\n",
    "+ 为了防止太大的整数在**相加时溢出**，在计算 `mid` 值时应该使用 $[st + \\frac{ed-st}{2}]$ 的形式，~~~而不是$[\\frac{st+ed}{2}]$的形式~~~。\n",
    "+ 为了提高效率，$\\frac{xx}{2}$ 的操作可以使用向右移一位操作代替 $xx>>1$。"
   ]
  },
  {
   "cell_type": "code",
   "execution_count": 1,
   "metadata": {},
   "outputs": [],
   "source": [
    "# 二分查找算法实现（全闭区间）。\n",
    "import algviz\n",
    "\n",
    "def binarySearchClose(nums_, target):\n",
    "    viz = algviz.Visualizer(1)\n",
    "    nums = viz.createVector(nums_)\n",
    "    st, ed = 0, len(nums)-1\n",
    "    while st <= ed:\n",
    "        #mid = st + (ed-st)//2     # 左偏\n",
    "        mid = st + (ed-st+1)//2  # 右偏\n",
    "        nums.mark(algviz.colors['silver'], st, ed+1, hold=False)\n",
    "        if nums[mid] == target:\n",
    "            viz.display()\n",
    "            return mid\n",
    "        elif nums[mid] < target:\n",
    "            st = mid + 1\n",
    "        elif nums[mid] > target:\n",
    "            ed = mid - 1\n",
    "        viz.display()\n",
    "    return -1"
   ]
  },
  {
   "cell_type": "code",
   "execution_count": 2,
   "metadata": {},
   "outputs": [],
   "source": [
    "# 二分查找算法实现（左闭右开）。\n",
    "import algviz\n",
    "\n",
    "def binarySearchOpen(nums_, target):\n",
    "    viz = algviz.Visualizer(1)\n",
    "    nums = viz.createVector(nums_)\n",
    "    st, ed = 0, len(nums)\n",
    "    while st < ed:\n",
    "        mid = st + (ed-st)//2     # 右偏\n",
    "        #mid = st + (ed-st-1)//2  # 左偏\n",
    "        nums.mark(algviz.colors['silver'], st, ed, hold=False)\n",
    "        if nums[mid] == target:\n",
    "            viz.display();\n",
    "            return mid\n",
    "        elif nums[mid] < target:\n",
    "            st = mid + 1\n",
    "        elif nums[mid] > target:\n",
    "            ed = mid\n",
    "        viz.display()\n",
    "    return -1"
   ]
  },
  {
   "cell_type": "code",
   "execution_count": null,
   "metadata": {},
   "outputs": [],
   "source": [
    "case1 = [-5, -3, -1, 1, 3, 4, 6, 7, 9, 12]\n",
    "target1 = 1\n",
    "print('Call BinarySearchClose:')\n",
    "print('Result:', binarySearchClose(case1, target1))\n",
    "print('-'*30)\n",
    "print('Call BinarySearchOpen:')\n",
    "print('Result:', binarySearchOpen(case1, target1))"
   ]
  },
  {
   "cell_type": "markdown",
   "metadata": {},
   "source": [
    "# 参考链接\n",
    "\n",
    "+ https://www.cnblogs.com/kyoner/p/11080078.html\n",
    "+ [五分钟学算法-手撸动画](https://www.cxyxiaowu.com/9880.html)\n",
    "+ https://www.geeksforgeeks.org/binary-search/"
   ]
  }
 ],
 "metadata": {
  "kernelspec": {
   "display_name": "Python 3",
   "language": "python",
   "name": "python3"
  },
  "language_info": {
   "codemirror_mode": {
    "name": "ipython",
    "version": 3
   },
   "file_extension": ".py",
   "mimetype": "text/x-python",
   "name": "python",
   "nbconvert_exporter": "python",
   "pygments_lexer": "ipython3",
   "version": "3.8.5"
  }
 },
 "nbformat": 4,
 "nbformat_minor": 4
}
