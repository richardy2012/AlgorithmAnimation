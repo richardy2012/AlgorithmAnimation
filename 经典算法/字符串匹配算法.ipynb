{
 "cells": [
  {
   "cell_type": "markdown",
   "metadata": {},
   "source": [
    "# 字符串匹配问题\n",
    "\n",
    "字符串匹配问题是**在一个给定字符串中搜索特定模式出现的所有位置**，这里的给定字符串使用也称作**文本(Text, T)** ，特定模式被称为**模式(Pattern, P)**。传统的字符串匹配问题中的模式是一个比文本短的字符串，不包含特殊的字符，但1974年Fischer和Paterson将通配符 `*` 引入匹配模式中后，字符串匹配问题变得更加通用也更加复杂。\n",
    "\n",
    "常见的字符串匹配算法包括：暴力匹配、KMP算法、前缀搜索、后缀搜索、有限状态机等，这些算法有着不同的时间/空间复杂度，以及不同的实现难度，在实际应用中我们需要根据场景选择合适的字符串匹配算法。"
   ]
  },
  {
   "cell_type": "markdown",
   "metadata": {},
   "source": [
    "# 暴力匹配\n",
    "\n",
    "暴力匹配也叫朴素字符串匹配算法，它的原理很愣头青，就是从文本中不同的位置开始，沿着一定的方向（👉从前向后或从后向前👈）逐个比较文本和模式中对应位置的字符是否相等。如果发现不相等的字符，则继续下一位置重新匹配，如果匹配到模式尾部，则此次匹配成功。\n",
    "\n",
    "## 复杂度分析\n",
    "\n",
    "+ **时间复杂度：** 设本文长度为 $n$，模式长度为 $m$，我们需要对文本中 $n-m+1$ 长度的区域依次进行匹配，每次匹配最多进行 $m$ 次比较， 所以最坏情况下的时间复杂度为 $O((n-m+1) \\cdot m)$。\n",
    "+ **空间复杂度：** 该算法没有预处理过程，也不需要额外的储存空间来缓存字符串，因此空间复杂度为 $O(1)$。"
   ]
  },
  {
   "cell_type": "code",
   "execution_count": null,
   "metadata": {},
   "outputs": [],
   "source": [
    "# 暴力匹配算法实现。\n",
    "import algviz\n",
    "\n",
    "def bruteStringMatch(text, pattern):\n",
    "    if (len(text) < len(pattern)):\n",
    "        return\n",
    "    viz = algviz.Visualizer(1)\n",
    "    tex = viz.createTable(1, len(text), [text], cell_size=25, name='Text', show_index=False)\n",
    "    pat = viz.createTable(1, len(pattern), [pattern], cell_size=25, name='Pattern', show_index=False)\n",
    "    for i in range(len(text)-len(pattern)+1):\n",
    "        for j in range(len(pattern)):\n",
    "            if tex[0][i+j] == pat[0][j]:\n",
    "                tex.mark(algviz.colors[0], 0, i+j)\n",
    "                viz.display()\n",
    "                if j == len(pattern) - 1:\n",
    "                    tex.mark(algviz.colors[1], 0, i)\n",
    "            else:\n",
    "                viz.display()\n",
    "                break\n",
    "        tex.removeMark(algviz.colors[0])\n",
    "        viz.display()\n",
    "        \n",
    "text = 'aaacaaab'\n",
    "pattern = 'aaab'\n",
    "bruteStringMatch(text, pattern)"
   ]
  },
  {
   "cell_type": "markdown",
   "metadata": {},
   "source": [
    "# KMP算法\n",
    "\n",
    "KMP算法的全称为（ Knuth-Morris-Pratt 算法），是对暴力匹配算法的一种改进。通过观察上面的暴力匹配过程可以发现，每一次从一个新的位置开始进行匹配，我们都会不断的扩展文本和模式的**公共子串**，那么能不能从模式字符串的中间部分开始重新匹配呢？  \n",
    "\n",
    "观察一个模式字符串 `ababcbc`，如果我们已经匹配了 `abab`，但是在下一个位置失配了，我们需要从模式字符串的首部重新开始呢？其实，可以直接从模式的位置3处的字符开始匹配，因为在得到的这个公共子串 `abab` 中的前缀和后缀中的 `ab` 是匹配的，所以可以直接跳过。对于每一个失配位置可以跳过多少距离，我们可以提前计算好并放到一个表中（**最大匹配数表** Partial-Match-Table）。令人开心的是，这个预处理过程只需要考虑模式字符串，和文本字符串无关。\n",
    "\n",
    "下面的演示实现了最大匹配数表的构建过程，这是一个递归的过程，【编不下去了。。。。参考知乎。】\n",
    "\n",
    "## 算法复杂度分析\n",
    "\n",
    "+ **时间复杂度：** $O(m+n)$，【TODO】涉及到**摊还原分析**。\n",
    "+ **空间复杂度：** 最大匹配数表的长度等于模式字符串长度，所需储存空间为 $O(m)$。"
   ]
  },
  {
   "cell_type": "code",
   "execution_count": null,
   "metadata": {},
   "outputs": [],
   "source": [
    "# KMP算法实现（递归版本，参考知乎上的回答）。\n",
    "import algviz\n",
    "\n",
    "class KMPStringMatch():\n",
    "    def __init__(self):\n",
    "        self.viz = algviz.Visualizer(delay=1, wait=True)\n",
    "\n",
    "    def getPartialMatchTable(self, pat_):\n",
    "        self.P = len(pat_)\n",
    "        self.pat = self.viz.createTable(1, self.P, [pat_], cell_size=20, name='Pattern', show_index=False)\n",
    "        self.pmt = self.viz.createTable(1, self.P, None, cell_size=20, name='MatchTable', show_index=False)\n",
    "        match, self.pmt[0][0] = 0, 0\n",
    "        for i in range(1, self.P):\n",
    "            while match > 0 and self.pat[0][match] != self.pat[0][i]:\n",
    "                match = self.pmt[0][match - 1]    # 当不匹配的时候，不断回溯。\n",
    "                self.viz.display()\n",
    "            if self.pat[0][match] == self.pat[0][i]:\n",
    "                match += 1                     # 检测是匹配上了还是match到达了模式首部。\n",
    "            self.pmt[0][i] = match\n",
    "            self.viz.display()\n",
    "            \n",
    "    def match(self, txt_):\n",
    "        txt = self.viz.createTable(1, len(txt_), [txt_], cell_size=20, name='Text', show_index=False)\n",
    "        pos = 0\n",
    "        for i in range(len(txt_)):\n",
    "            while pos > 0 and txt[0][i] != self.pat[0][pos]:\n",
    "                pos = self.pmt[0][pos - 1]\n",
    "                self.viz.display()\n",
    "            else:\n",
    "                txt.removeMark(algviz.colors[0])\n",
    "                for j in range(i-pos, i):\n",
    "                    txt.mark(algviz.colors[0], 0, j)\n",
    "            if txt[0][i] == self.pat[0][pos]:\n",
    "                txt.mark(algviz.colors[0], 0, i)\n",
    "                pos += 1\n",
    "            if pos == self.P:\n",
    "                txt.mark(algviz.colors[1], 0, i-pos+1)\n",
    "                pos = self.pmt[0][pos-1]\n",
    "            self.viz.display()\n",
    "        txt.removeMark(algviz.colors[0])\n",
    "        self.viz.display()\n",
    "\n",
    "kmp_solver = KMPStringMatch()\n",
    "pattern = 'ababaac'\n",
    "kmp_solver.getPartialMatchTable(pattern)\n",
    "text = 'abababaacaa'\n",
    "kmp_solver.match(text)"
   ]
  },
  {
   "cell_type": "markdown",
   "metadata": {},
   "source": [
    "# 参考链接\n",
    "\n",
    "+ http://jakeboxer.com/blog/2009/12/13/the-knuth-morris-pratt-algorithm-in-my-own-words/\n",
    "+ https://www.zhihu.com/question/21923021"
   ]
  }
 ],
 "metadata": {
  "kernelspec": {
   "display_name": "Python 3",
   "language": "python",
   "name": "python3"
  },
  "language_info": {
   "codemirror_mode": {
    "name": "ipython",
    "version": 3
   },
   "file_extension": ".py",
   "mimetype": "text/x-python",
   "name": "python",
   "nbconvert_exporter": "python",
   "pygments_lexer": "ipython3",
   "version": "3.8.5"
  }
 },
 "nbformat": 4,
 "nbformat_minor": 4
}
