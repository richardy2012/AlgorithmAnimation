{
 "cells": [
  {
   "cell_type": "markdown",
   "metadata": {},
   "source": [
    "# 零和博弈\n",
    "\n",
    "**对于两者之间的零和博弈（Zero-sum），是指博弈双方有输必有赢，两者输赢次数之和为零。**\n",
    "\n",
    "应用传统决定论中的**“最小最大”**准则（Min-Max），即博弈的每一方都假设对方的所有功略的根本目的是使自己最大程度地失利，并据此最优化自己的对策，诺伊曼从数学上证明，通过一定的线性运算，对于每一个二人零和博弈，都能够找到一个“最小最大解”。"
   ]
  },
  {
   "cell_type": "markdown",
   "metadata": {},
   "source": [
    "## 纳什均衡点\n",
    "\n",
    "纳什平衡（Nash equilibrium），又称为非合作博弈均衡，是博弈论的一个重要术语，以约翰·纳什命名。在一个博弈过程中，无论对方的策略选择如何，当事人一方都会选择某个确定的策略，则该策略被称作支配性策略。如果任意一位参与者在其他所有参与者的策略确定的情况下，其选择的策略是最优的，那么这个组合就被定义为纳什平衡。\n",
    "\n",
    "+ 囚徒困境（经典的非零和博弈例子）\n",
    "\n",
    "    ![囚徒困境](https://wiki.mbalib.com/w/images/d/de/%E5%8D%9A%E5%BC%88%E8%AE%BA-%E5%9B%9A%E5%BE%92%E5%9B%B0%E5%A2%83.jpg)"
   ]
  },
  {
   "cell_type": "markdown",
   "metadata": {},
   "source": [
    "+ [极大极小值问题-猜单词](https://leetcode-cn.com/problems/guess-the-word/)"
   ]
  }
 ],
 "metadata": {
  "kernelspec": {
   "display_name": "Python 3",
   "language": "python",
   "name": "python3"
  },
  "language_info": {
   "codemirror_mode": {
    "name": "ipython",
    "version": 3
   },
   "file_extension": ".py",
   "mimetype": "text/x-python",
   "name": "python",
   "nbconvert_exporter": "python",
   "pygments_lexer": "ipython3",
   "version": "3.8.5"
  }
 },
 "nbformat": 4,
 "nbformat_minor": 4
}
